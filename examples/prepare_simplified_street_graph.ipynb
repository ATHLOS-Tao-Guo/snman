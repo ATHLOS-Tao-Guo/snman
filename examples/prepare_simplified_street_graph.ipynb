{
 "cells": [
  {
   "cell_type": "markdown",
   "source": [
    "Preparing Simplified Street Graph\n",
    "==============================\n",
    "Start with this file.\n",
    "\n",
    "It downloads the raw data from OSM and prepares a simplified street graph, consisting of one node for every intersection and one edge for every street segment. This simplified street graph is also referred to as *centerline graph*. The centerline graph also gets enriched with additional data sources such as public transit routes, elevation or traffic volumes. The resulting data is saved in the *process* folder and can be used by other scripts for further work."
   ],
   "metadata": {
    "collapsed": false
   }
  },
  {
   "cell_type": "code",
   "execution_count": null,
   "outputs": [],
   "source": [
    "import copy, os\n",
    "import snman\n",
    "from snman.constants import *\n",
    "from snman import osmnx_customized as oxc\n",
    "\n",
    "#PERIMETER = 'birchplatz'\n",
    "PERIMETER = 'zrh_north-west'\n",
    "#PERIMETER = 'matsim_zrh5'\n",
    "#PERIMETER = 'bucheggplatz'\n",
    "#PERIMETER = 'hardbruecke'\n",
    "#PERIMETER = 'aarau_buchs_suhr_5km'\n",
    "#PERIMETER = 'aarau_buchs_suhr_10km'\n",
    "#PERIMETER = 'ebc_zrh_v01_10km'\n",
    "#PERIMETER = 'hb'\n",
    "#PERIMETER = 'cambridge_extended'\n",
    "#PERIMETER = 'chicago_logan_sq'\n",
    "#PERIMETER = 'cambridge'\n",
    "#PERIMETER = 'zurich'\n",
    "\n",
    "# set these paths according to your own setup\n",
    "data_directory = os.path.join('C:',os.sep,'Users','lballo','polybox','Research','SNMan','SNMan Shared','data_v2')\n",
    "inputs_path = os.path.join(data_directory, 'inputs')\n",
    "process_path = os.path.join(data_directory, 'process', '_debug')\n",
    "#process_path = os.path.join(data_directory, 'process', PERIMETER)\n",
    "\n",
    "#CRS_internal = 29119    # for Boston\n",
    "#CRS_internal = 32216    # for Chicago\n",
    "CRS_internal = 2056      # for Zurich\n",
    "CRS_for_export = 4326\n",
    "oxc.settings.useful_tags_way = OSM_TAGS"
   ],
   "metadata": {
    "collapsed": false
   }
  },
  {
   "cell_type": "markdown",
   "source": [
    "Loading data\n",
    "------------\n",
    "Loads the necessary datasets, including downloading the raw OSM data"
   ],
   "metadata": {
    "collapsed": false
   }
  },
  {
   "cell_type": "code",
   "execution_count": null,
   "outputs": [],
   "source": [
    "print('Load perimeters')\n",
    "perimeters = snman.io.load_perimeters(\n",
    "    os.path.join(inputs_path, 'perimeters', 'perimeters.shp'),\n",
    "    crs=CRS_internal\n",
    ")\n",
    "\n",
    "print('Get data from OSM server')\n",
    "# At this step, simplification means only removing degree=2 edges\n",
    "G_raw = oxc.graph_from_polygon(\n",
    "    # set the perimeter here\n",
    "    perimeters.to_crs(4326).loc[PERIMETER]['geometry'],\n",
    "    custom_filter=snman.constants.OSM_FILTER,\n",
    "    simplify=True, simplify_strict=False, retain_all=True, one_edge_per_direction=False\n",
    ")\n",
    "\n",
    "if 1:\n",
    "    print('Export raw street graph')\n",
    "    # each street is one edge, the lanes are saved as an attribute\n",
    "    snman.io.export_street_graph(\n",
    "        G_raw,\n",
    "        os.path.join(process_path, 'raw_street_graph_edges.gpkg'),\n",
    "        os.path.join(process_path, 'raw_street_graph_nodes.gpkg'),\n",
    "        crs=CRS_for_export\n",
    "    )\n",
    "\n",
    "G = copy.deepcopy(G_raw)\n",
    "\n",
    "print('Load manual intersections')\n",
    "# polygons used to override the automatically detected intersections in some situations\n",
    "given_intersections_gdf = snman.io.load_intersections(\n",
    "    os.path.join(inputs_path, 'intersection_polygons/intersection_polygons.shp'),\n",
    "    crs=CRS_internal\n",
    ")\n",
    "\n",
    "print('Prepare graph')\n",
    "snman.street_graph.prepare_graph(G)\n",
    "\n",
    "print('Convert CRS of street graph')\n",
    "snman.street_graph.convert_crs(G, CRS_internal)\n",
    "\n",
    "print('Generate lanes')\n",
    "# interpreting the OSM tags into a collection of lanes on each edge\n",
    "snman.space_allocation.generate_lanes(G)\n",
    "\n",
    "print('Filter graph by modes')\n",
    "G = snman.street_graph.filter_lanes_by_modes(G, {MODE_TRANSIT, MODE_PRIVATE_CARS, MODE_CYCLING, MODE_CAR_PARKING})\n",
    "\n",
    "print('Load sensors')\n",
    "sensors_df = snman.io.load_sensors(os.path.join(inputs_path, 'sensors/sensors.csv'))\n",
    "\n",
    "print('Load public transit routes')\n",
    "pt_routes = snman.io.load_public_transit_routes(\n",
    "    #os.path.join(inputs_path, \"switzerland/aarau/public_transit/avk_oevlinien_20221211.shp)\",\n",
    "    os.path.join(inputs_path, \"switzerland/zurich/public_transit/ZVV_LINIEN_GEN_L.shp\"),\n",
    "    perimeter=perimeters.loc[PERIMETER]['geometry']\n",
    ")\n",
    "# keep only bus and tram lines (no micro buses and night buses)\n",
    "pt_routes = pt_routes.query(\"TYPE in ['Bus', 'Tram'] and ALIGNMENT != 'tunnel'\")\n",
    "\n",
    "print('Load parking spots')\n",
    "parking_spots = snman.io.load_parking_spots(os.path.join(inputs_path, 'switzerland/zurich/strassenparkplaetze.gpkg'), crs=CRS_internal)"
   ],
   "metadata": {
    "collapsed": false
   }
  },
  {
   "cell_type": "markdown",
   "source": [
    "Enriching the street graph before simplification\n",
    "------------------------------------------------\n",
    "Enrichment steps that need to be done before simplification"
   ],
   "metadata": {
    "collapsed": false
   }
  },
  {
   "cell_type": "code",
   "execution_count": null,
   "outputs": [],
   "source": [
    "if 1:\n",
    "    print('Add sensors')\n",
    "    snman.enrichment.match_sensors(G, sensors_df)\n",
    "\n",
    "if 1:\n",
    "    print('Identify hierarchy')\n",
    "    # split the edges into hierarchy categories, such as main roads, local roads, etc.\n",
    "    snman.hierarchy.add_hierarchy(G)\n",
    "    \n",
    "if 0:\n",
    "    print('Add parking spaces')\n",
    "    snman.enrichment.match_parking_spots(G, parking_spots)"
   ],
   "metadata": {
    "collapsed": false
   }
  },
  {
   "cell_type": "markdown",
   "source": [
    "Simplification\n",
    "--------------\n",
    "Consolidates intersections and merges edges so that we obtain a centerline graph. The process needs to be repeated a few times to catch all secondary simplification possibilities"
   ],
   "metadata": {
    "collapsed": false
   }
  },
  {
   "cell_type": "code",
   "execution_count": null,
   "outputs": [],
   "source": [
    "if 1:\n",
    "    print('Light simplification of edge geometries')\n",
    "    snman.simplification.simplify_edge_geometries(G, radius=2)\n",
    "\n",
    "for i in range(4):\n",
    "\n",
    "    print('ITERATION', i)\n",
    "    \n",
    "    # here, you can choose whether some roads should be excluded from the simplification\n",
    "    def add_include_in_simplification_to_edge(G, uvk):\n",
    "        data = G.edges[uvk]\n",
    "        #data['_include_in_simplification'] = data.get('hierarchy') != snman.hierarchy.HIGHWAY\n",
    "        data['_include_in_simplification'] = True\n",
    "    snman.graph.apply_function_to_each_edge(G, add_include_in_simplification_to_edge)\n",
    "    \n",
    "    def add_include_in_simplification_to_node(G, n):\n",
    "        uvks = set(G.in_edges(n, keys=True)).union(set(G.out_edges(n, keys=True)))\n",
    "        edges_included_in_simplification = [G.edges[uvk].get('_include_in_simplification') for uvk in uvks]\n",
    "        G.nodes[n]['_include_in_simplification'] = False not in edges_included_in_simplification\n",
    "        #G.nodes[n]['_include_in_simplification'] = True\n",
    "    snman.graph.apply_function_to_each_node(G, add_include_in_simplification_to_node)\n",
    "\n",
    "    print('Detect intersections')\n",
    "    snman.simplification.add_layers_to_nodes(G)\n",
    "    intersections_gdf = snman.simplification.merge_nodes_geometric(\n",
    "        G,\n",
    "        given_intersections_gdf=given_intersections_gdf\n",
    "    )\n",
    "\n",
    "    print('Split through edges in intersections')\n",
    "    snman.simplification.split_through_edges_in_intersections(G, intersections_gdf)\n",
    "\n",
    "    print('Detect intersections (repeat to ensure that no points are outside of intersections)')\n",
    "    snman.simplification.add_layers_to_nodes(G)\n",
    "    intersections_gdf = snman.simplification.merge_nodes_geometric(\n",
    "        G,\n",
    "        given_intersections_gdf=given_intersections_gdf\n",
    "    )\n",
    "    \n",
    "    print('Add layers and hierarchies to nodes')\n",
    "    snman.simplification.add_layers_to_nodes(G)\n",
    "    snman.graph.apply_function_to_each_node(G, snman.street_graph_node.add_hierarchies)\n",
    "\n",
    "    print('Add connections between components in intersections')\n",
    "    snman.simplification.connect_components_in_intersections(G, intersections_gdf, separate_layers=True)\n",
    "\n",
    "    print('Consolidate intersections')\n",
    "    G = snman.simplification.consolidate_intersections(\n",
    "        G, intersections_gdf,\n",
    "        reconnect_edges=True\n",
    "    )\n",
    "\n",
    "    print('Merge consecutive edges')\n",
    "    snman.simplification.add_layers_to_nodes(G)\n",
    "    snman.merge_edges.merge_consecutive_edges(G)\n",
    "\n",
    "    print('Merge parallel edges')\n",
    "    snman.merge_edges.merge_parallel_edges(G)\n",
    "\n",
    "    print('Update precalculated attributes')\n",
    "    snman.street_graph.update_precalculated_attributes(G)\n",
    "\n",
    "print('Heavy simplification of edge geometries')\n",
    "#snman.simplification.simplify_edge_geometries(G)\n",
    "\n",
    "print('Keep only the largest connected component')\n",
    "G = snman.graph.keep_only_the_largest_connected_component(G, weak=True)"
   ],
   "metadata": {
    "collapsed": false
   }
  },
  {
   "cell_type": "markdown",
   "source": [
    "Updating pre-calculated attributes\n",
    "----------------------------------\n",
    "Updates the OSM tags and stats like aggregate lane widths to match the simplified graph"
   ],
   "metadata": {
    "collapsed": false
   }
  },
  {
   "cell_type": "code",
   "execution_count": null,
   "outputs": [],
   "source": [
    "print('Add lane stats to edges')\n",
    "# how many lanes, how wide, etc.\n",
    "snman.space_allocation.generate_lane_stats(G)\n",
    "\n",
    "print('Update OSM tags')\n",
    "# to match the simplified and merged edges\n",
    "snman.space_allocation.update_osm_tags(G)\n",
    "\n",
    "if 0:\n",
    "    print('Update street counts per node')\n",
    "    spn = oxc.stats.count_streets_per_node(G, nodes=G.nodes)\n",
    "    nx.set_node_attributes(G, values=spn, name=\"street_count\")"
   ],
   "metadata": {
    "collapsed": false
   }
  },
  {
   "cell_type": "markdown",
   "source": [
    "Enrichment\n",
    "----------\n",
    "Add additional data to the centerline graph, such as public transit, elevation, and traffic counts"
   ],
   "metadata": {
    "collapsed": false
   }
  },
  {
   "cell_type": "code",
   "execution_count": null,
   "outputs": [],
   "source": [
    "if 0:\n",
    "    print('Add public transit')\n",
    "    snman.enrichment.match_public_transit(G, pt_routes)\n",
    "\n",
    "if 1:\n",
    "    print('Add elevation')\n",
    "    G = oxc.elevation.add_node_elevations_raster(\n",
    "        G,\n",
    "        #os.path.join(inputs_path, 'switzerland', 'switzerland', 'ch_dhm_25', 'ch_dhm_2056.tif'),\n",
    "        #raster_crs=2056,\n",
    "        os.path.join(inputs_path, 'copernicus_dem', 'Copernicus_DSM_10_N41_00_W088_00', 'DEM', 'Copernicus_DSM_10_N41_00_W088_00_DEM.tif'),\n",
    "        raster_crs=4326, #Chicago\n",
    "        graph_crs=CRS_internal,\n",
    "        cpus=1\n",
    "    )\n",
    "    G = oxc.elevation.add_edge_grades(G, add_absolute=False)\n",
    "\n",
    "if 0:\n",
    "    import geopandas as gpd\n",
    "    print('Add traffic counts')\n",
    "    source = gpd.read_file(os.path.join(inputs_path, 'traffic_volumes/npvm_2017_filtered.gpkg')).to_crs(2056)\n",
    "    source['fid'] = source.index\n",
    "    # Remove links with zero traffic (otherwise they will distort the averages on the matched links)\n",
    "    source = source[source['DTV_ALLE'] > 0]\n",
    "    snman.enrichment.match_linestrings(G, source, [\n",
    "        {'source_column': 'DTV_ALLE',   'target_column': 'adt_avg',         'agg': 'avg' },\n",
    "        {'source_column': 'DTV_ALLE',   'target_column': 'adt_max',         'agg': 'max' },\n",
    "        {'source_column': 'FROMNODENO', 'target_column': 'npvm_fromnodeno', 'agg': 'list'},\n",
    "        {'source_column': 'TONODENO',   'target_column': 'npvm_tonodeno',   'agg': 'list'}\n",
    "    ])\n",
    "if 0:\n",
    "    snman.street_graph.add_edge_costs(G)"
   ],
   "metadata": {
    "collapsed": false
   }
  },
  {
   "cell_type": "code",
   "execution_count": null,
   "outputs": [],
   "source": [
    "if 0:\n",
    "    snman.space_allocation.normalize_cycling_lanes(G)"
   ],
   "metadata": {
    "collapsed": false
   }
  },
  {
   "cell_type": "markdown",
   "source": [
    "Export\n",
    "------\n",
    "Save the datasets to the hard drive. All files can be opened in QGIS using the *snman_detailed.qgz* file."
   ],
   "metadata": {
    "collapsed": false
   }
  },
  {
   "cell_type": "code",
   "execution_count": null,
   "outputs": [],
   "source": [
    "if 1:\n",
    "    print('Export street graph')\n",
    "    # each street is one edge, the lanes are saved as an attribute\n",
    "    snman.io.export_street_graph(\n",
    "        G,\n",
    "        os.path.join(process_path, 'street_graph_edges.gpkg'),\n",
    "        os.path.join(process_path, 'street_graph_nodes.gpkg'),\n",
    "        crs=CRS_for_export\n",
    "    )\n",
    "\n",
    "if 1:\n",
    "    print('Export lane geometries')\n",
    "    # each lane has an own geometry and with as an attribute, for visualization purposes\n",
    "    snman.io.export_street_graph_with_lanes(\n",
    "        G,\n",
    "        KEY_LANES_DESCRIPTION,\n",
    "        os.path.join(process_path, 'lane_geometries.shp'),\n",
    "        scaling=1, crs=CRS_for_export\n",
    "    )\n",
    "\n",
    "if 1:\n",
    "    print('Save intersection geometries into a file')\n",
    "    snman.io.export_gdf(\n",
    "        intersections_gdf,\n",
    "        os.path.join(process_path, 'intersections_polygons.gpkg'),\n",
    "        columns=['geometry'], crs=CRS_for_export\n",
    "    )"
   ],
   "metadata": {
    "collapsed": false
   }
  },
  {
   "cell_type": "code",
   "execution_count": null,
   "outputs": [],
   "source": [
    "if 0:\n",
    "    #TODO: OSM Export breaks the street centerline graph when using the boston projection\n",
    "    print('Export as OSM')\n",
    "    snman.io.export_osm_xml(\n",
    "        G,\n",
    "        os.path.join(process_path, 'before.osm'),\n",
    "        EXPORT_OSM_TAGS,\n",
    "        uv_tags=True, as_oneway_links=False, key_lanes_description=KEY_LANES_DESCRIPTION\n",
    "    )\n",
    "    snman.io.export_osm_xml(\n",
    "        G,\n",
    "        os.path.join(process_path, 'before_oneway_links.osm'),\n",
    "        EXPORT_OSM_TAGS,\n",
    "        uv_tags=True, as_oneway_links=True, key_lanes_description=KEY_LANES_DESCRIPTION\n",
    "    )"
   ],
   "metadata": {
    "collapsed": false
   }
  }
 ],
 "metadata": {
  "kernelspec": {
   "display_name": "Python 3",
   "language": "python",
   "name": "python3"
  },
  "language_info": {
   "codemirror_mode": {
    "name": "ipython",
    "version": 2
   },
   "file_extension": ".py",
   "mimetype": "text/x-python",
   "name": "python",
   "nbconvert_exporter": "python",
   "pygments_lexer": "ipython2",
   "version": "2.7.6"
  }
 },
 "nbformat": 4,
 "nbformat_minor": 0
}
