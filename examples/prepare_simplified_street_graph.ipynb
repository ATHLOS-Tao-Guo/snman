{
 "cells": [
  {
   "cell_type": "markdown",
   "source": [],
   "metadata": {
    "collapsed": false
   }
  },
  {
   "cell_type": "code",
   "execution_count": 4,
   "outputs": [],
   "source": [
    "import copy\n",
    "\n",
    "# =====================================================================================\n",
    "# ENVIRONMENT\n",
    "# =====================================================================================\n",
    "\n",
    "import snman\n",
    "from snman.constants import *\n",
    "from snman import osmnx_customized as oxc\n",
    "\n",
    "PERIMETER = 'zrh_north-west'\n",
    "# set SAVE_TO_DEBUG = True for saving the cached network into the _debug folder\n",
    "# which is automatically used in the QGIS files\n",
    "SAVE_TO_DEBUG = True\n",
    "\n",
    "# set these paths according to your own setup\n",
    "data_directory = 'C:/Users/lballo/polybox/Research/SNMan/SNMan Shared/data_v2/'\n",
    "inputs_path = data_directory + 'inputs/'\n",
    "if SAVE_TO_DEBUG:\n",
    "    process_path = data_directory + 'process/' + '_debug' + '/'\n",
    "else:\n",
    "    process_path = data_directory + 'process/' + PERIMETER + '/'\n",
    "\n",
    "oxc.settings.useful_tags_way = OSM_TAGS"
   ],
   "metadata": {
    "collapsed": false,
    "ExecuteTime": {
     "end_time": "2023-05-30T14:46:15.151263500Z",
     "start_time": "2023-05-30T14:46:15.136314300Z"
    }
   }
  },
  {
   "cell_type": "code",
   "execution_count": 5,
   "outputs": [
    {
     "name": "stdout",
     "output_type": "stream",
     "text": [
      "Load perimeters\n",
      "Get data from OSM server\n",
      "Load manual intersections\n",
      "Prepare graph\n",
      "Convert CRS of street graph\n",
      "Generate lanes\n",
      "Filter graph by modes\n"
     ]
    }
   ],
   "source": [
    "# =====================================================================================\n",
    "# LOAD DATA\n",
    "# =====================================================================================\n",
    "\n",
    "print('Load perimeters')\n",
    "perimeters = snman.io.load_perimeters(inputs_path + 'perimeters/perimeters.shp')\n",
    "\n",
    "print('Get data from OSM server')\n",
    "# At this step, simplification means only removing degree=2 edges\n",
    "G_raw = oxc.graph_from_polygon(\n",
    "    # set the perimeter here\n",
    "    perimeters.to_crs(4326).loc[PERIMETER]['geometry'],\n",
    "    custom_filter=snman.constants.OSM_FILTER,\n",
    "    simplify=True, simplify_strict=False, retain_all=True, one_edge_per_direction=False\n",
    ")\n",
    "\n",
    "G = copy.deepcopy(G_raw)\n",
    "\n",
    "print('Load manual intersections')\n",
    "# polygons used to override the automatically detected intersections in some situations\n",
    "given_intersections_gdf = snman.io.load_intersections(\n",
    "    inputs_path + 'intersection_polygons/intersection_polygons.shp'\n",
    ")\n",
    "\n",
    "print('Prepare graph')\n",
    "snman.street_graph.prepare_graph(G)\n",
    "\n",
    "print('Convert CRS of street graph')\n",
    "snman.street_graph.convert_crs(G, DEFAULT_CRS)\n",
    "\n",
    "print('Generate lanes')\n",
    "# interpreting the OSM tags into a collection of lanes on each edge\n",
    "snman.space_allocation.generate_lanes(G)\n",
    "\n",
    "print('Filter graph by modes')\n",
    "G = snman.street_graph.filter_by_modes(G, {MODE_TRANSIT, MODE_PRIVATE_CARS, MODE_CYCLING})"
   ],
   "metadata": {
    "collapsed": false,
    "ExecuteTime": {
     "end_time": "2023-05-30T14:46:17.349627800Z",
     "start_time": "2023-05-30T14:46:15.143290500Z"
    }
   }
  },
  {
   "cell_type": "code",
   "execution_count": 6,
   "outputs": [
    {
     "name": "stdout",
     "output_type": "stream",
     "text": [
      "Export street raw graph graph\n"
     ]
    }
   ],
   "source": [
    "if 1:\n",
    "    print('Export street raw graph graph')\n",
    "    # each street is one edge, the lanes are saved as an attribute\n",
    "    snman.io.export_street_graph(G, process_path + 'raw_street_graph_edges.gpkg', process_path + 'raw_street_graph_nodes.gpkg')"
   ],
   "metadata": {
    "collapsed": false,
    "ExecuteTime": {
     "end_time": "2023-05-30T14:46:18.437545200Z",
     "start_time": "2023-05-30T14:46:17.364275500Z"
    }
   }
  },
  {
   "cell_type": "code",
   "execution_count": 7,
   "outputs": [
    {
     "name": "stdout",
     "output_type": "stream",
     "text": [
      "Load sensors and assign them to edges in the raw street graph\n"
     ]
    }
   ],
   "source": [
    "if 1:\n",
    "    print('Load sensors and assign them to edges in the raw street graph')\n",
    "    sensors_df = snman.io.load_sensors(inputs_path + 'sensors/sensors.csv')\n",
    "    snman.enrichment.match_sensors(G, sensors_df)"
   ],
   "metadata": {
    "collapsed": false,
    "ExecuteTime": {
     "end_time": "2023-05-30T14:46:18.484388400Z",
     "start_time": "2023-05-30T14:46:18.434556300Z"
    }
   }
  },
  {
   "cell_type": "code",
   "execution_count": 8,
   "outputs": [
    {
     "name": "stdout",
     "output_type": "stream",
     "text": [
      "Identify hierarchy\n"
     ]
    }
   ],
   "source": [
    "# =====================================================================================\n",
    "# ENRICH\n",
    "# =====================================================================================\n",
    "\n",
    "if 1:\n",
    "    print('Identify hierarchy')\n",
    "    # split the edges into hierarchy categories, such as main roads, local roads, etc.\n",
    "    snman.hierarchy.add_hierarchy(G)"
   ],
   "metadata": {
    "collapsed": false,
    "ExecuteTime": {
     "end_time": "2023-05-30T14:46:18.523268Z",
     "start_time": "2023-05-30T14:46:18.479405200Z"
    }
   }
  },
  {
   "cell_type": "code",
   "execution_count": 9,
   "outputs": [
    {
     "name": "stdout",
     "output_type": "stream",
     "text": [
      "Simplify edge geometries\n",
      "ITERATION 0\n",
      "Detect intersections\n",
      "Split through edges in intersections\n",
      "Detect intersections (repeat to ensure that no points are outside of intersections)\n",
      "Add layers to nodes\n",
      "Add connections between components in intersections\n",
      "Consolidate intersections\n",
      "Merge consecutive edges\n",
      "Merge parallel edges\n",
      "Update precalculated attributes\n",
      "ITERATION 1\n",
      "Detect intersections\n",
      "Split through edges in intersections\n",
      "Detect intersections (repeat to ensure that no points are outside of intersections)\n",
      "Add layers to nodes\n",
      "Add connections between components in intersections\n",
      "Consolidate intersections\n",
      "Merge consecutive edges\n",
      "Merge parallel edges\n",
      "Update precalculated attributes\n",
      "ITERATION 2\n",
      "Detect intersections\n",
      "Split through edges in intersections\n",
      "Detect intersections (repeat to ensure that no points are outside of intersections)\n",
      "Add layers to nodes\n",
      "Add connections between components in intersections\n",
      "Consolidate intersections\n",
      "Merge consecutive edges\n",
      "Merge parallel edges\n",
      "Update precalculated attributes\n"
     ]
    }
   ],
   "source": [
    "# =====================================================================================\n",
    "# CONSOLIDATE PARALLEL AND CONSECUTIVE EDGES\n",
    "# =====================================================================================\n",
    "if 1:\n",
    "    print('Simplify edge geometries')\n",
    "    snman.simplification.simplify_edge_geometries(G, radius=2)\n",
    "\n",
    "for i in range(3):\n",
    "\n",
    "    print('ITERATION', i)\n",
    "\n",
    "    print('Detect intersections')\n",
    "    intersections_gdf = snman.simplification.merge_nodes_geometric(\n",
    "        G,\n",
    "        given_intersections_gdf=given_intersections_gdf\n",
    "    )\n",
    "\n",
    "    print('Split through edges in intersections')\n",
    "    snman.simplification.split_through_edges_in_intersections(G, intersections_gdf)\n",
    "\n",
    "    print('Detect intersections (repeat to ensure that no points are outside of intersections)')\n",
    "    intersections_gdf = snman.simplification.merge_nodes_geometric(\n",
    "        G,\n",
    "        given_intersections_gdf=given_intersections_gdf\n",
    "    )\n",
    "\n",
    "    print('Add layers to nodes')\n",
    "    snman.simplification.add_layers_to_nodes(G)\n",
    "\n",
    "    print('Add connections between components in intersections')\n",
    "    snman.simplification.connect_components_in_intersections(G, intersections_gdf, separate_layers=True)\n",
    "\n",
    "    print('Consolidate intersections')\n",
    "    G = snman.simplification.consolidate_intersections(\n",
    "        G, intersections_gdf,\n",
    "        reconnect_edges=True\n",
    "    )\n",
    "\n",
    "    print('Merge consecutive edges')\n",
    "    snman.merge_edges.merge_consecutive_edges(G)\n",
    "\n",
    "    print('Merge parallel edges')\n",
    "    snman.merge_edges.merge_parallel_edges(G)\n",
    "\n",
    "    print('Update precalculated attributes')\n",
    "    snman.street_graph.update_precalculated_attributes(G)\n",
    "\n",
    "snman.simplification.simplify_edge_geometries(G)\n",
    "G = snman.graph_utils.keep_only_the_largest_connected_component(G, weak=True)"
   ],
   "metadata": {
    "collapsed": false,
    "ExecuteTime": {
     "end_time": "2023-05-30T14:46:57.729514300Z",
     "start_time": "2023-05-30T14:46:18.498341600Z"
    }
   }
  },
  {
   "cell_type": "code",
   "execution_count": 10,
   "outputs": [
    {
     "name": "stdout",
     "output_type": "stream",
     "text": [
      "Add lane stats to edges\n",
      "Update OSM tags\n"
     ]
    }
   ],
   "source": [
    "# =====================================================================================\n",
    "# UPDATE PRE-CALCULATED ATTRIBUTES\n",
    "# =====================================================================================\n",
    "\n",
    "print('Add lane stats to edges')\n",
    "# how many lanes, how wide, etc.\n",
    "snman.space_allocation.generate_lane_stats(G)\n",
    "\n",
    "print('Update OSM tags')\n",
    "# to match the simplified and merged edges\n",
    "snman.space_allocation.update_osm_tags(G)\n",
    "\n",
    "if 0:\n",
    "    print('Update street counts per node')\n",
    "    # TODO: include in a function for updating pre-calculated attributes, adjust for directed graph\n",
    "    spn = oxc.stats.count_streets_per_node(G, nodes=G.nodes)\n",
    "    nx.set_node_attributes(G, values=spn, name=\"street_count\")"
   ],
   "metadata": {
    "collapsed": false,
    "ExecuteTime": {
     "end_time": "2023-05-30T14:46:57.775714700Z",
     "start_time": "2023-05-30T14:46:57.731508100Z"
    }
   }
  },
  {
   "cell_type": "code",
   "execution_count": 11,
   "outputs": [
    {
     "name": "stdout",
     "output_type": "stream",
     "text": [
      "Add public transport\n",
      "Add elevation\n"
     ]
    }
   ],
   "source": [
    "# =====================================================================================\n",
    "# ENRICH\n",
    "# =====================================================================================\n",
    "\n",
    "if 1:\n",
    "    #TODO: use mapmatching for better performance and accuracy\n",
    "    #TODO: add route direction for one-way sections\n",
    "    print('Add public transport')\n",
    "    pt_network = snman.io.import_geofile_to_gdf(inputs_path + \"public_transit/ZVV_LINIEN_GEN_L.shp\")\n",
    "    snman.enrichment.match_pt(G, pt_network)\n",
    "\n",
    "if 1:\n",
    "    print('Add elevation')\n",
    "    G = oxc.elevation.add_node_elevations_raster(G, inputs_path + 'ch_dhm_25/2056/ch_dhm_2056.tif', cpus=1)\n",
    "    G = oxc.elevation.add_edge_grades(G, add_absolute=False)\n",
    "\n",
    "if 0:\n",
    "    print('Add traffic counts')\n",
    "    source = gpd.read_file(inputs_path + 'traffic_volumes/npvm_2017_filtered.gpkg').to_crs(2056)\n",
    "    source['fid'] = source.index\n",
    "    # Remove links with zero traffic (otherwise they will distort the averages on the matched links)\n",
    "    source = source[source['DTV_ALLE'] > 0]\n",
    "    snman.enrichment.match_linestrings(G, source, [\n",
    "        {'source_column': 'DTV_ALLE',   'target_column': 'adt_avg',         'agg': 'avg' },\n",
    "        {'source_column': 'DTV_ALLE',   'target_column': 'adt_max',         'agg': 'max' },\n",
    "        {'source_column': 'FROMNODENO', 'target_column': 'npvm_fromnodeno', 'agg': 'list'},\n",
    "        {'source_column': 'TONODENO',   'target_column': 'npvm_tonodeno',   'agg': 'list'}\n",
    "    ])"
   ],
   "metadata": {
    "collapsed": false,
    "ExecuteTime": {
     "end_time": "2023-05-30T14:47:43.571195200Z",
     "start_time": "2023-05-30T14:46:57.780698200Z"
    }
   }
  },
  {
   "cell_type": "code",
   "execution_count": 12,
   "outputs": [
    {
     "name": "stdout",
     "output_type": "stream",
     "text": [
      "Export street graph graph\n",
      "Export lane geometries\n",
      "Save intersection geometries into a file\n",
      "Export as OSM\n"
     ]
    }
   ],
   "source": [
    "# =====================================================================================\n",
    "# EXPORT\n",
    "# =====================================================================================\n",
    "\n",
    "if 1:\n",
    "    print('Export street graph graph')\n",
    "    # each street is one edge, the lanes are saved as an attribute\n",
    "    snman.io.export_street_graph(G, process_path + 'street_graph_edges.gpkg', process_path + 'street_graph_nodes.gpkg')\n",
    "\n",
    "if 1:\n",
    "    print('Export lane geometries')\n",
    "    # each lane has an own geometry and with as an attribute, for visualization purposes\n",
    "    snman.io.export_street_graph_with_lanes(G, KEY_LANES_DESCRIPTION, process_path + 'lane_geometries.shp', scaling=2)\n",
    "\n",
    "if 1:\n",
    "    print('Save intersection geometries into a file')\n",
    "    snman.io.export_gdf(intersections_gdf, process_path + 'intersections_polygons.gpkg', columns=['geometry'])\n",
    "\n",
    "if 1:\n",
    "    print('Export as OSM')\n",
    "    snman.io.export_osm_xml(G, process_path + 'osm.osm', EXPORT_OSM_TAGS, uv_tags=True, tag_all_nodes=False)"
   ],
   "metadata": {
    "collapsed": false,
    "ExecuteTime": {
     "end_time": "2023-05-30T14:47:45.420910300Z",
     "start_time": "2023-05-30T14:47:43.573188800Z"
    }
   }
  }
 ],
 "metadata": {
  "kernelspec": {
   "display_name": "Python 3",
   "language": "python",
   "name": "python3"
  },
  "language_info": {
   "codemirror_mode": {
    "name": "ipython",
    "version": 2
   },
   "file_extension": ".py",
   "mimetype": "text/x-python",
   "name": "python",
   "nbconvert_exporter": "python",
   "pygments_lexer": "ipython2",
   "version": "2.7.6"
  }
 },
 "nbformat": 4,
 "nbformat_minor": 0
}
