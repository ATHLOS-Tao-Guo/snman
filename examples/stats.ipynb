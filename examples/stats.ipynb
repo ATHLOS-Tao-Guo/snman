{
 "cells": [
  {
   "cell_type": "code",
   "execution_count": 1,
   "metadata": {
    "collapsed": true,
    "ExecuteTime": {
     "end_time": "2023-05-30T20:05:52.742903Z",
     "start_time": "2023-05-30T20:05:51.167288100Z"
    }
   },
   "outputs": [
    {
     "name": "stderr",
     "output_type": "stream",
     "text": [
      "C:\\Users\\lballo\\AppData\\Roaming\\Python\\Python39\\site-packages\\osmnx\\utils.py:192: UserWarning: The `utils.config` function is deprecated and will be removed in a future release. Instead, use the `settings` module directly to configure a global setting's value. For example, `ox.settings.log_console=True`.\n",
      "  warnings.warn(\n"
     ]
    }
   ],
   "source": [
    "import networkx as nx\n",
    "\n",
    "import snman\n",
    "from snman import osmnx_customized as oxc\n",
    "from snman.constants import *\n",
    "import geopandas as gpd\n",
    "import matplotlib.pyplot as plt\n",
    "\n",
    "PERIMETER = '_debug'\n",
    "\n",
    "# Set these paths according to your own setup\n",
    "data_directory = 'C:/Users/lballo/polybox/Research/SNMan/SNMan Shared/data_v2/'\n",
    "inputs_path = data_directory + 'inputs/'\n",
    "source_path = data_directory + 'outputs/' + PERIMETER + '/'\n",
    "export_path = data_directory + 'metrics/' + '_debug' + '/'"
   ]
  },
  {
   "cell_type": "code",
   "execution_count": 2,
   "outputs": [
    {
     "name": "stdout",
     "output_type": "stream",
     "text": [
      "Load street graph\n"
     ]
    }
   ],
   "source": [
    "# =====================================================================================\n",
    "# LOAD DATA\n",
    "# =====================================================================================\n",
    "\n",
    "print('Load street graph')\n",
    "G = snman.io.load_street_graph(source_path + 'street_graph_edges.gpkg', source_path + 'street_graph_nodes.gpkg')"
   ],
   "metadata": {
    "collapsed": false,
    "ExecuteTime": {
     "end_time": "2023-05-30T20:05:54.225734900Z",
     "start_time": "2023-05-30T20:05:52.744896400Z"
    }
   }
  },
  {
   "cell_type": "code",
   "execution_count": 3,
   "outputs": [],
   "source": [
    "L_before = snman.street_graph.to_lane_graph(G, lanes_attribute=KEY_LANES_DESCRIPTION)\n",
    "L_after = snman.street_graph.to_lane_graph(G, lanes_attribute=KEY_LANES_DESCRIPTION_AFTER)"
   ],
   "metadata": {
    "collapsed": false,
    "ExecuteTime": {
     "end_time": "2023-05-30T20:05:54.303545100Z",
     "start_time": "2023-05-30T20:05:54.226651Z"
    }
   }
  },
  {
   "cell_type": "code",
   "execution_count": 4,
   "outputs": [
    {
     "data": {
      "text/plain": "2341"
     },
     "execution_count": 4,
     "metadata": {},
     "output_type": "execute_result"
    }
   ],
   "source": [
    "L = snman.street_graph.to_lane_graph(\n",
    "    snman.street_graph.filter_lanes_by_modes(G.copy(), {MODE_PRIVATE_CARS}, lane_description_key=KEY_LANES_DESCRIPTION),\n",
    "lanes_attribute=KEY_LANES_DESCRIPTION)\n",
    "len(L.edges)"
   ],
   "metadata": {
    "collapsed": false,
    "ExecuteTime": {
     "end_time": "2023-05-30T20:05:54.474576200Z",
     "start_time": "2023-05-30T20:05:54.365261900Z"
    }
   }
  },
  {
   "cell_type": "code",
   "execution_count": 5,
   "outputs": [
    {
     "data": {
      "text/plain": "{'N_nodes': 934,\n 'N_edges': 2306,\n 'N_strongly_connected_components': 1,\n 'N_weakly_connected_components': 1,\n 'lane_km': 256.238,\n 'lane_surface_km2': 0.982,\n 'lane_surface_km2/km2': 0.075,\n 'lane_km/km2': 19.67,\n 'active_modes_only_lane_km': 0.0,\n 'active_modes_only_lane_km/km2': 0.0,\n 'avg_betweenness_centrality_norm': 0.02133,\n 'avg_shortest_path_length_km': 0.021}"
     },
     "execution_count": 5,
     "metadata": {},
     "output_type": "execute_result"
    }
   ],
   "source": [
    "import pandas as pd\n",
    "\n",
    "L = snman.street_graph.to_lane_graph(\n",
    "    snman.street_graph.filter_lanes_by_modes(G.copy(), {MODE_PRIVATE_CARS}, lane_description_key=KEY_LANES_DESCRIPTION), lanes_attribute=KEY_LANES_DESCRIPTION)\n",
    "L = snman.graph_utils.keep_only_the_largest_connected_component(L)\n",
    "snman.lane_graph.calculate_stats(L)"
   ],
   "metadata": {
    "collapsed": false,
    "ExecuteTime": {
     "end_time": "2023-05-30T20:05:58.455795700Z",
     "start_time": "2023-05-30T20:05:54.520411800Z"
    }
   }
  },
  {
   "cell_type": "code",
   "execution_count": 6,
   "outputs": [],
   "source": [
    "L_cars_before = snman.street_graph.to_lane_graph(\n",
    "    snman.street_graph.filter_lanes_by_modes(G.copy(), {MODE_PRIVATE_CARS}, lane_description_key=KEY_LANES_DESCRIPTION),\n",
    "    lanes_attribute=KEY_LANES_DESCRIPTION\n",
    ")\n",
    "L_cars_before = snman.graph_utils.keep_only_the_largest_connected_component(L_cars_before)\n",
    "\n",
    "\n",
    "L_cars_after = snman.street_graph.to_lane_graph(\n",
    "    snman.street_graph.filter_lanes_by_modes(G.copy(), {MODE_PRIVATE_CARS}, lane_description_key=KEY_LANES_DESCRIPTION_AFTER),\n",
    "    lanes_attribute=KEY_LANES_DESCRIPTION_AFTER\n",
    ")\n",
    "L_cars_after = snman.graph_utils.keep_only_the_largest_connected_component(L_cars_after)"
   ],
   "metadata": {
    "collapsed": false,
    "ExecuteTime": {
     "end_time": "2023-05-30T20:05:58.819144400Z",
     "start_time": "2023-05-30T20:05:58.457788800Z"
    }
   }
  },
  {
   "cell_type": "code",
   "execution_count": 7,
   "outputs": [
    {
     "data": {
      "text/plain": "mode                            private_cars            \nsituation                             before       after\nN_nodes                            934.00000   937.00000\nN_edges                           2306.00000  1960.00000\nN_strongly_connected_components      1.00000     1.00000\nN_weakly_connected_components        1.00000     1.00000\nlane_km                            256.23800   213.85200\nlane_surface_km2                     0.98200     0.80900\nlane_surface_km2/km2                 0.07500     0.06200\nlane_km/km2                         19.67000    16.41600\nactive_modes_only_lane_km            0.00000     0.00000\nactive_modes_only_lane_km/km2        0.00000     0.00000\navg_betweenness_centrality_norm      0.02133     0.02838\navg_shortest_path_length_km          0.02100     0.02800",
      "text/html": "<div>\n<style scoped>\n    .dataframe tbody tr th:only-of-type {\n        vertical-align: middle;\n    }\n\n    .dataframe tbody tr th {\n        vertical-align: top;\n    }\n\n    .dataframe thead tr th {\n        text-align: left;\n    }\n</style>\n<table border=\"1\" class=\"dataframe\">\n  <thead>\n    <tr>\n      <th>mode</th>\n      <th colspan=\"2\" halign=\"left\">private_cars</th>\n    </tr>\n    <tr>\n      <th>situation</th>\n      <th>before</th>\n      <th>after</th>\n    </tr>\n  </thead>\n  <tbody>\n    <tr>\n      <th>N_nodes</th>\n      <td>934.00000</td>\n      <td>937.00000</td>\n    </tr>\n    <tr>\n      <th>N_edges</th>\n      <td>2306.00000</td>\n      <td>1960.00000</td>\n    </tr>\n    <tr>\n      <th>N_strongly_connected_components</th>\n      <td>1.00000</td>\n      <td>1.00000</td>\n    </tr>\n    <tr>\n      <th>N_weakly_connected_components</th>\n      <td>1.00000</td>\n      <td>1.00000</td>\n    </tr>\n    <tr>\n      <th>lane_km</th>\n      <td>256.23800</td>\n      <td>213.85200</td>\n    </tr>\n    <tr>\n      <th>lane_surface_km2</th>\n      <td>0.98200</td>\n      <td>0.80900</td>\n    </tr>\n    <tr>\n      <th>lane_surface_km2/km2</th>\n      <td>0.07500</td>\n      <td>0.06200</td>\n    </tr>\n    <tr>\n      <th>lane_km/km2</th>\n      <td>19.67000</td>\n      <td>16.41600</td>\n    </tr>\n    <tr>\n      <th>active_modes_only_lane_km</th>\n      <td>0.00000</td>\n      <td>0.00000</td>\n    </tr>\n    <tr>\n      <th>active_modes_only_lane_km/km2</th>\n      <td>0.00000</td>\n      <td>0.00000</td>\n    </tr>\n    <tr>\n      <th>avg_betweenness_centrality_norm</th>\n      <td>0.02133</td>\n      <td>0.02838</td>\n    </tr>\n    <tr>\n      <th>avg_shortest_path_length_km</th>\n      <td>0.02100</td>\n      <td>0.02800</td>\n    </tr>\n  </tbody>\n</table>\n</div>"
     },
     "execution_count": 7,
     "metadata": {},
     "output_type": "execute_result"
    }
   ],
   "source": [
    "\n",
    "res = pd.DataFrame([\n",
    "    snman.lane_graph.calculate_stats(\n",
    "        L_cars_before\n",
    "    ),\n",
    "    snman.lane_graph.calculate_stats(\n",
    "        L_cars_after\n",
    "    ),\n",
    "])\n",
    "\n",
    "res['mode'] = [MODE_PRIVATE_CARS, MODE_PRIVATE_CARS]\n",
    "res['situation'] = ['before', 'after']\n",
    "\n",
    "res = res.set_index(['mode', 'situation']).transpose()\n",
    "res"
   ],
   "metadata": {
    "collapsed": false,
    "ExecuteTime": {
     "end_time": "2023-05-30T20:06:05.856895200Z",
     "start_time": "2023-05-30T20:05:58.821137400Z"
    }
   }
  }
 ],
 "metadata": {
  "kernelspec": {
   "display_name": "Python 3",
   "language": "python",
   "name": "python3"
  },
  "language_info": {
   "codemirror_mode": {
    "name": "ipython",
    "version": 2
   },
   "file_extension": ".py",
   "mimetype": "text/x-python",
   "name": "python",
   "nbconvert_exporter": "python",
   "pygments_lexer": "ipython2",
   "version": "2.7.6"
  }
 },
 "nbformat": 4,
 "nbformat_minor": 0
}
