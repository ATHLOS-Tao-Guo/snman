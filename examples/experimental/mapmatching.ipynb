{
 "cells": [
  {
   "cell_type": "markdown",
   "source": [
    "Mapmatching\n",
    "====================\n",
    "Applies lane edits and parking spots to the street graph\n",
    "\n",
    "Prerequisite: Preparing the simplified street graph"
   ],
   "metadata": {
    "collapsed": false
   }
  },
  {
   "cell_type": "code",
   "execution_count": null,
   "outputs": [],
   "source": [
    "import snman\n",
    "from snman.constants import *\n",
    "\n",
    "PERIMETER = '_debug'\n",
    "\n",
    "# Set these paths according to your own setup\n",
    "data_directory = 'C:/Users/lballo/polybox/Research/SNMan/SNMan Shared/data_v2/'\n",
    "inputs_path = data_directory + 'inputs/'\n",
    "process_path = data_directory + 'process/' + PERIMETER + '/'\n",
    "\n",
    "#export_path = data_directory + 'outputs/' + 'matsim_zrh5 v5' + '/'\n",
    "export_path = data_directory + 'mapmatching_test_output/' + PERIMETER + '/'\n",
    "\n",
    "#CRS_internal = 29119    # for Boston\n",
    "CRS_internal = 2056      # for Zurich\n",
    "CRS_for_export = 4326"
   ],
   "metadata": {
    "collapsed": false
   }
  },
  {
   "cell_type": "markdown",
   "source": [
    "Loading data\n",
    "------------\n",
    "Loads the prepared simplified street graph, as well as other datasets such as perimeters, rebuilding regions and measurement regions"
   ],
   "metadata": {
    "collapsed": false
   }
  },
  {
   "cell_type": "code",
   "execution_count": null,
   "outputs": [],
   "source": [
    "print('Load street graph')\n",
    "G = snman.io.load_street_graph(\n",
    "    process_path + 'street_graph_edges.gpkg',\n",
    "    process_path + 'street_graph_nodes.gpkg',\n",
    "    crs=CRS_internal\n",
    ")"
   ],
   "metadata": {
    "collapsed": false
   }
  },
  {
   "cell_type": "code",
   "execution_count": null,
   "outputs": [],
   "source": [
    "import geopandas as gpd\n",
    "import shapely as shp\n",
    "\n",
    "# load parking spaces\n",
    "parking_spots = snman.io.load_parking_spots(inputs_path + 'zurich/strassenparkplaetze.gpkg', crs=CRS_internal)\n",
    "\n",
    "# import source geometries for mapmatching\n",
    "lane_edits = snman.io.load_lane_edits(inputs_path + 'boston/lane_edits.gpkg', crs=CRS_internal)\n"
   ],
   "metadata": {
    "collapsed": false
   }
  },
  {
   "cell_type": "code",
   "execution_count": null,
   "outputs": [],
   "source": [
    "lane_edits.head()"
   ],
   "metadata": {
    "collapsed": false
   }
  },
  {
   "cell_type": "code",
   "execution_count": null,
   "outputs": [],
   "source": [
    "snman.enrichment.match_lane_edits(G, lane_edits)"
   ],
   "metadata": {
    "collapsed": false
   }
  },
  {
   "cell_type": "code",
   "execution_count": null,
   "outputs": [],
   "source": [
    "snman.enrichment.match_parking_spots(G, parking_spots)"
   ],
   "metadata": {
    "collapsed": false
   }
  },
  {
   "cell_type": "markdown",
   "source": [
    "Export\n",
    "------\n",
    "Saves the resulting datasets to the disk. Use the *snman_detailed.qgz* file to view them in QGIS."
   ],
   "metadata": {
    "collapsed": false
   }
  },
  {
   "cell_type": "code",
   "execution_count": null,
   "outputs": [],
   "source": [
    "if 1:\n",
    "    print('Export network without lanes')\n",
    "    snman.io.export_street_graph(\n",
    "        G,\n",
    "        export_path + 'street_graph_edges.gpkg',\n",
    "        export_path + 'street_graph_nodes.gpkg',\n",
    "        crs=CRS_for_export\n",
    "    )\n",
    "\n",
    "if 1:\n",
    "    print('Export lane geometries')\n",
    "    SCALING = 1\n",
    "    snman.io.export_street_graph_with_lanes(\n",
    "        G,\n",
    "        KEY_LANES_DESCRIPTION,\n",
    "        export_path + 'lane_geometries.shp',\n",
    "        scaling=SCALING,\n",
    "        crs=CRS_for_export\n",
    "    )\n",
    "    snman.io.export_street_graph_with_lanes(\n",
    "        G,\n",
    "        KEY_LANES_DESCRIPTION_AFTER,\n",
    "        export_path + 'lane_geometries_after.shp',\n",
    "        scaling=SCALING,\n",
    "        crs=CRS_for_export\n",
    "    )\n",
    "\n",
    "if 0:\n",
    "    print('Export lane graphs')\n",
    "    L_before = snman.street_graph.to_lane_graph(G, KEY_LANES_DESCRIPTION)\n",
    "    L_after = snman.street_graph.to_lane_graph(G, KEY_LANES_DESCRIPTION_AFTER)\n",
    "    snman.io.export_street_graph(\n",
    "        L_before,\n",
    "        export_path + 'lane_graph_edges.gpkg', export_path + 'lane_graph_nodes.gpkg',\n",
    "        crs=CRS_for_export\n",
    "    )\n",
    "    snman.io.export_street_graph(\n",
    "        L_after,\n",
    "        export_path + 'lane_graph_after_edges.gpkg', export_path + 'lane_graph_after_nodes.gpkg',\n",
    "        crs=CRS_for_export\n",
    "    )\n",
    "\n",
    "if 0:\n",
    "    print('Export OSM XML')\n",
    "    snman.io.export_osm_xml(G, export_path + 'new_network.osm', EXPORT_OSM_TAGS, uv_tags=True)"
   ],
   "metadata": {
    "collapsed": false
   }
  }
 ],
 "metadata": {
  "kernelspec": {
   "display_name": "Python 3",
   "language": "python",
   "name": "python3"
  },
  "language_info": {
   "codemirror_mode": {
    "name": "ipython",
    "version": 2
   },
   "file_extension": ".py",
   "mimetype": "text/x-python",
   "name": "python",
   "nbconvert_exporter": "python",
   "pygments_lexer": "ipython2",
   "version": "2.7.6"
  }
 },
 "nbformat": 4,
 "nbformat_minor": 0
}
