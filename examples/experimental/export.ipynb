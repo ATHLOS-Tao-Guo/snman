{
 "cells": [
  {
   "cell_type": "markdown",
   "source": [
    "Export\n",
    "====================\n",
    "Use for (re)exporting a street graph in a different format.\n",
    "\n",
    "For development purposes, e.g., when testing changes in the export functions."
   ],
   "metadata": {
    "collapsed": false
   },
   "id": "a6c252c7a3073ba4"
  },
  {
   "cell_type": "code",
   "execution_count": 1,
   "id": "initial_id",
   "metadata": {
    "collapsed": true,
    "ExecuteTime": {
     "end_time": "2023-11-13T03:14:59.494708100Z",
     "start_time": "2023-11-13T03:14:57.840781900Z"
    }
   },
   "outputs": [
    {
     "name": "stderr",
     "output_type": "stream",
     "text": [
      "C:\\Users\\lballo\\AppData\\Roaming\\Python\\Python39\\site-packages\\osmnx\\utils.py:192: UserWarning: The `utils.config` function is deprecated and will be removed in a future release. Instead, use the `settings` module directly to configure a global setting's value. For example, `ox.settings.log_console=True`.\n",
      "  warnings.warn(\n"
     ]
    }
   ],
   "source": [
    "import snman\n",
    "from snman.constants import *\n",
    "\n",
    "PERIMETER = '_debug'\n",
    "#PERIMETER = 'ebc_zrh_v01_10km'\n",
    "\n",
    "# Set these paths according to your own setup\n",
    "data_directory = 'C:/Users/lballo/polybox/Research/SNMan/SNMan Shared/data_v2/'\n",
    "inputs_path = data_directory + 'inputs/'\n",
    "process_path = data_directory + 'process/' + PERIMETER + '/'\n",
    "outputs_path = data_directory + 'outputs/' + PERIMETER + '/'\n",
    "\n",
    "export_path = process_path\n",
    "\n",
    "CRS_internal = 2056      # for Zurich\n",
    "CRS_for_export = 4326"
   ]
  },
  {
   "cell_type": "code",
   "execution_count": 2,
   "outputs": [
    {
     "name": "stdout",
     "output_type": "stream",
     "text": [
      "Load street graph\n"
     ]
    }
   ],
   "source": [
    "print('Load street graph')\n",
    "G = snman.io.load_street_graph(\n",
    "    process_path + 'street_graph_edges.gpkg',\n",
    "    process_path + 'street_graph_nodes.gpkg',\n",
    "    crs=CRS_internal\n",
    ")"
   ],
   "metadata": {
    "collapsed": false,
    "ExecuteTime": {
     "end_time": "2023-11-13T03:15:18.070477800Z",
     "start_time": "2023-11-13T03:14:59.496708600Z"
    }
   },
   "id": "22c515fdf12294da"
  },
  {
   "cell_type": "code",
   "execution_count": 3,
   "outputs": [],
   "source": [
    "if 1:\n",
    "    snman.io.export_osm_xml(G, export_path + 'before_oneway_links.osm', EXPORT_OSM_TAGS, uv_tags=True, as_oneway_links=True, key_lanes_description=KEY_LANES_DESCRIPTION)"
   ],
   "metadata": {
    "collapsed": false,
    "ExecuteTime": {
     "end_time": "2023-11-13T03:15:29.985109900Z",
     "start_time": "2023-11-13T03:15:18.116979900Z"
    }
   },
   "id": "bd14580932619e16"
  },
  {
   "cell_type": "code",
   "execution_count": 4,
   "outputs": [],
   "source": [
    "if 0:\n",
    "    snman.io.export_osm_xml(G, export_path + 'after.osm', EXPORT_OSM_TAGS, uv_tags=True, as_oneway_links=True,key_lanes_description=KEY_LANES_DESCRIPTION_AFTER)"
   ],
   "metadata": {
    "collapsed": false,
    "ExecuteTime": {
     "end_time": "2023-11-13T03:15:30.000578900Z",
     "start_time": "2023-11-13T03:15:29.988073300Z"
    }
   },
   "id": "687767336150bedd"
  },
  {
   "cell_type": "code",
   "execution_count": null,
   "outputs": [],
   "source": [],
   "metadata": {
    "collapsed": false
   },
   "id": "53772c87bf4049f3"
  }
 ],
 "metadata": {
  "kernelspec": {
   "display_name": "Python 3",
   "language": "python",
   "name": "python3"
  },
  "language_info": {
   "codemirror_mode": {
    "name": "ipython",
    "version": 2
   },
   "file_extension": ".py",
   "mimetype": "text/x-python",
   "name": "python",
   "nbconvert_exporter": "python",
   "pygments_lexer": "ipython2",
   "version": "2.7.6"
  }
 },
 "nbformat": 4,
 "nbformat_minor": 5
}
