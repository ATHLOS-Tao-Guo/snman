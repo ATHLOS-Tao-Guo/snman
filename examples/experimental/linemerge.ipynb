{
 "cells": [
  {
   "cell_type": "code",
   "execution_count": 12,
   "outputs": [
    {
     "name": "stdout",
     "output_type": "stream",
     "text": [
      "MULTILINESTRING ((0 0, 1 1), (1 1, 2 2), (3 3, 2 2))\n"
     ]
    }
   ],
   "source": [
    "from shapely import geometry, ops\n",
    "\n",
    "# create three lines\n",
    "line_a = geometry.LineString([[0,0], [1,1]])\n",
    "line_b = geometry.LineString([[1,1], [2,2]])\n",
    "line_c = geometry.LineString([[3,3], [2,2]])\n",
    "\n",
    "# combine them into a multi-linestring\n",
    "multi_line = geometry.MultiLineString([line_a, line_b, line_c])\n",
    "print(multi_line)"
   ],
   "metadata": {
    "collapsed": false,
    "ExecuteTime": {
     "end_time": "2023-09-19T18:13:20.904341700Z",
     "start_time": "2023-09-19T18:13:20.894298600Z"
    }
   },
   "id": "e33b9333ce4772f9"
  },
  {
   "cell_type": "code",
   "execution_count": 13,
   "outputs": [
    {
     "name": "stdout",
     "output_type": "stream",
     "text": [
      "LINESTRING (0 0, 1 1, 2 2, 3 3)\n"
     ]
    }
   ],
   "source": [
    "# you can now merge the lines\n",
    "merged_line = ops.linemerge(multi_line)\n",
    "print(merged_line)"
   ],
   "metadata": {
    "collapsed": false,
    "ExecuteTime": {
     "end_time": "2023-09-19T18:13:22.350024700Z",
     "start_time": "2023-09-19T18:13:22.327549800Z"
    }
   },
   "id": "fc553d830ddbebf"
  },
  {
   "cell_type": "code",
   "execution_count": null,
   "outputs": [],
   "source": [
    "\n",
    "\n",
    "# if your lines aren't contiguous\n",
    "line_a = geometry.LineString([[0,0], [1,1]])\n",
    "line_b = geometry.LineString([[1,1], [1,0]])\n",
    "line_c = geometry.LineString([[2,0], [3,0]])\n",
    "\n",
    "# combine them into a multi-linestring\n",
    "multi_line = geometry.MultiLineString([line_a, line_b, line_c])\n",
    "print(multi_line)  # prints MULTILINESTRING ((0 0, 1 1), (1 1, 1 0), (2 0, 3 0))\n",
    "\n",
    "# note that it will now merge only the contiguous portions into a component of a new multi-linestring\n",
    "merged_line = ops.linemerge(multi_line)\n",
    "print(merged_line)  # prints MULTILINESTRING ((0 0, 1 1, 1 0), (2 0, 3 0))"
   ],
   "metadata": {
    "collapsed": false
   },
   "id": "578a1510f0299a66"
  }
 ],
 "metadata": {
  "kernelspec": {
   "display_name": "Python 3",
   "language": "python",
   "name": "python3"
  },
  "language_info": {
   "codemirror_mode": {
    "name": "ipython",
    "version": 2
   },
   "file_extension": ".py",
   "mimetype": "text/x-python",
   "name": "python",
   "nbconvert_exporter": "python",
   "pygments_lexer": "ipython2",
   "version": "2.7.6"
  }
 },
 "nbformat": 4,
 "nbformat_minor": 5
}
