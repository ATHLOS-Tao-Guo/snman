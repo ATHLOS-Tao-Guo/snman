{
 "cells": [
  {
   "cell_type": "code",
   "execution_count": 1,
   "id": "initial_id",
   "metadata": {
    "collapsed": true,
    "ExecuteTime": {
     "end_time": "2023-09-22T18:35:17.892839Z",
     "start_time": "2023-09-22T18:35:16.050304900Z"
    }
   },
   "outputs": [
    {
     "name": "stderr",
     "output_type": "stream",
     "text": [
      "C:\\Users\\lballo\\AppData\\Roaming\\Python\\Python39\\site-packages\\osmnx\\utils.py:192: UserWarning: The `utils.config` function is deprecated and will be removed in a future release. Instead, use the `settings` module directly to configure a global setting's value. For example, `ox.settings.log_console=True`.\n",
      "  warnings.warn(\n"
     ]
    }
   ],
   "source": [
    "import snman\n",
    "from snman.constants import *\n",
    "\n",
    "PERIMETER = '_debug'\n",
    "\n",
    "# Set these paths according to your own setup\n",
    "data_directory = 'C:/Users/lballo/polybox/Research/SNMan/SNMan Shared/data_v2/'\n",
    "inputs_path = data_directory + 'inputs/'\n",
    "process_path = data_directory + 'process/' + PERIMETER + '/'\n",
    "\n",
    "#export_path = data_directory + 'outputs/' + 'matsim_zrh5 v5' + '/'\n",
    "export_path = data_directory + 'mapmatching_test_output/' + '_debug' + '/'\n",
    "\n",
    "#CRS_internal = 29119    # for Boston\n",
    "CRS_internal = 2056      # for Zurich\n",
    "CRS_for_export = 4326"
   ]
  },
  {
   "cell_type": "code",
   "execution_count": 2,
   "outputs": [
    {
     "name": "stdout",
     "output_type": "stream",
     "text": [
      "Load street graph\n"
     ]
    }
   ],
   "source": [
    "print('Load street graph')\n",
    "G = snman.io.load_street_graph(\n",
    "    process_path + 'street_graph_edges.gpkg',\n",
    "    process_path + 'street_graph_nodes.gpkg',\n",
    "    crs=CRS_internal\n",
    ")"
   ],
   "metadata": {
    "collapsed": false,
    "ExecuteTime": {
     "end_time": "2023-09-22T18:35:20.502666200Z",
     "start_time": "2023-09-22T18:35:17.889840700Z"
    }
   },
   "id": "ff121634fdcabe7a"
  },
  {
   "cell_type": "code",
   "execution_count": 3,
   "outputs": [],
   "source": [
    "# load parking spaces\n",
    "parking_spots = snman.io.load_parking_spots(inputs_path + 'zurich/strassenparkplaetze.gpkg', crs=CRS_internal)"
   ],
   "metadata": {
    "collapsed": false,
    "ExecuteTime": {
     "end_time": "2023-09-22T18:35:25.760416300Z",
     "start_time": "2023-09-22T18:35:20.503668100Z"
    }
   },
   "id": "ec6da97b816ae6d5"
  },
  {
   "cell_type": "code",
   "execution_count": 4,
   "outputs": [],
   "source": [
    "snman.io.export_gdf(parking_spots, export_path + 'parking_spots_processed.gpkg')"
   ],
   "metadata": {
    "collapsed": false,
    "ExecuteTime": {
     "end_time": "2023-09-22T18:35:29.015977Z",
     "start_time": "2023-09-22T18:35:25.762416100Z"
    }
   },
   "id": "7fc1b696f8c8c58f"
  },
  {
   "cell_type": "code",
   "execution_count": 5,
   "outputs": [
    {
     "data": {
      "text/plain": "<Axes: >"
     },
     "execution_count": 5,
     "metadata": {},
     "output_type": "execute_result"
    },
    {
     "data": {
      "text/plain": "<Figure size 640x480 with 1 Axes>",
      "image/png": "[encoded data removed]"
     },
     "metadata": {},
     "output_type": "display_data"
    }
   ],
   "source": [
    "import numpy as np\n",
    "parking_spots['distance_to_next_space'].hist(bins=np.linspace(0,10,100))"
   ],
   "metadata": {
    "collapsed": false,
    "ExecuteTime": {
     "end_time": "2023-09-22T18:35:29.237988500Z",
     "start_time": "2023-09-22T18:35:29.018977300Z"
    }
   },
   "id": "1bc756639dcaeea8"
  },
  {
   "cell_type": "code",
   "execution_count": 6,
   "outputs": [],
   "source": [
    "snman.enrichment.match_parking_spots(G, parking_spots)"
   ],
   "metadata": {
    "collapsed": false,
    "ExecuteTime": {
     "end_time": "2023-09-22T18:35:43.358920800Z",
     "start_time": "2023-09-22T18:35:29.238979100Z"
    }
   },
   "id": "f3c372c7a6b6958e"
  },
  {
   "cell_type": "code",
   "execution_count": 7,
   "outputs": [
    {
     "name": "stdout",
     "output_type": "stream",
     "text": [
      "Export network without lanes\n",
      "Export lane geometries\n"
     ]
    },
    {
     "name": "stderr",
     "output_type": "stream",
     "text": [
      "C:\\Users\\lballo\\AppData\\Roaming\\Python\\Python39\\site-packages\\geopandas\\io\\file.py:545: UserWarning: You are attempting to write an empty DataFrame to file. For some drivers, this operation may fail.\n",
      "  _to_file_fiona(df, filename, driver, schema, crs, mode, **kwargs)\n"
     ]
    }
   ],
   "source": [
    "if 1:\n",
    "    print('Export network without lanes')\n",
    "    snman.io.export_street_graph(\n",
    "        G,\n",
    "        export_path + 'street_graph_edges.gpkg',\n",
    "        export_path + 'street_graph_nodes.gpkg',\n",
    "        crs=CRS_for_export\n",
    "    )\n",
    "\n",
    "if 1:\n",
    "    print('Export lane geometries')\n",
    "    SCALING = 1\n",
    "    snman.io.export_street_graph_with_lanes(\n",
    "        G,\n",
    "        KEY_LANES_DESCRIPTION,\n",
    "        export_path + 'lane_geometries.shp',\n",
    "        scaling=SCALING,\n",
    "        crs=CRS_for_export\n",
    "    )\n",
    "    snman.io.export_street_graph_with_lanes(\n",
    "        G,\n",
    "        KEY_LANES_DESCRIPTION_AFTER,\n",
    "        export_path + 'lane_geometries_after.shp',\n",
    "        scaling=SCALING,\n",
    "        crs=CRS_for_export\n",
    "    )\n",
    "\n",
    "if 0:\n",
    "    print('Export lane graphs')\n",
    "    L_before = snman.street_graph.to_lane_graph(G, KEY_LANES_DESCRIPTION)\n",
    "    L_after = snman.street_graph.to_lane_graph(G, KEY_LANES_DESCRIPTION_AFTER)\n",
    "    snman.io.export_street_graph(\n",
    "        L_before,\n",
    "        export_path + 'lane_graph_edges.gpkg', export_path + 'lane_graph_nodes.gpkg',\n",
    "        crs=CRS_for_export\n",
    "    )\n",
    "    snman.io.export_street_graph(\n",
    "        L_after,\n",
    "        export_path + 'lane_graph_after_edges.gpkg', export_path + 'lane_graph_after_nodes.gpkg',\n",
    "        crs=CRS_for_export\n",
    "    )\n",
    "\n",
    "if 0:\n",
    "    print('Export OSM XML')\n",
    "    snman.io.export_osm_xml(G, export_path + 'new_network.osm', EXPORT_OSM_TAGS, uv_tags=True)"
   ],
   "metadata": {
    "collapsed": false,
    "ExecuteTime": {
     "end_time": "2023-09-22T18:35:46.046895Z",
     "start_time": "2023-09-22T18:35:43.361920200Z"
    }
   },
   "id": "8fe914ea0556b8fc"
  }
 ],
 "metadata": {
  "kernelspec": {
   "display_name": "Python 3",
   "language": "python",
   "name": "python3"
  },
  "language_info": {
   "codemirror_mode": {
    "name": "ipython",
    "version": 2
   },
   "file_extension": ".py",
   "mimetype": "text/x-python",
   "name": "python",
   "nbconvert_exporter": "python",
   "pygments_lexer": "ipython2",
   "version": "2.7.6"
  }
 },
 "nbformat": 4,
 "nbformat_minor": 5
}
