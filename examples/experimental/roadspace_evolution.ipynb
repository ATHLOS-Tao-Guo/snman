{
 "cells": [
  {
   "cell_type": "markdown",
   "source": [
    "Road space evolution\n",
    "====================\n",
    "Reconstructs the road space allocation in a given year"
   ],
   "metadata": {
    "collapsed": false
   },
   "id": "2a4da893a2ea329e"
  },
  {
   "cell_type": "code",
   "execution_count": 1,
   "id": "initial_id",
   "metadata": {
    "collapsed": true,
    "ExecuteTime": {
     "end_time": "2023-11-25T04:07:38.317908Z",
     "start_time": "2023-11-25T04:07:35.047004500Z"
    }
   },
   "outputs": [
    {
     "name": "stderr",
     "output_type": "stream",
     "text": [
      "C:\\Users\\lballo\\AppData\\Roaming\\Python\\Python39\\site-packages\\osmnx\\utils.py:192: UserWarning: The `utils.config` function is deprecated and will be removed in a future release. Instead, use the `settings` module directly to configure a global setting's value. For example, `ox.settings.log_console=True`.\n",
      "  warnings.warn(\n"
     ]
    }
   ],
   "source": [
    "import os\n",
    "import pandas as pd\n",
    "import geopandas as gpd\n",
    "import snman\n",
    "from snman.constants import *\n",
    "\n",
    "PERIMETER = '_debug'\n",
    "\n",
    "# Set these paths according to your own setup\n",
    "data_directory = os.path.join('C:',os.sep,'Users','lballo','polybox','Research','SNMan','SNMan Shared','data_v2')\n",
    "inputs_path = os.path.join(data_directory, 'inputs')\n",
    "process_path = os.path.join(data_directory, 'process', PERIMETER)\n",
    "\n",
    "export_path = os.path.join(data_directory, 'roadspace_evolution', '_debug')\n",
    "\n",
    "CRS_internal = 29119    # for Boston\n",
    "#CRS_internal = 2056      # for Zurich\n",
    "\n",
    "CRS_for_export = 4326"
   ]
  },
  {
   "cell_type": "markdown",
   "source": [
    "Loading data\n",
    "------------\n",
    "Loads the prepared simplified street graph, as well as other datasets such as perimeters, rebuilding regions and measurement regions"
   ],
   "metadata": {
    "collapsed": false
   },
   "id": "e07b86720ffab21e"
  },
  {
   "cell_type": "code",
   "execution_count": 2,
   "outputs": [
    {
     "name": "stdout",
     "output_type": "stream",
     "text": [
      "Load street graph\n",
      "Load measurement regions\n"
     ]
    }
   ],
   "source": [
    "print('Load street graph')\n",
    "G = snman.io.load_street_graph(\n",
    "    os.path.join(process_path, 'street_graph_edges.gpkg'),\n",
    "    os.path.join(process_path, 'street_graph_nodes.gpkg'),\n",
    "    crs=CRS_internal\n",
    ")\n",
    "print('Load measurement regions')\n",
    "measurement_regions_gdf = snman.io.load_measurement_regions(\n",
    "    os.path.join(inputs_path, 'measurement_regions', 'measurement_regions.gpkg'),\n",
    "    crs=CRS_internal,\n",
    "    only_active=False,\n",
    "    set_filter='cambridge_hex_grid'\n",
    ")"
   ],
   "metadata": {
    "collapsed": false,
    "ExecuteTime": {
     "end_time": "2023-11-25T04:07:42.755917700Z",
     "start_time": "2023-11-25T04:07:38.321930600Z"
    }
   },
   "id": "cb96ff2fc5561896"
  },
  {
   "cell_type": "code",
   "execution_count": 3,
   "outputs": [],
   "source": [
    "lane_updates_cleaned_gpd = snman.io.import_geofile_to_gdf(\n",
    "    os.path.join(export_path, 'lane_updates_cleaned.gpkg'),\n",
    "    crs=CRS_internal\n",
    ")\n",
    "\n",
    "# keep only major cycling infra\n",
    "# excluding shared streets and shared lane pavement markings\n",
    "lane_updates_cleaned_gpd = lane_updates_cleaned_gpd.query('BIKE_FAC not in [2,6,7]')"
   ],
   "metadata": {
    "collapsed": false,
    "ExecuteTime": {
     "end_time": "2023-11-25T04:07:42.850502200Z",
     "start_time": "2023-11-25T04:07:42.781018900Z"
    }
   },
   "id": "62b6bbcf201fd457"
  },
  {
   "cell_type": "code",
   "execution_count": 4,
   "outputs": [],
   "source": [
    "#G = snman.street_graph.filter_lanes_by_modes(G, [MODE_PRIVATE_CARS, MODE_TRANSIT], delete_empty_edges=False)"
   ],
   "metadata": {
    "collapsed": false,
    "ExecuteTime": {
     "end_time": "2023-11-25T04:07:42.864455400Z",
     "start_time": "2023-11-25T04:07:42.850502200Z"
    }
   },
   "id": "681a975a4634831e"
  },
  {
   "cell_type": "code",
   "execution_count": 5,
   "outputs": [],
   "source": [
    "path = os.path.join(inputs_path, 'usa', 'cambridge', 'BikeFacilities_by_year', 'metadata', 'BIKE_FAC Lookup.csv')\n",
    "bike_fac_names = pd.read_csv(path)"
   ],
   "metadata": {
    "collapsed": false,
    "ExecuteTime": {
     "end_time": "2023-11-25T04:07:42.884774900Z",
     "start_time": "2023-11-25T04:07:42.866454800Z"
    }
   },
   "id": "28a29a2ea0612bef"
  },
  {
   "cell_type": "code",
   "execution_count": 6,
   "outputs": [
    {
     "name": "stderr",
     "output_type": "stream",
     "text": [
      "C:\\Users\\lballo\\AppData\\Local\\Temp\\ipykernel_6856\\634994762.py:33: FutureWarning: Currently, index_parts defaults to True, but in the future, it will default to False to be consistent with Pandas. Use `index_parts=True` to keep the current behavior and True/False to silence the warning.\n",
      "  gdf_lines = lane_updates.explode()\n"
     ]
    }
   ],
   "source": [
    "# IMPORT CYCLING FACILITIES IN EACH YEAR AND CREATE THE LN_DESC KEY FOR EVERY YEAR\n",
    "path = os.path.join(inputs_path, 'usa', 'cambridge', 'BikeFacilities_by_year', 'geojson_selected')\n",
    "lane_updates = gpd.GeoDataFrame()\n",
    "\n",
    "lane_keys = {}\n",
    "\n",
    "for filename in os.listdir(path):\n",
    "    \n",
    "    file_path = os.path.join(path, filename)\n",
    "    if not os.path.isfile(file_path):\n",
    "        continue\n",
    "    bike_facilities = snman.io.import_geofile_to_gdf(file_path, crs=CRS_internal)\n",
    "    #bike_facilities = bike_facilities.query(\"BIKE_FAC in [1,5,4,8,9,11,12,41,42,81,82,83,84,92,91]\")\n",
    "    \n",
    "    lane_update = gpd.GeoDataFrame(bike_facilities.geometry)\n",
    "    # extract the year from the file name\n",
    "    year = int(filename[14:18])\n",
    "    lane_update['from_year'] = year\n",
    "    lane_update['to_year'] = year\n",
    "    lane_keys[year] = 'steps_' + str(year)\n",
    "    lane_update['add_lanes'] = lane_update.apply(lambda row: 'L-', axis=1)\n",
    "    lane_update['BIKE_FAC'] = bike_facilities['BIKE_FAC']\n",
    "    lane_updates = pd.concat([lane_updates, lane_update], ignore_index=True)\n",
    "    \n",
    "\n",
    "# prepare the resulting lane updates\n",
    "import shapely as shp\n",
    "lane_updates.geometry = lane_updates.geometry.apply(\n",
    "    lambda geom: shp.ops.linemerge(\n",
    "        snman.geometry_tools.ensure_multilinestring(geom)\n",
    "    )\n",
    ")\n",
    "gdf_lines = lane_updates.explode()\n",
    "gdf_lines.reset_index(drop=True, inplace=True)"
   ],
   "metadata": {
    "collapsed": false,
    "ExecuteTime": {
     "end_time": "2023-11-25T04:07:45.756750Z",
     "start_time": "2023-11-25T04:07:42.905053300Z"
    }
   },
   "id": "d573f5bc96a40ebf"
  },
  {
   "cell_type": "code",
   "execution_count": 7,
   "outputs": [],
   "source": [
    "lane_updates = pd.merge(lane_updates, bike_fac_names, on='BIKE_FAC', how='left').reset_index(drop=True)\n",
    "lane_updates = gpd.GeoDataFrame(lane_updates)\n",
    "snman.io.export_gdf(lane_updates, os.path.join(export_path, 'lane_updates.gpkg'))"
   ],
   "metadata": {
    "collapsed": false,
    "ExecuteTime": {
     "end_time": "2023-11-25T04:07:46.398048Z",
     "start_time": "2023-11-25T04:07:45.751156900Z"
    }
   },
   "id": "e6686a3d742f27a8"
  },
  {
   "cell_type": "code",
   "execution_count": 8,
   "outputs": [
    {
     "name": "stdout",
     "output_type": "stream",
     "text": [
      "2004\n",
      "2005\n",
      "2006\n",
      "2007\n",
      "2008\n",
      "2009\n",
      "2010\n",
      "2011\n",
      "2012\n",
      "2013\n",
      "2014\n",
      "2015\n",
      "2016\n",
      "2017\n",
      "2018\n",
      "2019\n",
      "2020\n",
      "2021\n",
      "2022\n",
      "2023\n"
     ]
    }
   ],
   "source": [
    "# MATCH THE LANE UPDATES ONTO THE STREET GRAPH\n",
    "\n",
    "import copy\n",
    "import geopandas as gpd\n",
    "import shapely as shp\n",
    "\n",
    "for year, lane_key in lane_keys.items():\n",
    "    \n",
    "    print(year)\n",
    "    \n",
    "    for uvk, data in G.edges.items():\n",
    "        data[lane_key] = copy.deepcopy(data[KEY_LANES_DESCRIPTION])\n",
    "    \n",
    "    lanes = gpd.GeoDataFrame(lane_updates_cleaned_gpd.query(f\"from_year <= {year} <= to_year\"))\n",
    "    \n",
    "    lanes_opposite = copy.deepcopy(lanes)\n",
    "    lanes_opposite = lanes_opposite.query('oneway == False')\n",
    "    lanes_opposite.geometry = lanes_opposite.geometry.apply(\n",
    "        lambda geom: shp.ops.substring(geom, 1, 0, normalized=True)\n",
    "    )\n",
    "    \n",
    "    lanes = gpd.GeoDataFrame(pd.concat([lanes, lanes_opposite], ignore_index=True), crs=lanes.crs)\n",
    "\n",
    "    \"\"\"\n",
    "    snman.enrichment.match_lane_edits(G, lanes,\n",
    "        remove_short_overlaps=True,\n",
    "        remove_sidetrips=False,\n",
    "        max_dist=30, max_dist_init=30, max_lattice_width=5,\n",
    "        lanes_key=lane_key\n",
    "    )\n",
    "    \"\"\"\n",
    "    \n",
    "    snman.enrichment.match_linestrings(\n",
    "        G, lanes,\n",
    "        [{'source_column': 'BIKE_FAC', 'target_column': '_factype_' + lane_key, 'agg': 'list'}],\n",
    "        remove_short_overlaps=True,\n",
    "        remove_sidetrips=False,\n",
    "        max_dist=400, max_dist_init=100, max_lattice_width=5,\n",
    "        _save_map=(os.path.join(export_path, '_matching_edges.gpkg'), os.path.join(export_path, '_matching_nodes.gpkg'))\n",
    "    )\n",
    "    "
   ],
   "metadata": {
    "collapsed": false,
    "ExecuteTime": {
     "end_time": "2023-11-25T04:11:09.615135500Z",
     "start_time": "2023-11-25T04:07:46.402104300Z"
    }
   },
   "id": "6780d30b7c7b61fb"
  },
  {
   "cell_type": "code",
   "execution_count": 9,
   "outputs": [],
   "source": [
    "# CALCULATE CHANGE ON EDGES\n",
    "if 1:\n",
    "    for uvk, data in G.edges.items():\n",
    "        \n",
    "        previous_lane_key = None\n",
    "        for year, lane_key in lane_keys.items():\n",
    "            \n",
    "            if previous_lane_key is None:\n",
    "                data['_bike_fac_change_' + lane_key] = 0\n",
    "                \n",
    "            else:\n",
    "            \n",
    "                bike_facilities_previous_year = set(\n",
    "                    data['_factype_' + previous_lane_key + '_forward'] + \n",
    "                    data['_factype_' + previous_lane_key + '_backward']\n",
    "                )\n",
    "                \n",
    "                bike_facilities_this_year = set(\n",
    "                    data['_factype_' + lane_key + '_forward'] + \n",
    "                    data['_factype_' + lane_key + '_backward']\n",
    "                )\n",
    "                \n",
    "                if bike_facilities_this_year != bike_facilities_previous_year:\n",
    "                    data['_bike_fac_change_' + lane_key] = 1\n",
    "                else:\n",
    "                    data['_bike_fac_change_' + lane_key] = 0\n",
    "                \n",
    "            previous_lane_key = lane_key\n",
    "            \n",
    "    edges_df = snman.oxc.graph_to_gdfs(G, nodes=False).assign(x=1)\n",
    "    timeline_df = pd.DataFrame({'year': lane_keys.keys(), 'lanes_key': lane_keys.values()}).assign(x=1)\n",
    "    \n",
    "    changes_df = pd.merge(edges_df, timeline_df, on='x')\n",
    "    \n",
    "    changes_df['change'] = changes_df.apply(lambda row: row['_bike_fac_change_steps_' + str(row['year'])], axis=1)\n",
    "    \n",
    "    changes_df = changes_df.query('change==1')\n",
    "    \n",
    "    changes_df = gpd.GeoDataFrame(changes_df[['osmid', 'year', 'lanes_key', 'change', 'geometry']])\n",
    "    \n",
    "    snman.io.export_gdf(changes_df, os.path.join(export_path, 'edge_changes.gpkg'))"
   ],
   "metadata": {
    "collapsed": false,
    "ExecuteTime": {
     "end_time": "2023-11-25T04:11:10.930008100Z",
     "start_time": "2023-11-25T04:11:09.631135400Z"
    }
   },
   "id": "eafe0b8b1c06418d"
  },
  {
   "cell_type": "code",
   "execution_count": 10,
   "outputs": [],
   "source": [
    "if 0:\n",
    "    def cycling_lanes_length(lanes_key):\n",
    "        L = snman.lane_graph.create_lane_graph(H, lanes_key)\n",
    "        return sum(\n",
    "            [\n",
    "                e['length']\n",
    "                for uvk, e\n",
    "                in L.edges.items()\n",
    "                if e['lanetype'] == LANETYPE_CYCLING_LANE and e['width'] > 0\n",
    "            ]\n",
    "        ) / 1000\n",
    "    \n",
    "    def car_lanes_length(lanes_key):\n",
    "        L = snman.lane_graph.create_lane_graph(H, lanes_key)\n",
    "        return sum(\n",
    "            [\n",
    "                e['length']\n",
    "                for uvk, e\n",
    "                in L.edges.items()\n",
    "                if e['lanetype'] == LANETYPE_MOTORIZED and e['width'] > 0\n",
    "            ]\n",
    "        ) / 1000"
   ],
   "metadata": {
    "collapsed": false,
    "ExecuteTime": {
     "end_time": "2023-11-25T04:11:10.945272Z",
     "start_time": "2023-11-25T04:11:10.931007600Z"
    }
   },
   "id": "d4a26a2d6ac800b4"
  },
  {
   "cell_type": "code",
   "execution_count": 11,
   "outputs": [],
   "source": [
    "# GENERATE METRICS\n",
    "if 0:\n",
    "    import pandas as pd\n",
    "    import copy\n",
    "    \n",
    "    timeline_df = pd.DataFrame()\n",
    "    \n",
    "    for name, data in measurement_regions_gdf.iterrows():\n",
    "        \n",
    "        polygon = data.geometry\n",
    "        H = snman.oxc.truncate.truncate_graph_polygon(G, polygon, quadrat_width=100, retain_all=True)\n",
    "        \n",
    "        timeline_df_one_region = pd.DataFrame({'year': lane_keys.keys(), 'lanes_key': lane_keys.values()})\n",
    "        timeline_df_one_region['measurement_region_name'] = name\n",
    "        timeline_df_one_region['cycling_lanes_length'] = timeline_df_one_region['lanes_key'].apply(cycling_lanes_length)\n",
    "        timeline_df_one_region['change_metric'] = timeline_df_one_region['cycling_lanes_length'].diff().fillna(0)\n",
    "        \n",
    "        #print(timeline_df_one_region)\n",
    "        \n",
    "        timeline_df = pd.concat([timeline_df, timeline_df_one_region], axis=0, ignore_index=True)\n",
    "        \n",
    "        timeline_gdf = gpd.GeoDataFrame(\n",
    "            pd.merge(timeline_df, measurement_regions_gdf, left_on='measurement_region_name', right_index=True, how='left')\n",
    "        )  \n",
    "        \n",
    "        snman.io.export_gdf(timeline_gdf, os.path.join(export_path, 'timeline.gpkg'))"
   ],
   "metadata": {
    "collapsed": false,
    "ExecuteTime": {
     "end_time": "2023-11-25T04:11:10.970294600Z",
     "start_time": "2023-11-25T04:11:10.948291100Z"
    }
   },
   "id": "8abfb74a5b36418f"
  },
  {
   "cell_type": "markdown",
   "source": [
    "Export\n",
    "------\n",
    "Saves the resulting datasets to the disk. Use the *snman_detailed.qgz* file to view them in QGIS."
   ],
   "metadata": {
    "collapsed": false
   },
   "id": "dba46285410c3462"
  },
  {
   "cell_type": "code",
   "execution_count": 12,
   "outputs": [
    {
     "name": "stdout",
     "output_type": "stream",
     "text": [
      "Export network without lanes\n"
     ]
    }
   ],
   "source": [
    "if 1:\n",
    "    print('Export network without lanes')\n",
    "    snman.io.export_street_graph(\n",
    "        G,\n",
    "        os.path.join(export_path, 'street_graph_edges.gpkg'),\n",
    "        os.path.join(export_path, 'street_graph_nodes.gpkg'),\n",
    "        crs=CRS_for_export,\n",
    "        lane_keys=[KEY_LANES_DESCRIPTION, KEY_GIVEN_LANES_DESCRIPTION, KEY_LANES_DESCRIPTION_AFTER] + list(lane_keys.values())\n",
    "    )\n",
    "\n",
    "if 0:\n",
    "    print('Export lane geometries')\n",
    "    SCALING = 1\n",
    "    snman.io.export_street_graph_with_lanes(\n",
    "        G,\n",
    "        list(lane_keys.values()),\n",
    "        os.path.join(export_path, 'lane_geometries.shp'),\n",
    "        scaling=SCALING,\n",
    "        crs=CRS_for_export\n",
    "    )"
   ],
   "metadata": {
    "collapsed": false,
    "ExecuteTime": {
     "end_time": "2023-11-25T04:11:20.217249Z",
     "start_time": "2023-11-25T04:11:11.114472Z"
    }
   },
   "id": "c0195fc9d05df2d5"
  }
 ],
 "metadata": {
  "kernelspec": {
   "display_name": "Python 3",
   "language": "python",
   "name": "python3"
  },
  "language_info": {
   "codemirror_mode": {
    "name": "ipython",
    "version": 2
   },
   "file_extension": ".py",
   "mimetype": "text/x-python",
   "name": "python",
   "nbconvert_exporter": "python",
   "pygments_lexer": "ipython2",
   "version": "2.7.6"
  }
 },
 "nbformat": 4,
 "nbformat_minor": 5
}
