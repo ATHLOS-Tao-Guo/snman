{
 "cells": [
  {
   "cell_type": "markdown",
   "source": [
    "Rebuild street graph\n",
    "====================\n",
    "Loads a street graph and reallocates roads space, e.g., into a network of one-way streets"
   ],
   "metadata": {
    "collapsed": false
   }
  },
  {
   "cell_type": "code",
   "execution_count": 1,
   "outputs": [
    {
     "name": "stderr",
     "output_type": "stream",
     "text": [
      "C:\\Users\\lballo\\AppData\\Roaming\\Python\\Python39\\site-packages\\osmnx\\utils.py:192: UserWarning: The `utils.config` function is deprecated and will be removed in a future release. Instead, use the `settings` module directly to configure a global setting's value. For example, `ox.settings.log_console=True`.\n",
      "  warnings.warn(\n"
     ]
    }
   ],
   "source": [
    "import snman\n",
    "from snman import osmnx_customized as oxc\n",
    "from snman.constants import *\n",
    "import geopandas as gpd\n",
    "\n",
    "PERIMETER = '_debug'\n",
    "# Set SAVE_TO_DEBUG = True for saving the results into the _debug folder\n",
    "# which is automatically used in the QGIS files\n",
    "SAVE_TO_DEBUG = True\n",
    "\n",
    "# Set these paths according to your own setup\n",
    "data_directory = 'C:/Users/lballo/polybox/Research/SNMan/SNMan Shared/data_v2/'\n",
    "inputs_path = data_directory + 'inputs/'\n",
    "process_path = data_directory + 'process/' + PERIMETER + '/'\n",
    "\n",
    "if SAVE_TO_DEBUG:\n",
    "    export_path = data_directory + 'outputs/' + '_debug' + '/'\n",
    "else:\n",
    "    export_path = data_directory + 'outputs/' + PERIMETER + '/'"
   ],
   "metadata": {
    "collapsed": false,
    "ExecuteTime": {
     "end_time": "2023-05-30T15:05:13.083493100Z",
     "start_time": "2023-05-30T15:05:11.420796Z"
    }
   }
  },
  {
   "cell_type": "code",
   "execution_count": 2,
   "outputs": [
    {
     "name": "stdout",
     "output_type": "stream",
     "text": [
      "Load street graph\n"
     ]
    }
   ],
   "source": [
    "# =====================================================================================\n",
    "# LOAD DATA\n",
    "# =====================================================================================\n",
    "\n",
    "print('Load street graph')\n",
    "G = snman.io.load_street_graph(process_path + 'street_graph_edges.gpkg', process_path + 'street_graph_nodes.gpkg')"
   ],
   "metadata": {
    "collapsed": false,
    "ExecuteTime": {
     "end_time": "2023-05-30T15:05:14.606855400Z",
     "start_time": "2023-05-30T15:05:13.086484600Z"
    }
   }
  },
  {
   "cell_type": "code",
   "execution_count": 3,
   "outputs": [
    {
     "name": "stdout",
     "output_type": "stream",
     "text": [
      "Load perimeters\n",
      "Load rebuilding regions\n",
      "Load measurement regions\n"
     ]
    }
   ],
   "source": [
    "print('Load perimeters')\n",
    "perimeters_gdf = snman.io.load_perimeters(inputs_path + 'perimeters/perimeters.shp')\n",
    "\n",
    "print('Load rebuilding regions')\n",
    "# Polygons that define which streets will be reorganized\n",
    "rebuilding_regions_gdf = snman.io.load_rebuilding_regions(\n",
    "    inputs_path + 'rebuilding_regions/rebuilding_regions.gpkg'\n",
    ")\n",
    "\n",
    "print('Load measurement regions')\n",
    "# Polygons that define areas where network measures will be calculated\n",
    "measurement_regions_gdf = snman.io.load_measurement_regions(\n",
    "    inputs_path + 'measurement_regions/measurement_regions.gpkg'\n",
    ")"
   ],
   "metadata": {
    "collapsed": false,
    "ExecuteTime": {
     "end_time": "2023-05-30T15:05:14.764958600Z",
     "start_time": "2023-05-30T15:05:14.653886800Z"
    }
   }
  },
  {
   "cell_type": "code",
   "execution_count": 4,
   "outputs": [
    {
     "name": "stdout",
     "output_type": "stream",
     "text": [
      "Load POIs\n"
     ]
    }
   ],
   "source": [
    "print('Load POIs')\n",
    "poi_gpd = snman.io.load_poi(inputs_path + 'poi/poi.gpkg').clip(perimeters_gdf.loc['zrh_north-west'].geometry)"
   ],
   "metadata": {
    "collapsed": false,
    "ExecuteTime": {
     "end_time": "2023-05-30T15:05:14.825043Z",
     "start_time": "2023-05-30T15:05:14.764958600Z"
    }
   }
  },
  {
   "cell_type": "code",
   "execution_count": 5,
   "outputs": [
    {
     "name": "stdout",
     "output_type": "stream",
     "text": [
      "Initialized graph has  222  nodes and  491  edges\n",
      "Iteration  10\n",
      "Iteration  20\n",
      "Iteration  30\n",
      "Iteration  40\n",
      "Iteration  50\n",
      "Iteration  60\n",
      "Iteration  70\n",
      "Iteration  80\n",
      "Iteration  90\n",
      "Iteration  100\n",
      "Iteration  110\n",
      "Iteration  120\n",
      "Iteration  130\n",
      "Iteration  140\n",
      "Iteration  150\n",
      "Iteration  160\n",
      "Iteration  170\n",
      "Iteration  180\n",
      "Iteration  190\n",
      "Iteration  200\n",
      "Iteration  210\n",
      "Iteration  220\n",
      "Iteration  230\n",
      "Initialized graph has  121  nodes and  345  edges\n",
      "Iteration  10\n",
      "Iteration  20\n",
      "Iteration  30\n",
      "Iteration  40\n",
      "Iteration  50\n",
      "Iteration  60\n",
      "Iteration  70\n",
      "Iteration  80\n",
      "Iteration  90\n",
      "Iteration  100\n",
      "Iteration  110\n",
      "Iteration  120\n",
      "Iteration  130\n",
      "Iteration  140\n",
      "Iteration  150\n",
      "Initialized graph has  265  nodes and  709  edges\n",
      "Iteration  10\n",
      "Iteration  20\n",
      "Iteration  30\n",
      "Iteration  40\n",
      "Iteration  50\n",
      "Iteration  60\n",
      "Iteration  70\n",
      "Iteration  80\n",
      "Iteration  90\n",
      "Iteration  100\n",
      "Iteration  110\n",
      "Iteration  120\n",
      "Iteration  130\n",
      "Iteration  140\n",
      "Iteration  150\n",
      "Iteration  160\n",
      "Iteration  170\n",
      "Iteration  180\n",
      "Iteration  190\n",
      "Iteration  200\n",
      "Iteration  210\n",
      "Iteration  220\n",
      "Iteration  230\n",
      "Iteration  240\n",
      "Iteration  250\n",
      "Iteration  260\n",
      "Iteration  270\n",
      "Iteration  280\n",
      "Iteration  290\n",
      "Iteration  300\n",
      "Iteration  310\n",
      "Iteration  320\n",
      "Iteration  330\n",
      "Iteration  340\n",
      "Iteration  350\n",
      "Iteration  360\n",
      "Iteration  370\n",
      "Iteration  380\n",
      "Iteration  390\n"
     ]
    }
   ],
   "source": [
    "# ---------------------------\n",
    "# rebuild regions\n",
    "# ---------------------------\n",
    "\n",
    "import networkx as nx\n",
    "\n",
    "# initialize lanes after rebuild\n",
    "nx.set_edge_attributes(G, nx.get_edge_attributes(G, KEY_LANES_DESCRIPTION), KEY_LANES_DESCRIPTION_AFTER)\n",
    "\n",
    "for i, rebuilding_region in rebuilding_regions_gdf.iterrows():\n",
    "\n",
    "    hierarchies_to_fix = snman.hierarchy.HIERARCHIES.difference(rebuilding_region['hierarchies_to_include']).union(rebuilding_region['hierarchies_to_fix'])\n",
    "\n",
    "    polygon = rebuilding_region['geometry']\n",
    "    # make subgraph\n",
    "    H = oxc.truncate.truncate_graph_polygon(G, polygon, quadrat_width=100, retain_all=True)\n",
    "    # keep only hierarchies toi include\n",
    "    if len(rebuilding_region['hierarchies_to_include']) > 0:\n",
    "        H = snman.street_graph.filter_by_hierarchy(H, rebuilding_region['hierarchies_to_include'])\n",
    "    # set given lanes according to network rules\n",
    "    snman.distribution.set_given_lanes(\n",
    "        H,\n",
    "        maintain_motorized_access_on_street_level=rebuilding_region['keep_all_streets'],\n",
    "        hierarchies_to_fix=rebuilding_region['hierarchies_to_fix']\n",
    "    )\n",
    "    # get only the car lanes\n",
    "    H = snman.street_graph.filter_by_modes(H, {MODE_PRIVATE_CARS})\n",
    "    # make lane graph\n",
    "    L = snman.street_graph.to_lane_graph(H, KEY_GIVEN_LANES_DESCRIPTION)\n",
    "\n",
    "    snman.io.export_street_graph(H, export_path + 'H_edges.gpkg', export_path + 'H_nodes.gpkg')\n",
    "    snman.io.export_street_graph(L, export_path + 'L_edges.gpkg', export_path + 'L_nodes.gpkg')\n",
    "    L = snman.graph_utils.keep_only_the_largest_connected_component(L)\n",
    "\n",
    "    # link elimination\n",
    "    L = snman.owtop.link_elimination(L, verbose=True)\n",
    "    #snman.io.export_street_graph(L, export_path + 'L_edges.gpkg', export_path + 'L_nodes.gpkg')\n",
    "    # rebuild lanes in subgraph based on new lane graph\n",
    "    snman.owtop.rebuild_lanes_from_owtop_graph(\n",
    "        H,\n",
    "        L,\n",
    "        hierarchies_to_protect=rebuilding_region['hierarchies_to_fix'],\n",
    "        source_lanes_attribute=KEY_LANES_DESCRIPTION_AFTER,\n",
    "        target_lanes_attribute=KEY_LANES_DESCRIPTION_AFTER\n",
    "    )\n",
    "    # write rebuilt lanes from subgraph into the main graph\n",
    "    nx.set_edge_attributes(G, nx.get_edge_attributes(H, KEY_LANES_DESCRIPTION_AFTER), KEY_LANES_DESCRIPTION_AFTER)"
   ],
   "metadata": {
    "collapsed": false,
    "ExecuteTime": {
     "end_time": "2023-05-30T15:06:45.234554600Z",
     "start_time": "2023-05-30T15:05:14.830035500Z"
    }
   }
  },
  {
   "cell_type": "code",
   "execution_count": 6,
   "outputs": [],
   "source": [
    "snman.io.export_street_graph(L, export_path + 'L_edges.gpkg', export_path + 'L_nodes.gpkg')"
   ],
   "metadata": {
    "collapsed": false,
    "ExecuteTime": {
     "end_time": "2023-05-30T15:06:45.545199500Z",
     "start_time": "2023-05-30T15:06:45.234554600Z"
    }
   }
  },
  {
   "cell_type": "code",
   "execution_count": 7,
   "outputs": [],
   "source": [
    "snman.space_allocation.reorder_lanes(G, lanes_attribute=KEY_LANES_DESCRIPTION_AFTER)"
   ],
   "metadata": {
    "collapsed": false,
    "ExecuteTime": {
     "end_time": "2023-05-30T15:06:45.605680Z",
     "start_time": "2023-05-30T15:06:45.546157400Z"
    }
   }
  },
  {
   "cell_type": "code",
   "execution_count": 11,
   "outputs": [
    {
     "name": "stdout",
     "output_type": "stream",
     "text": [
      "Export network without lanes\n",
      "Export network with lanes\n"
     ]
    }
   ],
   "source": [
    "# =====================================================================================\n",
    "# EXPORT\n",
    "# =====================================================================================\n",
    "\n",
    "if 1:\n",
    "    print('Export network without lanes')\n",
    "    snman.io.export_street_graph(G, export_path + 'street_graph_edges.gpkg', export_path + 'street_graph_nodes.gpkg')\n",
    "\n",
    "if 1:\n",
    "    print('Export network with lanes')\n",
    "    SCALING = 4\n",
    "    snman.io.export_street_graph_with_lanes(G, KEY_LANES_DESCRIPTION, export_path + 'lane_geometries.shp', scaling=SCALING)\n",
    "    snman.io.export_street_graph_with_lanes(G, KEY_LANES_DESCRIPTION_AFTER, export_path + 'lane_geometries_after.shp', scaling=SCALING)\n",
    "\n",
    "if 0:\n",
    "    print('Export OSM XML')\n",
    "    snman.io.export_osm_xml(G, export_path + 'new_network.osm', {\n",
    "        'highway', 'lanes', 'lanes:forward', 'lanes:backward', 'lanes:both_ways',\n",
    "        'cycleway', 'cycleway:lane', 'cycleway:left', 'cycleway:left:lane', 'cycleway:right', 'cycleway:right:lane',\n",
    "        'bus:lanes:backward', 'bus:lanes:forward', 'vehicle:lanes:backward', 'vehicle:lanes:forward',\n",
    "        'maxspeed', 'oneway',\n",
    "        '_connected_component'\n",
    "    }, uv_tags=True, tag_all_nodes=True)"
   ],
   "metadata": {
    "collapsed": false,
    "ExecuteTime": {
     "end_time": "2023-05-30T15:26:34.584486400Z",
     "start_time": "2023-05-30T15:26:33.074610600Z"
    }
   }
  },
  {
   "cell_type": "code",
   "execution_count": 16,
   "outputs": [],
   "source": [
    "snman.io.export_street_graph(snman.street_graph.filter_by_modes(\n",
    "    G, {MODE_PRIVATE_CARS}, lane_description_key=KEY_LANES_DESCRIPTION_AFTER), export_path + 'H_edges.gpkg', export_path + 'H_nodes.gpkg'\n",
    ")\n"
   ],
   "metadata": {
    "collapsed": false,
    "ExecuteTime": {
     "end_time": "2023-05-30T17:02:27.806421700Z",
     "start_time": "2023-05-30T17:02:26.783041400Z"
    }
   }
  }
 ],
 "metadata": {
  "kernelspec": {
   "display_name": "Python 3",
   "language": "python",
   "name": "python3"
  },
  "language_info": {
   "codemirror_mode": {
    "name": "ipython",
    "version": 2
   },
   "file_extension": ".py",
   "mimetype": "text/x-python",
   "name": "python",
   "nbconvert_exporter": "python",
   "pygments_lexer": "ipython2",
   "version": "2.7.6"
  }
 },
 "nbformat": 4,
 "nbformat_minor": 0
}
