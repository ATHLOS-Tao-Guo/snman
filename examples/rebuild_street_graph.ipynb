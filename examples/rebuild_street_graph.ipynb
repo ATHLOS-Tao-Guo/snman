{
 "cells": [
  {
   "cell_type": "markdown",
   "source": [
    "Rebuild street graph\n",
    "====================\n",
    "Loads a street graph and reallocates roads space, e.g., into a network of one-way streets.\n",
    "\n",
    "Prerequisite: Preparing the simplified street graph"
   ],
   "metadata": {
    "collapsed": false
   }
  },
  {
   "cell_type": "code",
   "execution_count": null,
   "outputs": [],
   "source": [
    "import snman\n",
    "from snman.constants import *\n",
    "\n",
    "PERIMETER = '_debug'\n",
    "\n",
    "# Set these paths according to your own setup\n",
    "data_directory = 'C:/Users/lballo/polybox/Research/SNMan/SNMan Shared/data_v2/'\n",
    "inputs_path = data_directory + 'inputs/'\n",
    "process_path = data_directory + 'process/' + PERIMETER + '/'\n",
    "\n",
    "export_path = data_directory + 'outputs/' + '_debug' + '/'\n",
    "#export_path = data_directory + 'outputs/' + PERIMETER + '/'"
   ],
   "metadata": {
    "collapsed": false
   }
  },
  {
   "cell_type": "markdown",
   "source": [
    "Loading data\n",
    "------------\n",
    "Loads the prepared simplified street graph, as well as other datasets such as perimeters, rebuilding regions and measurement regions"
   ],
   "metadata": {
    "collapsed": false
   }
  },
  {
   "cell_type": "code",
   "execution_count": null,
   "outputs": [],
   "source": [
    "print('Load street graph')\n",
    "G = snman.io.load_street_graph(process_path + 'street_graph_edges.gpkg', process_path + 'street_graph_nodes.gpkg')"
   ],
   "metadata": {
    "collapsed": false
   }
  },
  {
   "cell_type": "code",
   "execution_count": null,
   "outputs": [],
   "source": [
    "print('Load perimeters')\n",
    "perimeters_gdf = snman.io.load_perimeters(inputs_path + 'perimeters/perimeters.shp')\n",
    "\n",
    "print('Load rebuilding regions')\n",
    "# Polygons that define which streets will be reorganized\n",
    "rebuilding_regions_gdf = snman.io.load_rebuilding_regions(\n",
    "    inputs_path + 'rebuilding_regions/rebuilding_regions.gpkg'\n",
    ")\n",
    "\n",
    "print('Load measurement regions')\n",
    "# Polygons that define areas where network measures will be calculated\n",
    "measurement_regions_gdf = snman.io.load_measurement_regions(\n",
    "    inputs_path + 'measurement_regions/measurement_regions.gpkg'\n",
    ")"
   ],
   "metadata": {
    "collapsed": false
   }
  },
  {
   "cell_type": "markdown",
   "source": [
    "Rebuilding regions\n",
    "------------------\n",
    "Rebuilds the streets in each region, in an order specified in the rebuilding regions file."
   ],
   "metadata": {
    "collapsed": false
   }
  },
  {
   "cell_type": "code",
   "execution_count": null,
   "outputs": [],
   "source": [
    "print('Rebuild regions')\n",
    "snman.rebuilding.rebuild_regions(\n",
    "    G,\n",
    "    rebuilding_regions_gdf,\n",
    "    verbose=True,\n",
    "    export_L=(export_path + 'L_edges.gpkg', export_path + 'L_nodes.gpkg'),\n",
    "    export_H=(export_path + 'H_edges.gpkg', export_path + 'H_nodes.gpkg')\n",
    ")"
   ],
   "metadata": {
    "collapsed": false
   }
  },
  {
   "cell_type": "markdown",
   "source": [
    "Reorder lanes\n",
    "-------------\n",
    "Improve the arrangement of lanes after rebuilding. This step also optimizes the design of the cycling infrastructure, e.g., merging parallel cycling lanes into one or separating cyclists and pedestrians from mixed paths if possible."
   ],
   "metadata": {
    "collapsed": false
   }
  },
  {
   "cell_type": "code",
   "execution_count": null,
   "outputs": [],
   "source": [
    "print('Reorder lanes')\n",
    "snman.space_allocation.reorder_lanes(G, lanes_attribute=KEY_LANES_DESCRIPTION_AFTER)"
   ],
   "metadata": {
    "collapsed": false
   }
  },
  {
   "cell_type": "markdown",
   "source": [
    "Export\n",
    "------\n",
    "Saves the resulting datasets to the disk. Use the *snman_detailed.qgz* file to view them in QGIS."
   ],
   "metadata": {
    "collapsed": false
   }
  },
  {
   "cell_type": "code",
   "execution_count": null,
   "outputs": [],
   "source": [
    "if 1:\n",
    "    print('Export network without lanes')\n",
    "    snman.io.export_street_graph(G, export_path + 'street_graph_edges.gpkg', export_path + 'street_graph_nodes.gpkg')\n",
    "\n",
    "if 1:\n",
    "    print('Export network with lanes')\n",
    "    SCALING = 3\n",
    "    snman.io.export_street_graph_with_lanes(G, KEY_LANES_DESCRIPTION, export_path + 'lane_geometries.shp', scaling=SCALING)\n",
    "    snman.io.export_street_graph_with_lanes(G, KEY_LANES_DESCRIPTION_AFTER, export_path + 'lane_geometries_after.shp', scaling=SCALING)\n",
    "\n",
    "if 0:\n",
    "    print('Export OSM XML')\n",
    "    snman.io.export_osm_xml(G, export_path + 'new_network.osm', EXPORT_OSM_TAGS, uv_tags=True)"
   ],
   "metadata": {
    "collapsed": false
   }
  }
 ],
 "metadata": {
  "kernelspec": {
   "display_name": "Python 3",
   "language": "python",
   "name": "python3"
  },
  "language_info": {
   "codemirror_mode": {
    "name": "ipython",
    "version": 2
   },
   "file_extension": ".py",
   "mimetype": "text/x-python",
   "name": "python",
   "nbconvert_exporter": "python",
   "pygments_lexer": "ipython2",
   "version": "2.7.6"
  }
 },
 "nbformat": 4,
 "nbformat_minor": 0
}
