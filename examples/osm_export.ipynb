{
 "cells": [
  {
   "cell_type": "markdown",
   "source": [
    "OSM export\n",
    "==========\n",
    "Loads a street graph and exports it in OSM format, e.g., for MATSim"
   ],
   "metadata": {
    "collapsed": false
   }
  },
  {
   "cell_type": "code",
   "execution_count": 5,
   "outputs": [],
   "source": [
    "import snman\n",
    "\n",
    "PERIMETER = '_debug'\n",
    "\n",
    "# Set these paths according to your own setup\n",
    "data_directory = 'C:/Users/lballo/polybox/Research/SNMan/SNMan Shared/data_v2/'\n",
    "inputs_path = data_directory + 'inputs/'\n",
    "process_path = data_directory + 'process/' + PERIMETER + '/'"
   ],
   "metadata": {
    "collapsed": false,
    "ExecuteTime": {
     "end_time": "2023-05-06T18:47:45.969513400Z",
     "start_time": "2023-05-06T18:47:45.960539700Z"
    }
   }
  },
  {
   "cell_type": "code",
   "execution_count": 6,
   "outputs": [
    {
     "name": "stdout",
     "output_type": "stream",
     "text": [
      "Load street graph\n"
     ]
    }
   ],
   "source": [
    "# =====================================================================================\n",
    "# LOAD GRAPH\n",
    "# =====================================================================================\n",
    "\n",
    "print('Load street graph')\n",
    "G = snman.io.load_street_graph(process_path + 'street_graph_edges.gpkg', process_path + 'street_graph_nodes.gpkg')"
   ],
   "metadata": {
    "collapsed": false,
    "ExecuteTime": {
     "end_time": "2023-05-06T18:49:43.878587800Z",
     "start_time": "2023-05-06T18:47:45.971503200Z"
    }
   }
  },
  {
   "cell_type": "code",
   "execution_count": 7,
   "outputs": [
    {
     "data": {
      "text/plain": "102662"
     },
     "execution_count": 7,
     "metadata": {},
     "output_type": "execute_result"
    }
   ],
   "source": [
    "len(G.edges)"
   ],
   "metadata": {
    "collapsed": false,
    "ExecuteTime": {
     "end_time": "2023-05-06T18:49:43.926285700Z",
     "start_time": "2023-05-06T18:49:43.878587800Z"
    }
   }
  },
  {
   "cell_type": "code",
   "execution_count": 8,
   "outputs": [
    {
     "name": "stdout",
     "output_type": "stream",
     "text": [
      "Export OSM file\n"
     ]
    }
   ],
   "source": [
    "# =====================================================================================\n",
    "# EXPORT OSM\n",
    "# =====================================================================================\n",
    "\n",
    "print('Export OSM file')\n",
    "export_osm_tags = {\n",
    "        'highway', 'maxspeed',\n",
    "        'lanes', 'lanes:forward', 'lanes:backward', 'lanes:both_ways', 'oneway',\n",
    "        'cycleway', 'cycleway:lane', 'cycleway:left', 'cycleway:left:lane', 'cycleway:right', 'cycleway:right:lane',\n",
    "        'bus:lanes:backward', 'bus:lanes:forward', 'vehicle:lanes:backward', 'vehicle:lanes:forward',\n",
    "        '_connected_component'\n",
    "    }\n",
    "\n",
    "snman.io.export_osm_xml(G, process_path + 'osm.osm', export_osm_tags, uv_tags=True, tag_all_nodes=False)"
   ],
   "metadata": {
    "collapsed": false,
    "ExecuteTime": {
     "end_time": "2023-05-06T18:50:22.921860400Z",
     "start_time": "2023-05-06T18:49:43.928331300Z"
    }
   }
  }
 ],
 "metadata": {
  "kernelspec": {
   "display_name": "Python 3",
   "language": "python",
   "name": "python3"
  },
  "language_info": {
   "codemirror_mode": {
    "name": "ipython",
    "version": 2
   },
   "file_extension": ".py",
   "mimetype": "text/x-python",
   "name": "python",
   "nbconvert_exporter": "python",
   "pygments_lexer": "ipython2",
   "version": "2.7.6"
  }
 },
 "nbformat": 4,
 "nbformat_minor": 0
}
