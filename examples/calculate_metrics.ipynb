{
 "cells": [
  {
   "cell_type": "markdown",
   "source": [
    "Calculate Metrics\n",
    "=================\n",
    "Calculates a number of metrics for an already existing street graph with lanes before and after\n",
    "\n",
    "Prerequisites: Prepare the street graph and rebuild it"
   ],
   "metadata": {
    "collapsed": false
   }
  },
  {
   "cell_type": "code",
   "execution_count": null,
   "outputs": [],
   "source": [
    "import snman\n",
    "from snman.constants import *\n",
    "\n",
    "PERIMETER = '_debug'\n",
    "\n",
    "# Set these paths according to your own setup\n",
    "data_directory = 'C:/Users/lballo/polybox/Research/SNMan/SNMan Shared/data_v2/'\n",
    "inputs_path = data_directory + 'inputs/'\n",
    "outputs_path = data_directory + 'outputs/' + PERIMETER + '/'\n",
    "#metrics_path = data_directory + 'metrics/' + '_debug' + '/'\n",
    "metrics_path = data_directory + 'metrics/' + PERIMETER + '/'"
   ],
   "metadata": {
    "collapsed": false
   }
  },
  {
   "cell_type": "markdown",
   "source": [
    "Loading data\n",
    "------------\n",
    "Loads the street graph and measurement regions"
   ],
   "metadata": {
    "collapsed": false
   }
  },
  {
   "cell_type": "code",
   "execution_count": null,
   "outputs": [],
   "source": [
    "print('Load street graph')\n",
    "G = snman.io.load_street_graph(outputs_path + 'street_graph_edges.gpkg', outputs_path + 'street_graph_nodes.gpkg')\n",
    "\n",
    "print('Load measurement regions')\n",
    "measurement_regions_gdf = snman.io.load_measurement_regions(inputs_path + 'measurement_regions/measurement_regions.gpkg',)"
   ],
   "metadata": {
    "collapsed": false
   }
  },
  {
   "cell_type": "markdown",
   "source": [
    "Calculating metrics\n",
    "-------------------\n",
    "This step will calculate a series of network metrics for lane graphs of different modes before and after rebuilding.\n",
    "Please note that all calculations only work with strongly connected graphs. Therefore, all lane graphs will be automatically clipped only to the largest strongly connected component. Set *plot_scc=True* to show which parts of the graphs are removed (nodes are colored by their strongly connected component). Most likely, there will always be a few nodes that must be removed. But if they are many, then the results will be distorted.\n",
    "\n",
    "For better accuracy, it's recommended that you adjust the perimeter of your network such that there are no nodes outside the largest connected component."
   ],
   "metadata": {
    "collapsed": false
   }
  },
  {
   "cell_type": "code",
   "execution_count": null,
   "outputs": [],
   "source": [
    "# filter out the highways\n",
    "G_filtered = snman.street_graph.filter_by_hierarchy(G, snman.hierarchy.HIERARCHIES.difference(snman.hierarchy.HIGHWAY))"
   ],
   "metadata": {
    "collapsed": false
   }
  },
  {
   "cell_type": "code",
   "execution_count": null,
   "outputs": [],
   "source": [
    "# calculate the metrics\n",
    "metrics = snman.stats.network_metrics_for_all_measurement_regions(G_filtered, measurement_regions_gdf, plot_scc=True)"
   ],
   "metadata": {
    "collapsed": false
   }
  },
  {
   "cell_type": "markdown",
   "source": [
    "Viewing the metrics\n",
    "-------------------\n",
    "The metrics are saved as a dict of DataFrames, one for each measurement region.\n",
    "See the docustring of snman.lane_graph.calculate_stats for an explanation of the measures."
   ],
   "metadata": {
    "collapsed": false
   }
  },
  {
   "cell_type": "code",
   "execution_count": null,
   "outputs": [],
   "source": [
    "metrics['zurich_city'].to_excel(metrics_path + 'metrics_zurich_city.xlsx', index=True)"
   ],
   "metadata": {
    "collapsed": false
   }
  },
  {
   "cell_type": "code",
   "execution_count": null,
   "outputs": [],
   "source": [
    "metrics['zurich_city']"
   ],
   "metadata": {
    "collapsed": false
   }
  },
  {
   "cell_type": "code",
   "execution_count": null,
   "outputs": [],
   "source": [
    "import snman.osmnx_customized as oxc\n",
    "import pandas as pd\n",
    "import matplotlib.pyplot as plt\n",
    "from matplotlib.patches import Patch\n",
    "\n",
    "OSM_HIGHWAY_ORDER = [\n",
    "    'primary', 'secondary', 'tertiary',\n",
    "    'service', 'residential', 'living_street',\n",
    "    'cycleway', 'footway', 'path', 'unclassified',\n",
    "    '(other)'\n",
    "]\n",
    "\n",
    "plt.rcParams[\"figure.dpi\"] = 300\n",
    "plt.rcParams[\"font.family\"] = \"Arial\"\n",
    "\n",
    "H = oxc.truncate.truncate_graph_polygon(\n",
    "    G_filtered,\n",
    "    measurement_regions_gdf.loc[2].geometry,\n",
    "    quadrat_width=100, retain_all=True\n",
    ")\n",
    "\n",
    "sums = []\n",
    "for ln_desc in [KEY_LANES_DESCRIPTION, KEY_LANES_DESCRIPTION_AFTER]:\n",
    "    L = snman.street_graph.to_lane_graph(H, ln_desc)\n",
    "    L = snman.graph_utils.keep_only_the_largest_connected_component(L)\n",
    "    L_gdf = oxc.graph_to_gdfs(L, nodes=False)\n",
    "    L_gdf['osm_highway'] = L_gdf['osm_highway'].apply(lambda x: x if x in OSM_HIGHWAY_ORDER else '(other)')\n",
    "    L_gdf['osm_highway'] = pd.Categorical(L_gdf['osm_highway'], OSM_HIGHWAY_ORDER)\n",
    "    L_gdf['area'] = L_gdf['length'] * L_gdf['width'] * L_gdf['twin_factor']\n",
    "    sum_area = sum(L_gdf['area'])\n",
    "    L_gdf['area_pct'] = 100 * L_gdf['area'] / sum_area\n",
    "    L_gdf = L_gdf[L_gdf['primary_mode'] == 'cycling']\n",
    "    print(sum(L_gdf['area']) / 1000000, 'km2')\n",
    "    print(sum(L_gdf['area_pct']), '%')\n",
    "    sums.append(L_gdf.groupby(['osm_highway'])['area_pct'].sum())\n",
    "\n",
    "merged = pd.merge(*sums, left_index=True, right_index=True)\n",
    "#merged['key'] = merged.index\n",
    "#merged.to_excel(metrics_path + 'metrics_area.xlsx', index=True)\n",
    "\n",
    "# Sort the dataframe in descending order\n",
    "#merged = merged.sort_values(by='osm_highway', ascending=False)\n",
    "merged = merged.T\n",
    "merged.index = ['before', 'after']\n",
    "#merged = merged.sort_values(by=merged.columns.tolist(), ascending=False)\n",
    "\n",
    "# Create a stacked bar plot\n",
    "ax = merged.plot(kind='barh', stacked=True, figsize=(6, 3), edgecolor='white', linewidth=0.3)\n",
    "\n",
    "\n",
    "# Create the custom legend\n",
    "#ax.legend(legend_handles, legend_colors.keys())\n",
    "\n",
    "# Customize the plot\n",
    "ax.set_xlabel('% of total road space')\n",
    "ax.set_title('Stacked Bar Plot')\n",
    "ax.set_xlim(0, 100)\n",
    "\n",
    "# Add values to the stack plot\n",
    "up = 0\n",
    "for index, row in merged.iterrows():\n",
    "    stack_right = 0\n",
    "    for column in merged.columns:\n",
    "        value = row[column]\n",
    "        ax.annotate(\n",
    "            str(round(value,1)) + '%' if value >= 2 else '',\n",
    "            xy=(stack_right + value/2, up),\n",
    "            ha='center', va='center', rotation=90\n",
    "        )\n",
    "        stack_right += value\n",
    "    up += 1\n",
    "\n",
    "ax.legend(bbox_to_anchor=(1, 1), loc='upper left')\n",
    "plt.tight_layout(rect=[0, 0, 1, 1])\n",
    "\n",
    "plt.savefig(metrics_path + 'plot.png')\n",
    "\n",
    "# Show the plot\n",
    "plt.show()\n"
   ],
   "metadata": {
    "collapsed": false
   }
  },
  {
   "cell_type": "code",
   "execution_count": null,
   "outputs": [],
   "source": [
    "merged.T.to_excel(metrics_path + 'metrics_cycling_perc.xlsx', index=True)"
   ],
   "metadata": {
    "collapsed": false
   }
  },
  {
   "cell_type": "code",
   "execution_count": null,
   "outputs": [],
   "source": [
    "L = snman.street_graph.to_lane_graph(G, KEY_LANES_DESCRIPTION)\n",
    "oxc.graph_to_gdfs(L, nodes=False)"
   ],
   "metadata": {
    "collapsed": false
   }
  }
 ],
 "metadata": {
  "kernelspec": {
   "display_name": "Python 3",
   "language": "python",
   "name": "python3"
  },
  "language_info": {
   "codemirror_mode": {
    "name": "ipython",
    "version": 2
   },
   "file_extension": ".py",
   "mimetype": "text/x-python",
   "name": "python",
   "nbconvert_exporter": "python",
   "pygments_lexer": "ipython2",
   "version": "2.7.6"
  }
 },
 "nbformat": 4,
 "nbformat_minor": 0
}
