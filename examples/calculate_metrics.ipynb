{
 "cells": [
  {
   "cell_type": "markdown",
   "source": [
    "Calculate Metrics\n",
    "=================\n",
    "Calculates a number of metrics for an already existing street graph with lanes before and after\n",
    "\n",
    "Prerequisites: Prepare the street graph and rebuild it"
   ],
   "metadata": {
    "collapsed": false
   }
  },
  {
   "cell_type": "code",
   "execution_count": null,
   "outputs": [],
   "source": [
    "import snman\n",
    "from snman.constants import *\n",
    "\n",
    "PERIMETER = '_debug'\n",
    "\n",
    "# Set these paths according to your own setup\n",
    "data_directory = 'C:/Users/lballo/polybox/Research/SNMan/SNMan Shared/data_v2/'\n",
    "inputs_path = data_directory + 'inputs/'\n",
    "outputs_path = data_directory + 'outputs/' + PERIMETER + '/'\n",
    "metrics_path = data_directory + 'metrics/' + '_debug' + '/'"
   ],
   "metadata": {
    "collapsed": false
   }
  },
  {
   "cell_type": "markdown",
   "source": [
    "Loading data\n",
    "------------\n",
    "Loads the street graph and measurement regions"
   ],
   "metadata": {
    "collapsed": false
   }
  },
  {
   "cell_type": "code",
   "execution_count": null,
   "outputs": [],
   "source": [
    "print('Load street graph')\n",
    "G = snman.io.load_street_graph(outputs_path + 'street_graph_edges.gpkg', outputs_path + 'street_graph_nodes.gpkg')\n",
    "\n",
    "print('Load measurement regions')\n",
    "measurement_regions_gdf = snman.io.load_measurement_regions(inputs_path + 'measurement_regions/measurement_regions.gpkg',)"
   ],
   "metadata": {
    "collapsed": false
   }
  },
  {
   "cell_type": "markdown",
   "source": [
    "Calculating metrics\n",
    "-------------------\n",
    "This step will calculate a series of network metrics for lane graphs of different modes before and after rebuilding.\n",
    "Please note that all calculations only work with strongly connected graphs. Therefore, all lane graphs will be automatically clipped only to the largest strongly connected component. Set *plot_scc=True* to show which parts of the graphs are removed (nodes are colored by their strongly connected component). Most likely, there will always be a few nodes that must be removed. But if they are many, then the results will be distorted.\n",
    "\n",
    "For better accuracy, it's recommended that you adjust the perimeter of your network such that there are no nodes outside the largest connected component."
   ],
   "metadata": {
    "collapsed": false
   }
  },
  {
   "cell_type": "code",
   "execution_count": null,
   "outputs": [],
   "source": [
    "# filter out the highways\n",
    "G_filtered = snman.street_graph.filter_by_hierarchy(G, snman.hierarchy.HIERARCHIES.difference(snman.hierarchy.HIGHWAY))\n",
    "\n",
    "# calculate the metrics\n",
    "metrics = snman.stats.network_metrics_for_all_measurement_regions(G_filtered, measurement_regions_gdf, plot_scc=True)"
   ],
   "metadata": {
    "collapsed": false
   }
  },
  {
   "cell_type": "markdown",
   "source": [
    "Viewing the metrics\n",
    "-------------------\n",
    "The metrics are saved as a dict of DataFrames, one for each measurement region.\n",
    "See the docustring of snman.lane_graph.calculate_stats for an explanation of the measures."
   ],
   "metadata": {
    "collapsed": false
   }
  },
  {
   "cell_type": "code",
   "execution_count": null,
   "outputs": [],
   "source": [
    "metrics['zurich_city'].to_excel(metrics_path + 'metrics_zurich_city.xlsx', index=True)"
   ],
   "metadata": {
    "collapsed": false
   }
  }
 ],
 "metadata": {
  "kernelspec": {
   "display_name": "Python 3",
   "language": "python",
   "name": "python3"
  },
  "language_info": {
   "codemirror_mode": {
    "name": "ipython",
    "version": 2
   },
   "file_extension": ".py",
   "mimetype": "text/x-python",
   "name": "python",
   "nbconvert_exporter": "python",
   "pygments_lexer": "ipython2",
   "version": "2.7.6"
  }
 },
 "nbformat": 4,
 "nbformat_minor": 0
}
