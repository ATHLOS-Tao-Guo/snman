{
 "cells": [
  {
   "cell_type": "markdown",
   "source": [
    "Rebuild street graph\n",
    "====================\n",
    "Loads a street graph and reallocates roads space, e.g., into a network of one-way streets.\n",
    "\n",
    "Prerequisite: Preparing the simplified street graph"
   ],
   "metadata": {
    "collapsed": false
   }
  },
  {
   "cell_type": "code",
   "execution_count": null,
   "outputs": [],
   "source": [
    "import snman, os\n",
    "from snman.constants import *\n",
    "\n",
    "PERIMETER = '_debug'\n",
    "\n",
    "# Set these paths according to your own setup\n",
    "data_directory = os.path.join('C:',os.sep,'Users','lballo','polybox','Research','SNMan','SNMan Shared','data_v2')\n",
    "inputs_path = os.path.join(data_directory, 'inputs')\n",
    "process_path = os.path.join(data_directory, 'process', PERIMETER)\n",
    "export_path = os.path.join(data_directory, 'outputs', PERIMETER)\n",
    "\n",
    "#CRS_internal = 29119    # for Boston\n",
    "CRS_internal = 2056      # for Zurich\n",
    "CRS_for_export = 4326"
   ],
   "metadata": {
    "collapsed": false
   }
  },
  {
   "cell_type": "markdown",
   "source": [
    "Loading data\n",
    "------------\n",
    "Loads the prepared simplified street graph, as well as other datasets such as perimeters, rebuilding regions and measurement regions"
   ],
   "metadata": {
    "collapsed": false
   }
  },
  {
   "cell_type": "code",
   "execution_count": null,
   "outputs": [],
   "source": [
    "print('Load street graph')\n",
    "G = snman.io.load_street_graph(\n",
    "    os.path.join(process_path, 'street_graph_edges.gpkg'),\n",
    "    os.path.join(process_path, 'street_graph_nodes.gpkg'),\n",
    "    crs=CRS_internal\n",
    ")"
   ],
   "metadata": {
    "collapsed": false
   }
  },
  {
   "cell_type": "code",
   "execution_count": null,
   "outputs": [],
   "source": [
    "print('Load perimeters')\n",
    "perimeters_gdf = snman.io.load_perimeters(os.path.join(inputs_path, 'perimeters', 'perimeters.shp'), crs=CRS_internal)\n",
    "\n",
    "print('Load rebuilding regions')\n",
    "# Polygons that define which streets will be reorganized\n",
    "rebuilding_regions_gdf = snman.io.load_rebuilding_regions(\n",
    "    os.path.join(inputs_path, 'rebuilding_regions', 'rebuilding_regions.gpkg'),\n",
    "    only_active=False,\n",
    "    filter_ids=['zrh-main', 'zrh-4', 'zrh-6'],\n",
    "    crs=CRS_internal\n",
    ")"
   ],
   "metadata": {
    "collapsed": false
   }
  },
  {
   "cell_type": "code",
   "execution_count": null,
   "outputs": [],
   "source": [
    "snman.rebuilding.multi_rebuild_regions(\n",
    "    G, \n",
    "    rebuilding_regions_gdf,\n",
    "    width_attribute=KEY_LANES_DESCRIPTION + '_width_total_m',\n",
    "    rebuilding_function=snman.rebuilding.multi_rebuild,\n",
    "    given_lanes_function=snman.rebuilding.multi_set_given_lanes,\n",
    "    public_transit_mode='mandatory_like_existing',\n",
    "    parking_mode='mandatory_like_existing',\n",
    "    needed_node_access_function=snman.rebuilding.multi_set_needed_node_access,\n",
    "    existing_lanes_attribute=KEY_LANES_DESCRIPTION,\n",
    "    given_lanes_attribute=KEY_GIVEN_LANES_DESCRIPTION,\n",
    "    target_lanes_attribute=KEY_LANES_DESCRIPTION_AFTER,\n",
    "    export_L=(export_path + 'L_edges.gpkg', export_path + 'L_nodes.gpkg'),\n",
    "    export_H=(export_path + 'H_edges.gpkg', export_path + 'H_nodes.gpkg'),\n",
    "    export_when='after',\n",
    "    verbose=True\n",
    ")"
   ],
   "metadata": {
    "collapsed": false
   }
  },
  {
   "cell_type": "code",
   "execution_count": null,
   "outputs": [],
   "source": [
    "print('Reorder lanes')\n",
    "snman.space_allocation.reorder_lanes(G, lanes_attribute=KEY_LANES_DESCRIPTION)\n",
    "snman.space_allocation.reorder_lanes(G, lanes_attribute=KEY_LANES_DESCRIPTION_AFTER)"
   ],
   "metadata": {
    "collapsed": false
   }
  },
  {
   "cell_type": "code",
   "execution_count": null,
   "outputs": [],
   "source": [
    "if 1:\n",
    "    snman.space_allocation.normalize_cycling_lanes(G, lanes_key=KEY_LANES_DESCRIPTION)\n",
    "    snman.space_allocation.normalize_cycling_lanes(G, lanes_key=KEY_LANES_DESCRIPTION_AFTER)"
   ],
   "metadata": {
    "collapsed": false
   }
  },
  {
   "cell_type": "markdown",
   "source": [
    "Add edge costs\n",
    "--------------\n",
    "We add the mode-specific cost to the edges so that they can be easily inspected"
   ],
   "metadata": {
    "collapsed": false
   }
  },
  {
   "cell_type": "code",
   "execution_count": null,
   "outputs": [],
   "source": [
    "print('Add edge costs')\n",
    "snman.street_graph.add_edge_costs(G, lanes_description=KEY_LANES_DESCRIPTION)\n",
    "snman.street_graph.add_edge_costs(G, lanes_description=KEY_LANES_DESCRIPTION_AFTER)"
   ],
   "metadata": {
    "collapsed": false
   }
  },
  {
   "cell_type": "markdown",
   "source": [
    "Export\n",
    "------\n",
    "Saves the resulting datasets to the disk. Use the *snman_detailed.qgz* file to view them in QGIS."
   ],
   "metadata": {
    "collapsed": false
   }
  },
  {
   "cell_type": "code",
   "execution_count": null,
   "outputs": [],
   "source": [
    "if 1:\n",
    "    print('Export network without lanes')\n",
    "    snman.io.export_street_graph(\n",
    "        G,\n",
    "        os.path.join(export_path, 'street_graph_edges.gpkg'),\n",
    "        os.path.join(export_path, 'street_graph_nodes.gpkg'),\n",
    "        crs=CRS_for_export\n",
    "    )\n",
    "\n",
    "if 1:\n",
    "    print('Export lane geometries')\n",
    "    SCALING = 3\n",
    "    snman.io.export_street_graph_with_lanes(\n",
    "        G,\n",
    "        [KEY_LANES_DESCRIPTION, KEY_LANES_DESCRIPTION_AFTER],\n",
    "        os.path.join(export_path, 'lane_geometries.shp'),\n",
    "        scaling=SCALING,\n",
    "        crs=CRS_for_export\n",
    "    )\n",
    "\n",
    "if 1:\n",
    "    print('Export lane graphs')\n",
    "    L_before = snman.lane_graph.create_lane_graph(G, KEY_LANES_DESCRIPTION)\n",
    "    L_after = snman.lane_graph.create_lane_graph(G, KEY_LANES_DESCRIPTION_AFTER)\n",
    "    snman.io.export_street_graph(\n",
    "        L_before,\n",
    "        os.path.join(export_path, 'lane_graph_edges.gpkg'),\n",
    "        os.path.join(export_path, 'lane_graph_nodes.gpkg'),\n",
    "        crs=CRS_for_export\n",
    "    )\n",
    "    snman.io.export_street_graph(\n",
    "        L_after,\n",
    "        os.path.join(export_path, 'lane_graph_after_edges.gpkg'),\n",
    "        os.path.join(export_path, 'lane_graph_after_nodes.gpkg'),\n",
    "        crs=CRS_for_export\n",
    "    )\n",
    "    "
   ],
   "metadata": {
    "collapsed": false
   }
  }
 ],
 "metadata": {
  "kernelspec": {
   "display_name": "Python 3",
   "language": "python",
   "name": "python3"
  },
  "language_info": {
   "codemirror_mode": {
    "name": "ipython",
    "version": 2
   },
   "file_extension": ".py",
   "mimetype": "text/x-python",
   "name": "python",
   "nbconvert_exporter": "python",
   "pygments_lexer": "ipython2",
   "version": "2.7.6"
  }
 },
 "nbformat": 4,
 "nbformat_minor": 0
}
