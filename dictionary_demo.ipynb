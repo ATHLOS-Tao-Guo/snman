{
 "cells": [
  {
   "cell_type": "code",
   "execution_count": 2,
   "metadata": {
    "collapsed": true
   },
   "outputs": [
    {
     "name": "stdout",
     "output_type": "stream",
     "text": [
      "0 1A Value of 1A\n",
      "1 1B Value of 1B\n",
      "   ---> deleted\n",
      "2 1C Value of 1C\n",
      "original:  {'1A': 'Value of 1A', '1B': 'Value of 1B', '1C': 'Value of 1C'}\n",
      "edited:    {'1A': 'Value of 1A', '1C': 'Value of 1C'}\n"
     ]
    }
   ],
   "source": [
    "import copy\n",
    "\n",
    "# create the original dictionary\n",
    "original_dictionary = {\n",
    "    '1A': 'Value of 1A',\n",
    "    '1B': 'Value of 1B',\n",
    "    '1C': 'Value of 1C'\n",
    "}\n",
    "\n",
    "# make a copy of the original dictionary\n",
    "edited_dictionary = copy.copy(original_dictionary)\n",
    "\n",
    "# iterate and delete an element if some conditions are met\n",
    "for a, b in enumerate (original_dictionary):\n",
    "    print(a,b,original_dictionary[b])\n",
    "    if b == '1B':\n",
    "        del edited_dictionary[b]\n",
    "        print('   ---> deleted')\n",
    "\n",
    "print('original: ',original_dictionary)\n",
    "print('edited:   ',edited_dictionary)"
   ]
  },
  {
   "cell_type": "code",
   "execution_count": null,
   "outputs": [],
   "source": [],
   "metadata": {
    "collapsed": false,
    "pycharm": {
     "name": "#%%\n"
    }
   }
  }
 ],
 "metadata": {
  "kernelspec": {
   "display_name": "Python 3",
   "language": "python",
   "name": "python3"
  },
  "language_info": {
   "codemirror_mode": {
    "name": "ipython",
    "version": 2
   },
   "file_extension": ".py",
   "mimetype": "text/x-python",
   "name": "python",
   "nbconvert_exporter": "python",
   "pygments_lexer": "ipython2",
   "version": "2.7.6"
  }
 },
 "nbformat": 4,
 "nbformat_minor": 0
}