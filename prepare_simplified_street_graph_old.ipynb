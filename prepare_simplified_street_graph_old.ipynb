{
 "cells": [
  {
   "cell_type": "markdown",
   "source": [
    "Prepare simplified street graph\n",
    "===============================\n",
    "Downloads OSM data and prepares a simplified street graph. The street graph gets saved as a GeoPackage file and can be loaded later."
   ],
   "metadata": {
    "collapsed": false
   }
  },
  {
   "cell_type": "code",
   "execution_count": 1,
   "outputs": [
    {
     "name": "stderr",
     "output_type": "stream",
     "text": [
      "C:\\Users\\lballo\\AppData\\Roaming\\Python\\Python39\\site-packages\\osmnx\\utils.py:192: UserWarning: The `utils.config` function is deprecated and will be removed in a future release. Instead, use the `settings` module directly to configure a global setting's value. For example, `ox.settings.log_console=True`.\n",
      "  warnings.warn(\n"
     ]
    }
   ],
   "source": [
    "import geopandas as gpd\n",
    "import networkx as nx\n",
    "import snman\n",
    "\n",
    "# we use a customized fork of osmnx\n",
    "# it may be added to osmnx as a pull request in the future\n",
    "from snman import osmnx_customized as oxc\n",
    "\n",
    "# =====================================================================================\n",
    "# CONSTANTS\n",
    "# =====================================================================================\n",
    "\n",
    "PERIMETER = 'hardbruecke'\n",
    "# Set SAVE_TO_DEBUG = True for saving the cached network into the _debug folder\n",
    "# which is automatically used in the QGIS files\n",
    "SAVE_TO_DEBUG = True\n",
    "INTERSECTION_TOLERANCE = 10\n",
    "\n",
    "# set these paths according to your own setup\n",
    "data_directory = 'C:/Users/lballo/polybox/Research/SNMan/SNMan Shared/data/'\n",
    "inputs_path = data_directory + 'inputs/'\n",
    "if SAVE_TO_DEBUG:\n",
    "    process_path = data_directory + 'process/' + '_debug' + '/'\n",
    "else:\n",
    "    process_path = data_directory + 'process/' + PERIMETER + '/'\n",
    "\n",
    "oxc.settings.useful_tags_way = snman.constants.OSM_TAGS"
   ],
   "metadata": {
    "collapsed": false
   }
  },
  {
   "cell_type": "code",
   "execution_count": 2,
   "outputs": [
    {
     "name": "stdout",
     "output_type": "stream",
     "text": [
      "Load perimeters\n",
      "Get data from OSM server\n",
      "Prepare graph\n",
      "Convert CRS of street graph to 2056\n",
      "Load regions\n",
      "Load manual intersections\n",
      "Load reorganization regions\n"
     ]
    },
    {
     "name": "stderr",
     "output_type": "stream",
     "text": [
      "C:\\Users\\lballo\\AppData\\Roaming\\Python\\Python39\\site-packages\\geopandas\\array.py:1406: UserWarning: CRS not set for some of the concatenation inputs. Setting output's CRS as CH1903+ / LV95 (the single non-null crs provided).\n",
      "  warnings.warn(\n"
     ]
    }
   ],
   "source": [
    "# =====================================================================================\n",
    "# LOAD DATA\n",
    "# =====================================================================================\n",
    "\n",
    "print('Load perimeters')\n",
    "perimeters = snman.load_perimeters(inputs_path + 'perimeters/perimeters.shp')\n",
    "\n",
    "print('Get data from OSM server')\n",
    "# At this step, simplification means only removing degree=2 edges\n",
    "Gm = oxc.graph_from_polygon(\n",
    "    # set the perimeter here\n",
    "    perimeters.to_crs(4326).loc[PERIMETER]['geometry'],\n",
    "    custom_filter=snman.constants.OSM_FILTER,\n",
    "    simplify=True, simplify_strict=False, retain_all=True, one_edge_per_direction=False\n",
    ")\n",
    "\n",
    "print('Prepare graph')\n",
    "snman.prepare_graph(Gm)\n",
    "\n",
    "print('Convert CRS of street graph to 2056')\n",
    "snman.convert_crs_of_street_graph(Gm, snman.constants.CRS)\n",
    "Gm_raw = Gm.copy()\n",
    "\n",
    "print('Load regions')\n",
    "# polygons that define local parameters for the simplification algorithms\n",
    "regions_gdf = snman.load_regions(inputs_path + 'regions/regions.shp', default_tolerance=10, street_graph=Gm)\n",
    "\n",
    "print('Load manual intersections')\n",
    "# polygons used to override the automatically detected intersections in some situations\n",
    "given_intersections_gdf = snman.load_intersections(\n",
    "    inputs_path + 'intersection_polygons/intersection_polygons.shp'\n",
    ")\n",
    "\n",
    "print('Load reorganization regions')\n",
    "# polygons that define which streets will be reorganized\n",
    "rebuilding_regions_gdf = snman.io.load_rebuilding_regions(\n",
    "    inputs_path + 'rebuilding_regions/rebuilding_regions.gpkg'\n",
    ")"
   ],
   "metadata": {
    "collapsed": false
   }
  },
  {
   "cell_type": "code",
   "execution_count": 3,
   "outputs": [
    {
     "name": "stdout",
     "output_type": "stream",
     "text": [
      "Load sensors and assign them to edges in the raw street graph\n"
     ]
    }
   ],
   "source": [
    "# =====================================================================================\n",
    "# ENRICH RAW NETWORK\n",
    "# =====================================================================================\n",
    "\n",
    "if 1:\n",
    "    print('Load sensors and assign them to edges in the raw street graph')\n",
    "    sensors_df = snman.io.load_sensors(inputs_path + 'sensors/sensors.csv')\n",
    "    snman.enrichment.match_sensors(Gm, sensors_df)"
   ],
   "metadata": {
    "collapsed": false
   }
  },
  {
   "cell_type": "code",
   "execution_count": 4,
   "outputs": [
    {
     "name": "stdout",
     "output_type": "stream",
     "text": [
      "Detect intersections\n"
     ]
    }
   ],
   "source": [
    "# SANDBOX\n",
    "\n",
    "print('Detect intersections')\n",
    "intersections_gdf = snman.simplification.merge_nodes_geometric(\n",
    "    Gm, INTERSECTION_TOLERANCE,\n",
    "    given_intersections_gdf=given_intersections_gdf,\n",
    "    regions_gdf=regions_gdf\n",
    ")"
   ],
   "metadata": {
    "collapsed": false
   }
  },
  {
   "cell_type": "code",
   "execution_count": 5,
   "outputs": [],
   "source": [
    "intersections = snman.split_through_edges_in_intersections(Gm, intersections_gdf)\n"
   ],
   "metadata": {
    "collapsed": false
   }
  },
  {
   "cell_type": "code",
   "execution_count": 6,
   "outputs": [],
   "source": [
    "snman.export_gdf(intersections_gdf, process_path + 'intersections_polygons.gpkg', columns=['geometry'])\n",
    "snman.export_street_graph(Gm, process_path + 'raw_edges_with_connectors.gpkg', process_path + 'raw_nodes_with_connectors.gpkg')"
   ],
   "metadata": {
    "collapsed": false
   }
  },
  {
   "cell_type": "code",
   "execution_count": 35,
   "outputs": [
    {
     "name": "stdout",
     "output_type": "stream",
     "text": [
      "Detect intersections\n",
      "Split through edges in intersections\n",
      "Add layers to nodes\n",
      "Update precalculated attributes\n",
      "Detect intersections\n",
      "Add connections between components in intersections\n",
      "Split through edges in intersections\n",
      "Add layers to nodes\n",
      "Update precalculated attributes\n",
      "Detect intersections\n",
      "Add connections between components in intersections\n",
      "Save intersection geometries into a file\n",
      "Consolidate intersections\n"
     ]
    }
   ],
   "source": [
    "# =====================================================================================\n",
    "# CONSOLIDATE INTERSECTIONS\n",
    "# =====================================================================================\n",
    "\n",
    "print('Detect intersections')\n",
    "intersections_gdf = snman.simplification.merge_nodes_geometric(\n",
    "    Gm, INTERSECTION_TOLERANCE,\n",
    "    given_intersections_gdf=given_intersections_gdf,\n",
    "    regions_gdf=regions_gdf\n",
    ")\n",
    "\n",
    "if 1:\n",
    "    # must be run a few times for including buffers of newly added nodes\n",
    "    for i in range(2):\n",
    "        print('Split through edges in intersections')\n",
    "        intersections = snman.split_through_edges_in_intersections(Gm, intersections_gdf)\n",
    "\n",
    "        print('Add layers to nodes')\n",
    "        snman.graph_tools._add_layers_to_nodes(Gm)\n",
    "\n",
    "        print('Update precalculated attributes')\n",
    "        snman.update_precalculated_attributes(Gm)\n",
    "\n",
    "        print('Detect intersections')\n",
    "        intersections_gdf = snman.simplification.merge_nodes_geometric(\n",
    "            Gm, INTERSECTION_TOLERANCE,\n",
    "            given_intersections_gdf=given_intersections_gdf,\n",
    "            regions_gdf=regions_gdf\n",
    "        )\n",
    "\n",
    "        print('Add connections between components in intersections')\n",
    "        snman.connect_components_in_intersections(Gm, intersections_gdf, separate_layers=True)\n",
    "\n",
    "    print('Save intersection geometries into a file')\n",
    "    snman.export_gdf(intersections_gdf, process_path + 'intersections_polygons.gpkg', columns=['geometry'])\n",
    "\n",
    "Gm_unsimplified = Gm.copy()\n",
    "\n",
    "if 1:\n",
    "    print('Consolidate intersections')\n",
    "    Gm = snman.simplification.consolidate_intersections(\n",
    "        Gm, intersections_gdf,\n",
    "        reconnect_edges=True\n",
    "    )"
   ],
   "metadata": {
    "collapsed": false
   }
  },
  {
   "cell_type": "code",
   "execution_count": 36,
   "outputs": [
    {
     "name": "stdout",
     "output_type": "stream",
     "text": [
      "Generate lanes\n",
      "Organize edge directions, enforce direction from lower to higher node id\n",
      "Convert into an undirected graph\n",
      "Identify hierarchy\n"
     ]
    }
   ],
   "source": [
    "# =====================================================================================\n",
    "# ENRICH AND ADJUST GRAPH\n",
    "# =====================================================================================\n",
    "\n",
    "\n",
    "\n",
    "\n",
    "\n",
    "\n"
   ],
   "metadata": {
    "collapsed": false
   }
  },
  {
   "cell_type": "code",
   "execution_count": 37,
   "outputs": [
    {
     "name": "stdout",
     "output_type": "stream",
     "text": [
      "Merge parallel and consecutive edges, repeat a few times\n",
      "Simplify edge geometries\n",
      "Add lane stats to edges\n"
     ]
    }
   ],
   "source": [
    "# =====================================================================================\n",
    "# CONSOLIDATE PARALLEL AND CONSECUTIVE EDGES\n",
    "# =====================================================================================\n",
    "\n",
    "if 1:\n",
    "    print('Merge parallel and consecutive edges, repeat a few times')\n",
    "    for i in range(5):\n",
    "        snman.merge_parallel_edges(Gc)\n",
    "        snman.merge_consecutive_edges(Gc)\n",
    "        pass\n",
    "\n",
    "if 1:\n",
    "    print('Simplify edge geometries')\n",
    "    for id, edge in Gc.edges.items():\n",
    "        edge['geometry'] = edge['geometry'].simplify(25, preserve_topology=False)\n",
    "\n",
    "if 1:\n",
    "    print('Add lane stats to edges')\n",
    "    # how many lanes, how wide, etc.\n",
    "    snman.generate_lane_stats(Gc)"
   ],
   "metadata": {
    "collapsed": false
   }
  },
  {
   "cell_type": "code",
   "execution_count": 38,
   "outputs": [
    {
     "name": "stdout",
     "output_type": "stream",
     "text": [
      "Update OSM tags\n",
      "Add elevation\n"
     ]
    }
   ],
   "source": [
    "# =====================================================================================\n",
    "# ENRICH\n",
    "# =====================================================================================\n",
    "\n",
    "if 0:\n",
    "    #TODO: use mapmatching for better performance and accuracy\n",
    "    #TODO: add route direction for one-way sections\n",
    "    print('Add public transport')\n",
    "    pt_network = snman.import_geofile_to_gdf(inputs_path + \"public_transit/ZVV_LINIEN_GEN_L.shp\")\n",
    "    snman.match_pt(Gc, pt_network)\n",
    "\n",
    "if 1:\n",
    "    print('Update OSM tags')\n",
    "    # to match the simplified and merged edges\n",
    "    snman.update_osm_tags(Gc)\n",
    "\n",
    "if 1:\n",
    "    print('Add elevation')\n",
    "    spn = oxc.stats.count_streets_per_node(Gc, nodes=Gc.nodes)\n",
    "    nx.set_node_attributes(Gc, values=spn, name=\"street_count\")\n",
    "    G = oxc.elevation.add_node_elevations_raster(Gc, inputs_path + 'ch_dhm_25/2056/ch_dhm_2056.tif', cpus=1)\n",
    "    G = oxc.elevation.add_edge_grades(Gc, add_absolute=False)\n",
    "\n",
    "if 0:\n",
    "    print('Add traffic counts')\n",
    "    source = gpd.read_file(inputs_path + 'traffic_volumes/npvm_2017_filtered.gpkg').to_crs(2056)\n",
    "    source['fid'] = source.index\n",
    "    # Remove links with zero traffic (otherwise they will distort the averages on the matched links)\n",
    "    source = source[source['DTV_ALLE'] > 0]\n",
    "    snman.enrichment.match_linestrings(Gc, source, [\n",
    "        {'source_column': 'DTV_ALLE',   'target_column': 'adt_avg',         'agg': 'avg' },\n",
    "        {'source_column': 'DTV_ALLE',   'target_column': 'adt_max',         'agg': 'max' },\n",
    "        {'source_column': 'FROMNODENO', 'target_column': 'npvm_fromnodeno', 'agg': 'list'},\n",
    "        {'source_column': 'TONODENO',   'target_column': 'npvm_tonodeno',   'agg': 'list'}\n",
    "    ])"
   ],
   "metadata": {
    "collapsed": false
   }
  },
  {
   "cell_type": "code",
   "execution_count": 39,
   "outputs": [
    {
     "name": "stdout",
     "output_type": "stream",
     "text": [
      "Keep only the largest connected component\n"
     ]
    }
   ],
   "source": [
    "# =====================================================================================\n",
    "# VARIA\n",
    "# =====================================================================================\n",
    "\n",
    "if 1:\n",
    "    print('Keep only the largest connected component')\n",
    "    # remove edges that are not connected to the rest of the network\n",
    "    snman.graph_tools.add_connected_component_ids(Gc)\n",
    "    Gc = snman.graph_tools.keep_only_the_largest_connected_component(Gc)"
   ],
   "metadata": {
    "collapsed": false
   }
  },
  {
   "cell_type": "code",
   "execution_count": 40,
   "outputs": [
    {
     "name": "stdout",
     "output_type": "stream",
     "text": [
      "Export basic street graph\n",
      "Export lane geometries\n",
      "Save raw street graph with connectors\n"
     ]
    }
   ],
   "source": [
    "# =====================================================================================\n",
    "# EXPORT\n",
    "# =====================================================================================\n",
    "\n",
    "if 1:\n",
    "    print('Export basic street graph')\n",
    "    # each street is one edge, the lanes are saved as an attribute\n",
    "    snman.export_street_graph(Gc, process_path + 'edges_all_attributes.gpkg', process_path + 'nodes_all_attributes.gpkg')\n",
    "\n",
    "if 1:\n",
    "    print('Export lane geometries')\n",
    "    # each lane has an own geometry and with as an attribute, for visualization purposes\n",
    "    snman.export_street_graph_with_lanes(Gc, 'ln_desc', process_path + 'edges_lanes.shp', scaling=2)\n",
    "\n",
    "if 1:\n",
    "    print('Save raw OSM graph')\n",
    "    snman.export_street_graph(Gm_raw, process_path + 'raw_edges.gpkg', process_path + 'raw_nodes.gpkg')\n",
    "\n",
    "if 1:\n",
    "    print('Save raw OSM graph with connectors')\n",
    "    snman.export_street_graph(Gm_unsimplified, process_path + 'raw_edges_with_connectors.gpkg', process_path + 'raw_nodes_with_connectors.gpkg')"
   ],
   "metadata": {
    "collapsed": false
   }
  }
 ],
 "metadata": {
  "kernelspec": {
   "display_name": "Python 3",
   "language": "python",
   "name": "python3"
  },
  "language_info": {
   "codemirror_mode": {
    "name": "ipython",
    "version": 2
   },
   "file_extension": ".py",
   "mimetype": "text/x-python",
   "name": "python",
   "nbconvert_exporter": "python",
   "pygments_lexer": "ipython2",
   "version": "2.7.6"
  }
 },
 "nbformat": 4,
 "nbformat_minor": 0
}
