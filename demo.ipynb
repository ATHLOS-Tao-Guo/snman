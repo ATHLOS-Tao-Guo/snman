{
 "cells": [
  {
   "cell_type": "code",
   "execution_count": 1,
   "metadata": {
    "collapsed": true,
    "ExecuteTime": {
     "end_time": "2023-05-08T19:56:02.084155600Z",
     "start_time": "2023-05-08T19:56:00.322512800Z"
    }
   },
   "outputs": [
    {
     "name": "stderr",
     "output_type": "stream",
     "text": [
      "C:\\Users\\lballo\\AppData\\Roaming\\Python\\Python39\\site-packages\\osmnx\\utils.py:192: UserWarning: The `utils.config` function is deprecated and will be removed in a future release. Instead, use the `settings` module directly to configure a global setting's value. For example, `ox.settings.log_console=True`.\n",
      "  warnings.warn(\n"
     ]
    }
   ],
   "source": [
    "import snman\n",
    "\n",
    "# set these paths according to your own setup\n",
    "PERIMETER = 'hardbruecke'\n",
    "CRS = 2056\n",
    "data_directory = 'C:/Users/lballo/polybox/Research/SNMan/SNMan Shared/data_v2/'\n",
    "inputs_path = data_directory + 'inputs/'\n",
    "process_path = data_directory + 'process/' + '_debug' + '/'\n",
    "\n",
    "perimeters = snman.io.load_perimeters(inputs_path + 'perimeters/perimeters.shp', crs=CRS)\n",
    "given_intersections_gdf = snman.io.load_intersections(inputs_path + 'intersection_polygons/intersection_polygons.shp')\n",
    "sensors_df = snman.io.load_sensors(inputs_path + 'sensors/sensors.csv')"
   ]
  },
  {
   "cell_type": "code",
   "execution_count": 2,
   "outputs": [
    {
     "name": "stdout",
     "output_type": "stream",
     "text": [
      "Get data from OSM server\n",
      "Prepare graph\n",
      "Convert CRS of street graph to 2056\n",
      "Identify hierarchy\n",
      "Generate lanes\n",
      "Load sensors and assign them to edges in the raw street graph\n",
      "Simplify edge geometries (1/2)\n",
      "ITERATION 0\n",
      "Detect intersections\n",
      "Split through edges in intersections\n",
      "Detect intersections (repeat to ensure that no points are outside of intersections)\n",
      "Add layers to nodes\n",
      "Add connections between components in intersections\n",
      "Consolidate intersections\n",
      "Merge consecutive edges\n",
      "Merge parallel edges\n",
      "Update precalculated attributes\n",
      "ITERATION 1\n",
      "Detect intersections\n"
     ]
    },
    {
     "name": "stderr",
     "output_type": "stream",
     "text": [
      "C:\\Users\\lballo\\AppData\\Roaming\\Python\\Python39\\site-packages\\shapely\\linear.py:208: RuntimeWarning: invalid value encountered in shortest_line\n",
      "  return lib.shortest_line(a, b, **kwargs)\n"
     ]
    },
    {
     "name": "stdout",
     "output_type": "stream",
     "text": [
      "Split through edges in intersections\n",
      "not len(nodes) == len(split_points) + 2 == len(edge_linestrings) + 1\n",
      "[(21, <POINT (2681368.723 1248100.821)>), (540, <POINT (2681397.077 1248085.578)>), (541, <POINT (2681424.323 1248070.93)>), (542, <POINT (2681449.158 1248061.914)>), (543, <POINT (2681456.397 1248074.839)>), (544, <POINT (2681474.065 1248087.794)>), (545, <POINT (2681469.026 1248122.091)>), (546, <POINT (2681468.35 1248120.514)>), (547, <POINT (2681437.958 1248133.319)>), (169, <POINT (2681397.433 1248141.923)>)]\n",
      "[<POINT (2681449.158 1248061.914)> <POINT (2681424.323 1248070.93)>\n",
      " <POINT (2681456.397 1248074.839)> <POINT (2681397.077 1248085.578)>\n",
      " <POINT (2681474.065 1248087.794)> <POINT (2681468.468 1248120.789)>\n",
      " <POINT (2681437.957 1248133.319)>]\n",
      "[<LINESTRING (2681368.723 1248100.821, 2681396.989 1248085.625)>, <LINESTRING (2681397.165 1248085.531, 2681397.165 1248085.531, 2681424.235 1...>, <LINESTRING (2681424.411 1248070.883, 2681447.376 1248058.537, 2681449.111 1...>, <LINESTRING (2681449.204 1248062.002, 2681450.939 1248065.291, 2681456.347 1...>, <LINESTRING (2681456.446 1248074.926, 2681463.617 1248087.503, 2681474.007 1...>, <LINESTRING (2681474.104 1248087.886, 2681485.025 1248113.55, 2681469.544 12...>, <LINESTRING (2681468.507 1248120.881, 2681468.429 1248120.698)>, <LINESTRING (2681469.544 1248123.3, 2681445.554 1248133.433, 2681438.023 124...>, <LINESTRING (2681437.894 1248133.397, 2681432.933 1248139.509, 2681397.433 1...>]\n",
      "not len(nodes) == len(split_points) + 2 == len(edge_linestrings) + 1\n",
      "[(40, <POINT (2680814.371 1248702.315)>), (553, <POINT (2680799.913 1248683.004)>), (554, <POINT (2680797.598 1248684.296)>), (555, <POINT (2680787.567 1248658.529)>), (38, <POINT (2680904.552 1248586.982)>)]\n",
      "[<POINT (2680787.567 1248658.529)> <POINT (2680797.86 1248684.15)>]\n",
      "[<LINESTRING (2680814.371 1248702.315, 2680801.879 1248681.908)>, <LINESTRING (2680797.947 1248684.101, 2680797.772 1248684.199)>, <LINESTRING (2680801.879 1248681.908, 2680787.619 1248658.614)>, <LINESTRING (2680787.515 1248658.444, 2680787.437 1248658.316, 2680904.552 1...>]\n",
      "not len(nodes) == len(split_points) + 2 == len(edge_linestrings) + 1\n",
      "[(40, <POINT (2680814.371 1248702.315)>), (553, <POINT (2680829.752 1248735.619)>), (554, <POINT (2680849.678 1248767.196)>), (555, <POINT (2680848.231 1248767.841)>), (454, <POINT (2680911.362 1248740.321)>)]\n",
      "[<POINT (2680829.752 1248735.619)> <POINT (2680848.505 1248767.719)>]\n",
      "[<LINESTRING (2680814.371 1248702.315, 2680831.592 1248732.561, 2680829.401 1...>, <LINESTRING (2680829.85 1248735.637, 2680833.82 1248736.394, 2680850.761 124...>, <LINESTRING (2680848.596 1248767.678, 2680848.413 1248767.76)>, <LINESTRING (2680850.761 1248766.714, 2680911.362 1248740.321)>]\n",
      "not len(nodes) == len(split_points) + 2 == len(edge_linestrings) + 1\n",
      "[(418, <POINT (2681727.8 1248832.375)>), (618, <POINT (2681735.812 1248814.356)>), (619, <POINT (2681883.993 1248979.776)>), (620, <POINT (2681883.47 1248980.701)>), (203, <POINT (2682053.461 1249068.258)>)]\n",
      "[<POINT (2681735.812 1248814.356)> <POINT (2681883.617 1248980.441)>]\n",
      "[<LINESTRING (2681727.8 1248832.375, 2681722.797 1248820.041, 2681735.709 124...>, <LINESTRING (2681735.853 1248814.447, 2681755.079 1248857.381, 2681791.108 1...>, <LINESTRING (2681883.666 1248980.354, 2681883.568 1248980.528)>, <LINESTRING (2681884.32 1248979.198, 2682054.69 1249065.929, 2682053.461 124...>]\n",
      "Detect intersections (repeat to ensure that no points are outside of intersections)\n",
      "Add layers to nodes\n",
      "Add connections between components in intersections\n",
      "Consolidate intersections\n",
      "Merge consecutive edges\n",
      "Merge parallel edges\n",
      "Update precalculated attributes\n",
      "ITERATION 2\n",
      "Detect intersections\n"
     ]
    },
    {
     "name": "stderr",
     "output_type": "stream",
     "text": [
      "C:\\Users\\lballo\\AppData\\Roaming\\Python\\Python39\\site-packages\\shapely\\linear.py:208: RuntimeWarning: invalid value encountered in shortest_line\n",
      "  return lib.shortest_line(a, b, **kwargs)\n"
     ]
    },
    {
     "name": "stdout",
     "output_type": "stream",
     "text": [
      "Split through edges in intersections\n",
      "not len(nodes) == len(split_points) + 2 == len(edge_linestrings) + 1\n",
      "[(6, <POINT (2681275.556 1248579.644)>), (604, <POINT (2681242.103 1248592.432)>), (605, <POINT (2681241.317 1248589.763)>), (8, <POINT (2681196.572 1248584.591)>)]\n",
      "[<POINT (2681241.919 1248591.809)>]\n",
      "[<LINESTRING (2681275.556 1248579.644, 2681277.666 1248590.481, 2681277.578 1...>, <LINESTRING (2681241.947 1248591.905, 2681241.891 1248591.713)>, <LINESTRING (2681242.258 1248592.96, 2681201.997 1248590.306, 2681196.572 12...>]\n",
      "not len(nodes) == len(split_points) + 2 == len(edge_linestrings) + 1\n",
      "[(21, <POINT (2681368.723 1248100.821)>), (617, <POINT (2681397.077 1248085.578)>), (618, <POINT (2681424.323 1248070.93)>), (619, <POINT (2681449.158 1248061.914)>), (620, <POINT (2681456.397 1248074.839)>), (621, <POINT (2681474.065 1248087.794)>), (622, <POINT (2681469.026 1248122.091)>), (623, <POINT (2681468.35 1248120.514)>), (624, <POINT (2681437.958 1248133.319)>), (169, <POINT (2681397.433 1248141.923)>)]\n",
      "[<POINT (2681449.158 1248061.914)> <POINT (2681424.323 1248070.93)>\n",
      " <POINT (2681456.397 1248074.839)> <POINT (2681397.077 1248085.578)>\n",
      " <POINT (2681474.065 1248087.794)> <POINT (2681468.468 1248120.789)>\n",
      " <POINT (2681437.957 1248133.319)>]\n",
      "[<LINESTRING (2681368.723 1248100.821, 2681396.989 1248085.625)>, <LINESTRING (2681397.165 1248085.531, 2681397.165 1248085.531, 2681424.235 1...>, <LINESTRING (2681424.411 1248070.883, 2681447.376 1248058.537, 2681449.111 1...>, <LINESTRING (2681449.204 1248062.002, 2681450.939 1248065.291, 2681456.347 1...>, <LINESTRING (2681456.446 1248074.926, 2681463.617 1248087.503, 2681474.007 1...>, <LINESTRING (2681474.104 1248087.886, 2681485.025 1248113.55, 2681469.544 12...>, <LINESTRING (2681468.507 1248120.881, 2681468.429 1248120.698)>, <LINESTRING (2681469.544 1248123.3, 2681445.554 1248133.433, 2681438.023 124...>, <LINESTRING (2681437.894 1248133.397, 2681432.933 1248139.509, 2681397.433 1...>]\n",
      "not len(nodes) == len(split_points) + 2 == len(edge_linestrings) + 1\n",
      "[(40, <POINT (2680814.371 1248702.315)>), (629, <POINT (2680799.913 1248683.004)>), (630, <POINT (2680797.598 1248684.296)>), (631, <POINT (2680787.567 1248658.529)>), (38, <POINT (2680904.552 1248586.982)>)]\n",
      "[<POINT (2680787.567 1248658.529)> <POINT (2680797.86 1248684.15)>]\n",
      "[<LINESTRING (2680814.371 1248702.315, 2680801.879 1248681.908)>, <LINESTRING (2680797.947 1248684.101, 2680797.772 1248684.199)>, <LINESTRING (2680801.879 1248681.908, 2680787.619 1248658.614)>, <LINESTRING (2680787.515 1248658.444, 2680787.437 1248658.316, 2680904.552 1...>]\n",
      "not len(nodes) == len(split_points) + 2 == len(edge_linestrings) + 1\n",
      "[(40, <POINT (2680814.371 1248702.315)>), (629, <POINT (2680829.752 1248735.619)>), (630, <POINT (2680849.678 1248767.196)>), (631, <POINT (2680848.231 1248767.841)>), (452, <POINT (2680906.385 1248726.088)>)]\n",
      "[<POINT (2680829.752 1248735.619)> <POINT (2680848.505 1248767.719)>]\n",
      "[<LINESTRING (2680814.371 1248702.315, 2680831.592 1248732.561, 2680829.401 1...>, <LINESTRING (2680829.85 1248735.637, 2680833.82 1248736.394, 2680850.761 124...>, <LINESTRING (2680848.596 1248767.678, 2680848.413 1248767.76)>, <LINESTRING (2680850.761 1248766.714, 2680911.362 1248740.321, 2680906.385 1...>]\n",
      "not len(nodes) == len(split_points) + 2 == len(edge_linestrings) + 1\n",
      "[(76, <POINT (2682179.774 1250043.867)>), (636, <POINT (2682166.4 1250060.948)>), (637, <POINT (2682166.589 1250060.091)>), (463, <POINT (2682171.961 1250061.289)>)]\n",
      "[<POINT (2682166.19 1250060.712)>]\n",
      "[<LINESTRING (2682179.774 1250043.867, 2682178.847 1250046.128, 2682178.783 1...>, <LINESTRING (2682166.159 1250060.807, 2682166.182 1250060.736, 2682166.22 12...>, <LINESTRING (2682167.219 1250060.042, 2682171.961 1250061.289)>]\n",
      "not len(nodes) == len(split_points) + 2 == len(edge_linestrings) + 1\n",
      "[(97, <POINT (2681577.374 1249046.814)>), (641, <POINT (2681616.316 1249026.88)>), (642, <POINT (2681654.791 1249006.637)>), (643, <POINT (2681654.324 1249005.896)>), (213, <POINT (2681678.448 1248988.193)>)]\n",
      "[<POINT (2681654.719 1249006.524)> <POINT (2681616.316 1249026.88)>]\n",
      "[<LINESTRING (2681577.374 1249046.814, 2681586.693 1249039.273, 2681614.069 1...>, <LINESTRING (2681616.361 1249026.969, 2681617.091 1249028.443, 2681615.093 1...>, <LINESTRING (2681654.772 1249006.608, 2681654.666 1249006.439)>, <LINESTRING (2681654.809 1249006.666, 2681654.894 1249006.614, 2681674.088 1...>]\n",
      "not len(nodes) == len(split_points) + 2 == len(edge_linestrings) + 1\n",
      "[(99, <POINT (2681317.661 1248624.923)>), (641, <POINT (2681290.998 1248596.047)>), (642, <POINT (2681289.541 1248596.485)>), (6, <POINT (2681275.556 1248579.644)>)]\n",
      "[<POINT (2681290.641 1248596.154)>]\n",
      "[<LINESTRING (2681317.661 1248624.923, 2681313.074 1248628.184, 2681313.018 1...>, <LINESTRING (2681290.737 1248596.126, 2681290.545 1248596.183)>, <LINESTRING (2681291.258 1248595.969, 2681291.202 1248595.886, 2681278.87 12...>]\n",
      "not len(nodes) == len(split_points) + 2 == len(edge_linestrings) + 1\n",
      "[(119, <POINT (2681918.003 1249574.47)>), (647, <POINT (2681930.115 1249570.959)>), (648, <POINT (2681940.655 1249586.068)>), (649, <POINT (2681944.046 1249584.694)>), (27, <POINT (2681967.484 1249617.603)>)]\n",
      "[<POINT (2681943.768 1249584.807)>]\n",
      "[<LINESTRING (2681918.003 1249574.47, 2681927.567 1249571.819)>, <LINESTRING (2681927.567 1249571.819, 2681937.58 1249587.208, 2681937.635 12...>, <LINESTRING (2681943.676 1249584.845, 2681943.861 1249584.769)>, <LINESTRING (2681937.635 1249587.292, 2681937.689 1249587.375, 2681950.042 1...>]\n",
      "not len(nodes) == len(split_points) + 2 == len(edge_linestrings) + 1\n",
      "[(129, <POINT (2681500.142 1248483.357)>), (650, <POINT (2681549.652 1248426.669)>), (651, <POINT (2681556.299 1248423.994)>), (359, <POINT (2681520.983 1248407.293)>)]\n",
      "[<POINT (2681556.02 1248424.106)>]\n",
      "[<LINESTRING (2681500.142 1248483.357, 2681494.175 1248480.712, 2681543.376 1...>, <LINESTRING (2681555.928 1248424.143, 2681556.113 1248424.069)>, <LINESTRING (2681543.376 1248429.195, 2681520.983 1248407.293)>]\n",
      "not len(nodes) == len(split_points) + 2 == len(edge_linestrings) + 1\n",
      "[(161, <POINT (2681381.294 1247996.106)>), (661, <POINT (2681369.992 1248038.23)>), (662, <POINT (2681363.526 1248037.114)>), (21, <POINT (2681368.723 1248100.821)>)]\n",
      "[<POINT (2681363.973 1248037.191)>]\n",
      "[<LINESTRING (2681381.294 1247996.106, 2681375.913 1248039.253)>, <LINESTRING (2681364.071 1248037.208, 2681363.874 1248037.174)>, <LINESTRING (2681375.913 1248039.253, 2681368.723 1248100.821)>]\n",
      "not len(nodes) == len(split_points) + 2 == len(edge_linestrings) + 1\n",
      "[(213, <POINT (2681678.448 1248988.193)>), (669, <POINT (2681654.482 1248958.935)>), (670, <POINT (2681657.88 1248956.787)>), (215, <POINT (2681648.049 1248940.089)>)]\n",
      "[<POINT (2681655.429 1248958.336)>]\n",
      "[<LINESTRING (2681678.448 1248988.193, 2681670.315 1248988.587, 2681653.619 1...>, <LINESTRING (2681655.344 1248958.39, 2681655.513 1248958.283)>, <LINESTRING (2681653.619 1248959.48, 2681648.049 1248940.089)>]\n",
      "not len(nodes) == len(split_points) + 2 == len(edge_linestrings) + 1\n",
      "[(235, <POINT (2681475.093 1249121.243)>), (670, <POINT (2681414.354 1249155.306)>), (671, <POINT (2681415.62 1249159.697)>), (48, <POINT (2681330.108 1249222.746)>)]\n",
      "[<POINT (2681414.46 1249155.674)>]\n",
      "[<LINESTRING (2681475.093 1249121.243, 2681459.847 1249126.315, 2681414.36 12...>, <LINESTRING (2681414.432 1249155.578, 2681414.488 1249155.77)>, <LINESTRING (2681414.276 1249155.035, 2681414.191 1249155.088, 2681342.48 12...>]\n",
      "not len(nodes) == len(split_points) + 2 == len(edge_linestrings) + 1\n",
      "[(273, <POINT (2681362.347 1248477.806)>), (681, <POINT (2681327.547 1248534.478)>), (682, <POINT (2681325.581 1248534.806)>), (683, <POINT (2681316.536 1248546.647)>), (5, <POINT (2681303.653 1248570.807)>)]\n",
      "[<POINT (2681327.547 1248534.478)> <POINT (2681316.536 1248546.647)>]\n",
      "[<LINESTRING (2681362.347 1248477.806, 2681361.065 1248474.257, 2681327.596 1...>, <LINESTRING (2681327.499 1248534.566, 2681326.91 1248535.623)>, <LINESTRING (2681326.91 1248535.623, 2681319.925 1248548.775, 2681319.878 12...>, <LINESTRING (2681316.452 1248546.592, 2681313.388 1248544.561, 2681313.332 1...>]\n",
      "not len(nodes) == len(split_points) + 2 == len(edge_linestrings) + 1\n",
      "[(273, <POINT (2681362.347 1248477.806)>), (683, <POINT (2681348.393 1248513.395)>), (684, <POINT (2681345.776 1248513.686)>), (165, <POINT (2681339.949 1248538.173)>)]\n",
      "[<POINT (2681345.776 1248513.686)>]\n",
      "[<LINESTRING (2681362.347 1248477.806, 2681364.146 1248482.9, 2681364.094 124...>, <LINESTRING (2681346.38 1248511.939, 2681345.808 1248513.591)>, <LINESTRING (2681345.743 1248513.78, 2681337.515 1248537.566, 2681337.483 12...>]\n",
      "not len(nodes) == len(split_points) + 2 == len(edge_linestrings) + 1\n",
      "[(284, <POINT (2682056.167 1249400.925)>), (687, <POINT (2682067.74 1249384.766)>), (688, <POINT (2682068.051 1249386.948)>), (286, <POINT (2682095.411 1249363.768)>)]\n",
      "[<POINT (2682068.009 1249386.651)>]\n",
      "[<LINESTRING (2682056.167 1249400.925, 2682049.653 1249395.247, 2682067.403 1...>, <LINESTRING (2682067.995 1249386.553, 2682068.023 1249386.75)>, <LINESTRING (2682067.486 1249382.979, 2682067.568 1249382.923, 2682095.411 1...>]\n",
      "not len(nodes) == len(split_points) + 2 == len(edge_linestrings) + 1\n",
      "[(335, <POINT (2681548.554 1248996.303)>), (692, <POINT (2681530.413 1248969.879)>), (693, <POINT (2681536.436 1248966.492)>), (280, <POINT (2681515.227 1248932.496)>)]\n",
      "[<POINT (2681536.436 1248966.492)>]\n",
      "[<LINESTRING (2681548.554 1248996.303, 2681547.837 1248996.021, 2681547.783 1...>, <LINESTRING (2681531.028 1248969.543, 2681536.349 1248966.541)>, <LINESTRING (2681536.523 1248966.443, 2681542.028 1248963.338, 2681542.013 1...>]\n",
      "not len(nodes) == len(split_points) + 2 == len(edge_linestrings) + 1\n",
      "[(392, <POINT (2681898.453 1249380.057)>), (698, <POINT (2681884.206 1249401.23)>), (699, <POINT (2681884.401 1249402.915)>), (186, <POINT (2681871.457 1249417.982)>)]\n",
      "[<POINT (2681884.206 1249401.23)>]\n",
      "[<LINESTRING (2681898.453 1249380.057, 2681901.977 1249382.63, 2681901.908 12...>, <LINESTRING (2681884.137 1249401.302, 2681883.513 1249401.955)>, <LINESTRING (2681883.513 1249401.955, 2681874.019 1249411.464, 2681871.457 1...>]\n",
      "not len(nodes) == len(split_points) + 2 == len(edge_linestrings) + 1\n",
      "[(416, <POINT (2681727.8 1248832.375)>), (699, <POINT (2681735.812 1248814.356)>), (700, <POINT (2681883.993 1248979.776)>), (701, <POINT (2681883.47 1248980.701)>), (203, <POINT (2682053.461 1249068.258)>)]\n",
      "[<POINT (2681735.812 1248814.356)> <POINT (2681883.617 1248980.441)>]\n",
      "[<LINESTRING (2681727.8 1248832.375, 2681722.797 1248820.041, 2681735.709 124...>, <LINESTRING (2681735.853 1248814.447, 2681755.079 1248857.381, 2681791.108 1...>, <LINESTRING (2681883.666 1248980.354, 2681883.568 1248980.528)>, <LINESTRING (2681884.32 1248979.198, 2682054.69 1249065.929, 2682053.461 124...>]\n",
      "Detect intersections (repeat to ensure that no points are outside of intersections)\n"
     ]
    },
    {
     "name": "stderr",
     "output_type": "stream",
     "text": [
      "C:\\Users\\lballo\\AppData\\Roaming\\Python\\Python39\\site-packages\\pandas\\core\\arraylike.py:495: RuntimeWarning: invalid value encountered in shortest_line\n",
      "  return getattr(ufunc, method)(*new_inputs, **kwargs)\n"
     ]
    },
    {
     "name": "stdout",
     "output_type": "stream",
     "text": [
      "Add layers to nodes\n",
      "Add connections between components in intersections\n",
      "Consolidate intersections\n",
      "Merge consecutive edges\n",
      "Merge parallel edges\n",
      "Update precalculated attributes\n",
      "Simplify edge geometries (2/2)\n",
      "Keep only the largest weakly connected component\n",
      "Add lane stats to edges\n",
      "Update OSM tags\n",
      "Update street counts per node\n"
     ]
    }
   ],
   "source": [
    "G = snman.get_street_graph(\n",
    "    perimeters.loc[PERIMETER]['geometry'],\n",
    "    CRS,\n",
    "    given_intersections_gdf,\n",
    "    sensors_df,\n",
    "    perimeter_crs=CRS\n",
    ")"
   ],
   "metadata": {
    "collapsed": false,
    "ExecuteTime": {
     "end_time": "2023-05-08T19:56:33.309692300Z",
     "start_time": "2023-05-08T19:56:02.122038200Z"
    }
   }
  },
  {
   "cell_type": "code",
   "execution_count": 3,
   "outputs": [
    {
     "name": "stdout",
     "output_type": "stream",
     "text": [
      "Add elevation\n"
     ]
    }
   ],
   "source": [
    "G = snman.add_elevation(G, inputs_path + 'ch_dhm_25/2056/ch_dhm_2056.tif')"
   ],
   "metadata": {
    "collapsed": false,
    "ExecuteTime": {
     "end_time": "2023-05-08T19:56:33.419748400Z",
     "start_time": "2023-05-08T19:56:33.316667300Z"
    }
   }
  },
  {
   "cell_type": "code",
   "execution_count": null,
   "outputs": [],
   "source": [],
   "metadata": {
    "collapsed": false
   }
  },
  {
   "cell_type": "code",
   "execution_count": 4,
   "outputs": [],
   "source": [
    "snman.save_street_graph(G, process_path + 'street_graph')\n",
    "snman.save_lane_geometries(G, process_path + 'lane_geometries.shp')"
   ],
   "metadata": {
    "collapsed": false,
    "ExecuteTime": {
     "end_time": "2023-05-08T19:56:33.970599Z",
     "start_time": "2023-05-08T19:56:33.421741400Z"
    }
   }
  }
 ],
 "metadata": {
  "kernelspec": {
   "display_name": "Python 3",
   "language": "python",
   "name": "python3"
  },
  "language_info": {
   "codemirror_mode": {
    "name": "ipython",
    "version": 2
   },
   "file_extension": ".py",
   "mimetype": "text/x-python",
   "name": "python",
   "nbconvert_exporter": "python",
   "pygments_lexer": "ipython2",
   "version": "2.7.6"
  }
 },
 "nbformat": 4,
 "nbformat_minor": 0
}
