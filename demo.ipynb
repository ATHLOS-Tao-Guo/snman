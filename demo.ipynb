{
 "cells": [
  {
   "cell_type": "code",
   "execution_count": null,
   "metadata": {
    "collapsed": true
   },
   "outputs": [],
   "source": [
    "import snman\n",
    "\n",
    "# set these paths according to your own setup\n",
    "PERIMETER = 'hardbruecke'\n",
    "CRS = 2056\n",
    "data_directory = 'C:/Users/lballo/polybox/Research/SNMan/SNMan Shared/data_v2/'\n",
    "inputs_path = data_directory + 'inputs/'\n",
    "process_path = data_directory + 'process/' + '_debug' + '/'\n",
    "\n",
    "perimeters = snman.io.load_perimeters(inputs_path + 'perimeters/perimeters.shp', crs=CRS)\n",
    "given_intersections_gdf = snman.io.load_intersections(inputs_path + 'intersection_polygons/intersection_polygons.shp')\n",
    "sensors_df = snman.io.load_sensors(inputs_path + 'sensors/sensors.csv')"
   ]
  },
  {
   "cell_type": "code",
   "execution_count": null,
   "outputs": [],
   "source": [
    "G = snman.get_street_graph(\n",
    "    perimeters.loc[PERIMETER]['geometry'],\n",
    "    CRS,\n",
    "    given_intersections_gdf,\n",
    "    sensors_df,\n",
    "    perimeter_crs=CRS\n",
    ")"
   ],
   "metadata": {
    "collapsed": false
   }
  },
  {
   "cell_type": "code",
   "execution_count": null,
   "outputs": [],
   "source": [
    "G = snman.add_elevation(G, inputs_path + 'ch_dhm_25/2056/ch_dhm_2056.tif')"
   ],
   "metadata": {
    "collapsed": false
   }
  },
  {
   "cell_type": "code",
   "execution_count": null,
   "outputs": [],
   "source": [],
   "metadata": {
    "collapsed": false
   }
  },
  {
   "cell_type": "code",
   "execution_count": null,
   "outputs": [],
   "source": [
    "snman.save_street_graph(G, process_path + 'street_graph')\n",
    "snman.save_lane_geometries(G, process_path + 'lane_geometries')"
   ],
   "metadata": {
    "collapsed": false
   }
  }
 ],
 "metadata": {
  "kernelspec": {
   "display_name": "Python 3",
   "language": "python",
   "name": "python3"
  },
  "language_info": {
   "codemirror_mode": {
    "name": "ipython",
    "version": 2
   },
   "file_extension": ".py",
   "mimetype": "text/x-python",
   "name": "python",
   "nbconvert_exporter": "python",
   "pygments_lexer": "ipython2",
   "version": "2.7.6"
  }
 },
 "nbformat": 4,
 "nbformat_minor": 0
}
