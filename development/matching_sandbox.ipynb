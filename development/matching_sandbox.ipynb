{
 "cells": [
  {
   "cell_type": "code",
   "execution_count": 549,
   "outputs": [],
   "source": [
    "import leuvenmapmatching as lv\n",
    "import snman\n",
    "import networkx as nx\n",
    "import geopandas as gpd\n",
    "from leuvenmapmatching.matcher.distance import DistanceMatcher\n",
    "from leuvenmapmatching.map.inmem import InMemMap\n",
    "from leuvenmapmatching import visualization as mmviz\n",
    "import shapely as shp\n",
    "import momepy\n",
    "\n",
    "path='C:/DATA/CLOUD STORAGE/polybox/Research/SNMan/SNMan Shared/development/'\n",
    "crs=2056\n",
    "\n",
    "source = gpd.read_file(path + 'source_network.gpkg').to_crs(crs)\n",
    "target = gpd.read_file(path + 'target_network.gpkg').to_crs(crs)\n",
    "\n",
    "source_test_path = source.iloc[1]['geometry']\n",
    "\n",
    "#G = nx.read_shp(path + 'target_network.gpkg')\n",
    "G = nx.from_pandas_edgelist(target, source='u', target='v', edge_attr='geometry')\n",
    "G = G.to_undirected()\n",
    "\n",
    "for id, data in G.edges.items():\n",
    "    u, v = id\n",
    "    G.nodes[u]['geometry'] = shp.geometry.Point(data['geometry'].coords[0])\n",
    "    G.nodes[v]['geometry'] = shp.geometry.Point(data['geometry'].coords[-1])\n",
    "\n",
    "\n",
    "#snman.export_streetgraph(G, path + 'edges.gpkg', path + 'nodes.gpkg')"
   ],
   "metadata": {
    "collapsed": false
   }
  },
  {
   "cell_type": "code",
   "execution_count": 550,
   "outputs": [
    {
     "data": {
      "text/plain": "[(4, {'geometry': <shapely.geometry.point.Point at 0x20769aa4400>}),\n (1, {'geometry': <shapely.geometry.point.Point at 0x20767810ee0>}),\n (2, {'geometry': <shapely.geometry.point.Point at 0x20767810130>}),\n (3, {'geometry': <shapely.geometry.point.Point at 0x20767810bb0>}),\n (5, {'geometry': <shapely.geometry.point.Point at 0x20767810d60>}),\n (6, {'geometry': <shapely.geometry.point.Point at 0x20767810640>}),\n (7, {'geometry': <shapely.geometry.point.Point at 0x20763865640>}),\n (8, {'geometry': <shapely.geometry.point.Point at 0x2076398eb20>}),\n (9, {'geometry': <shapely.geometry.point.Point at 0x207638656a0>}),\n (10, {'geometry': <shapely.geometry.point.Point at 0x20763865610>}),\n (11, {'geometry': <shapely.geometry.point.Point at 0x20767810d00>})]"
     },
     "execution_count": 550,
     "metadata": {},
     "output_type": "execute_result"
    }
   ],
   "source": [
    "list(G.nodes.items())"
   ],
   "metadata": {
    "collapsed": false
   }
  },
  {
   "cell_type": "code",
   "execution_count": 551,
   "outputs": [
    {
     "name": "stderr",
     "output_type": "stream",
     "text": [
      "Searching closeby nodes with linear search, use an index and set max_dist\n"
     ]
    },
    {
     "name": "stdout",
     "output_type": "stream",
     "text": [
      "States\n",
      "------\n",
      "[(1, 2), (2, 8)]\n",
      "Nodes\n",
      "------\n",
      "[1, 2, 8]\n",
      "\n",
      "Stats lattice\n",
      "-------------\n",
      "nbr levels               : 2\n",
      "nbr lattice              : 40\n",
      "avg lattice[level]       : 20.0\n",
      "min lattice[level]       : 20\n",
      "max lattice[level]       : 20\n",
      "avg obs distance         : 5.384475772864472\n",
      "last logprob             : -0.014192368410111683\n",
      "last length              : 2\n",
      "last norm logprob        : -0.007096184205055841\n"
     ]
    }
   ],
   "source": [
    "map_con = InMemMap(\"myosm\", use_latlon=False)\n",
    "\n",
    "# please note that lv works with lat, lon (reverse order)\n",
    "for id, data in G.nodes.items():\n",
    "    map_con.add_node(id, (data['geometry'].y, data['geometry'].x))\n",
    "\n",
    "for id, data in G.edges.items():\n",
    "    map_con.add_edge(*id)\n",
    "    map_con.add_edge(*id[::-1])\n",
    "\n",
    "# reversed coords\n",
    "path = [coords[::-1] for coords in list(source_test_path.coords)]\n",
    "\n",
    "a = lv.matcher.distance.BaseMatcher(map_con)\n",
    "matcher = DistanceMatcher(map_con, obs_noise=50)\n",
    "\n",
    "states, _ = matcher.match(path)\n",
    "nodes = matcher.path_pred_onlynodes\n",
    "\n",
    "print(\"States\\n------\")\n",
    "print(states)\n",
    "print(\"Nodes\\n------\")\n",
    "print(nodes)\n",
    "print(\"\")\n",
    "matcher.print_lattice_stats()"
   ],
   "metadata": {
    "collapsed": false
   }
  },
  {
   "cell_type": "code",
   "execution_count": 552,
   "outputs": [
    {
     "data": {
      "text/plain": "(None, None)"
     },
     "execution_count": 552,
     "metadata": {},
     "output_type": "execute_result"
    }
   ],
   "source": [
    "mmviz.plot_map(map_con, matcher=matcher,\n",
    "               show_labels=True, show_matching=True, show_graph=True,\n",
    "               filename=\"my_plot.png\")"
   ],
   "metadata": {
    "collapsed": false
   }
  },
  {
   "cell_type": "code",
   "execution_count": 553,
   "outputs": [
    {
     "name": "stderr",
     "output_type": "stream",
     "text": [
      "C:\\Users\\lukas\\AppData\\Local\\Temp\\ipykernel_7256\\2486306270.py:1: FutureWarning: Currently, index_parts defaults to True, but in the future, it will default to False to be consistent with Pandas. Use `index_parts=True` to keep the current behavior and True/False to silence the warning.\n",
      "  target.explode()\n"
     ]
    },
    {
     "data": {
      "text/plain": "     name   u   v                                           geometry\n0 0  None   4   1  LINESTRING (2682837.382 1247900.896, 2682823.3...\n1 0  None   1   2  LINESTRING (2682823.360 1247839.048, 2682781.7...\n2 0  None   1   3  LINESTRING (2682823.360 1247839.048, 2682769.0...\n3 0  None   1   5  LINESTRING (2682823.360 1247839.048, 2682867.1...\n4 0  None   5   6  LINESTRING (2682867.140 1247819.888, 2682884.6...\n5 0  None   6   7  LINESTRING (2682884.655 1247796.631, 2682915.8...\n6 0  None   2   8  LINESTRING (2682781.713 1247867.798, 2682762.9...\n7 0  None   7   9  LINESTRING (2682915.823 1247784.137, 2682976.5...\n8 0  None   9  10  LINESTRING (2682976.514 1247781.282, 2683055.5...\n9 0  None  10  11  LINESTRING (2683055.508 1247728.081, 2683186.0...",
      "text/html": "<div>\n<style scoped>\n    .dataframe tbody tr th:only-of-type {\n        vertical-align: middle;\n    }\n\n    .dataframe tbody tr th {\n        vertical-align: top;\n    }\n\n    .dataframe thead th {\n        text-align: right;\n    }\n</style>\n<table border=\"1\" class=\"dataframe\">\n  <thead>\n    <tr style=\"text-align: right;\">\n      <th></th>\n      <th></th>\n      <th>name</th>\n      <th>u</th>\n      <th>v</th>\n      <th>geometry</th>\n    </tr>\n  </thead>\n  <tbody>\n    <tr>\n      <th>0</th>\n      <th>0</th>\n      <td>None</td>\n      <td>4</td>\n      <td>1</td>\n      <td>LINESTRING (2682837.382 1247900.896, 2682823.3...</td>\n    </tr>\n    <tr>\n      <th>1</th>\n      <th>0</th>\n      <td>None</td>\n      <td>1</td>\n      <td>2</td>\n      <td>LINESTRING (2682823.360 1247839.048, 2682781.7...</td>\n    </tr>\n    <tr>\n      <th>2</th>\n      <th>0</th>\n      <td>None</td>\n      <td>1</td>\n      <td>3</td>\n      <td>LINESTRING (2682823.360 1247839.048, 2682769.0...</td>\n    </tr>\n    <tr>\n      <th>3</th>\n      <th>0</th>\n      <td>None</td>\n      <td>1</td>\n      <td>5</td>\n      <td>LINESTRING (2682823.360 1247839.048, 2682867.1...</td>\n    </tr>\n    <tr>\n      <th>4</th>\n      <th>0</th>\n      <td>None</td>\n      <td>5</td>\n      <td>6</td>\n      <td>LINESTRING (2682867.140 1247819.888, 2682884.6...</td>\n    </tr>\n    <tr>\n      <th>5</th>\n      <th>0</th>\n      <td>None</td>\n      <td>6</td>\n      <td>7</td>\n      <td>LINESTRING (2682884.655 1247796.631, 2682915.8...</td>\n    </tr>\n    <tr>\n      <th>6</th>\n      <th>0</th>\n      <td>None</td>\n      <td>2</td>\n      <td>8</td>\n      <td>LINESTRING (2682781.713 1247867.798, 2682762.9...</td>\n    </tr>\n    <tr>\n      <th>7</th>\n      <th>0</th>\n      <td>None</td>\n      <td>7</td>\n      <td>9</td>\n      <td>LINESTRING (2682915.823 1247784.137, 2682976.5...</td>\n    </tr>\n    <tr>\n      <th>8</th>\n      <th>0</th>\n      <td>None</td>\n      <td>9</td>\n      <td>10</td>\n      <td>LINESTRING (2682976.514 1247781.282, 2683055.5...</td>\n    </tr>\n    <tr>\n      <th>9</th>\n      <th>0</th>\n      <td>None</td>\n      <td>10</td>\n      <td>11</td>\n      <td>LINESTRING (2683055.508 1247728.081, 2683186.0...</td>\n    </tr>\n  </tbody>\n</table>\n</div>"
     },
     "execution_count": 553,
     "metadata": {},
     "output_type": "execute_result"
    }
   ],
   "source": [
    "target.explode()"
   ],
   "metadata": {
    "collapsed": false
   }
  },
  {
   "cell_type": "markdown",
   "source": [],
   "metadata": {
    "collapsed": false
   }
  }
 ],
 "metadata": {
  "kernelspec": {
   "display_name": "Python 3",
   "language": "python",
   "name": "python3"
  },
  "language_info": {
   "codemirror_mode": {
    "name": "ipython",
    "version": 2
   },
   "file_extension": ".py",
   "mimetype": "text/x-python",
   "name": "python",
   "nbconvert_exporter": "python",
   "pygments_lexer": "ipython2",
   "version": "2.7.6"
  }
 },
 "nbformat": 4,
 "nbformat_minor": 0
}
