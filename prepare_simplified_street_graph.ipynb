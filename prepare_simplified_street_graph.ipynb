{
 "cells": [
  {
   "cell_type": "markdown",
   "source": [],
   "metadata": {
    "collapsed": false
   }
  },
  {
   "cell_type": "code",
   "execution_count": 1,
   "outputs": [
    {
     "name": "stderr",
     "output_type": "stream",
     "text": [
      "C:\\Users\\lballo\\AppData\\Roaming\\Python\\Python39\\site-packages\\osmnx\\utils.py:192: UserWarning: The `utils.config` function is deprecated and will be removed in a future release. Instead, use the `settings` module directly to configure a global setting's value. For example, `ox.settings.log_console=True`.\n",
      "  warnings.warn(\n"
     ]
    }
   ],
   "source": [
    "# =====================================================================================\n",
    "# ENVIRONMENT\n",
    "# =====================================================================================\n",
    "\n",
    "import snman\n",
    "from snman.constants import *\n",
    "from snman import osmnx_customized as oxc\n",
    "\n",
    "PERIMETER = 'hardbruecke'\n",
    "# set SAVE_TO_DEBUG = True for saving the cached network into the _debug folder\n",
    "# which is automatically used in the QGIS files\n",
    "SAVE_TO_DEBUG = True\n",
    "INTERSECTION_TOLERANCE = 10\n",
    "\n",
    "# set these paths according to your own setup\n",
    "data_directory = 'C:/Users/lballo/polybox/Research/SNMan/SNMan Shared/data_v2/'\n",
    "inputs_path = data_directory + 'inputs/'\n",
    "if SAVE_TO_DEBUG:\n",
    "    process_path = data_directory + 'process/' + '_debug' + '/'\n",
    "else:\n",
    "    process_path = data_directory + 'process/' + PERIMETER + '/'\n",
    "\n",
    "oxc.settings.useful_tags_way = OSM_TAGS"
   ],
   "metadata": {
    "collapsed": false,
    "ExecuteTime": {
     "end_time": "2023-05-08T19:54:21.857992900Z",
     "start_time": "2023-05-08T19:54:20.311855800Z"
    }
   }
  },
  {
   "cell_type": "code",
   "execution_count": 2,
   "outputs": [
    {
     "name": "stdout",
     "output_type": "stream",
     "text": [
      "Load perimeters\n",
      "Get data from OSM server\n",
      "Load manual intersections\n",
      "Prepare graph\n",
      "Convert CRS of street graph\n",
      "Generate lanes\n",
      "Load sensors and assign them to edges in the raw street graph\n"
     ]
    }
   ],
   "source": [
    "# =====================================================================================\n",
    "# LOAD DATA\n",
    "# =====================================================================================\n",
    "\n",
    "print('Load perimeters')\n",
    "perimeters = snman.io.load_perimeters(inputs_path + 'perimeters/perimeters.shp')\n",
    "\n",
    "print('Get data from OSM server')\n",
    "# At this step, simplification means only removing degree=2 edges\n",
    "G = oxc.graph_from_polygon(\n",
    "    # set the perimeter here\n",
    "    perimeters.to_crs(4326).loc[PERIMETER]['geometry'],\n",
    "    custom_filter=snman.constants.OSM_FILTER,\n",
    "    simplify=True, simplify_strict=False, retain_all=True, one_edge_per_direction=False\n",
    ")\n",
    "\n",
    "print('Load manual intersections')\n",
    "# polygons used to override the automatically detected intersections in some situations\n",
    "given_intersections_gdf = snman.io.load_intersections(\n",
    "    inputs_path + 'intersection_polygons/intersection_polygons.shp'\n",
    ")\n",
    "\n",
    "print('Prepare graph')\n",
    "snman.street_graph.prepare_graph(G)\n",
    "\n",
    "print('Convert CRS of street graph')\n",
    "snman.street_graph.convert_crs(G, DEFAULT_CRS)\n",
    "\n",
    "print('Generate lanes')\n",
    "# interpreting the OSM tags into a collection of lanes on each edge\n",
    "snman.space_allocation.generate_lanes(G)\n",
    "\n",
    "print('Load sensors and assign them to edges in the raw street graph')\n",
    "sensors_df = snman.io.load_sensors(inputs_path + 'sensors/sensors.csv')\n",
    "snman.enrichment.match_sensors(G, sensors_df)"
   ],
   "metadata": {
    "collapsed": false,
    "ExecuteTime": {
     "end_time": "2023-05-08T19:54:22.933359500Z",
     "start_time": "2023-05-08T19:54:21.857992900Z"
    }
   }
  },
  {
   "cell_type": "code",
   "execution_count": 3,
   "outputs": [
    {
     "name": "stdout",
     "output_type": "stream",
     "text": [
      "Identify hierarchy\n"
     ]
    }
   ],
   "source": [
    "# =====================================================================================\n",
    "# ENRICH\n",
    "# =====================================================================================\n",
    "\n",
    "if 1:\n",
    "    print('Identify hierarchy')\n",
    "    # split the edges into hierarchy categories, such as main roads, local roads, etc.\n",
    "    snman.hierarchy.add_hierarchy(G)"
   ],
   "metadata": {
    "collapsed": false,
    "ExecuteTime": {
     "end_time": "2023-05-08T19:54:22.978896200Z",
     "start_time": "2023-05-08T19:54:22.935578Z"
    }
   }
  },
  {
   "cell_type": "code",
   "execution_count": 5,
   "outputs": [
    {
     "name": "stdout",
     "output_type": "stream",
     "text": [
      "Simplify edge geometries\n",
      "ITERATION 0\n",
      "Detect intersections\n",
      "Split through edges in intersections\n",
      "Detect intersections (repeat to ensure that no points are outside of intersections)\n",
      "Add layers to nodes\n",
      "Add connections between components in intersections\n",
      "Consolidate intersections\n",
      "Merge consecutive edges\n",
      "Merge parallel edges\n"
     ]
    },
    {
     "name": "stderr",
     "output_type": "stream",
     "text": [
      "C:\\Users\\lballo\\AppData\\Roaming\\Python\\Python39\\site-packages\\shapely\\linear.py:208: RuntimeWarning: invalid value encountered in shortest_line\n",
      "  return lib.shortest_line(a, b, **kwargs)\n"
     ]
    },
    {
     "name": "stdout",
     "output_type": "stream",
     "text": [
      "Update precalculated attributes\n",
      "ITERATION 1\n",
      "Detect intersections\n",
      "Split through edges in intersections\n",
      "not len(nodes) == len(split_points) + 2 == len(edge_linestrings) + 1\n",
      "[(21, <POINT (2681368.723 1248100.821)>), (574, <POINT (2681397.077 1248085.578)>), (575, <POINT (2681424.323 1248070.93)>), (576, <POINT (2681449.158 1248061.914)>), (577, <POINT (2681456.397 1248074.839)>), (578, <POINT (2681474.065 1248087.794)>), (579, <POINT (2681469.026 1248122.091)>), (580, <POINT (2681468.35 1248120.514)>), (581, <POINT (2681437.958 1248133.319)>), (171, <POINT (2681397.433 1248141.923)>)]\n",
      "[<POINT (2681449.158 1248061.914)> <POINT (2681424.323 1248070.93)>\n",
      " <POINT (2681456.397 1248074.839)> <POINT (2681397.077 1248085.578)>\n",
      " <POINT (2681474.065 1248087.794)> <POINT (2681468.468 1248120.789)>\n",
      " <POINT (2681437.957 1248133.319)>]\n",
      "[<LINESTRING (2681368.723 1248100.821, 2681396.989 1248085.625)>, <LINESTRING (2681397.165 1248085.531, 2681397.165 1248085.531, 2681424.235 1...>, <LINESTRING (2681424.411 1248070.883, 2681447.376 1248058.537, 2681449.111 1...>, <LINESTRING (2681449.204 1248062.002, 2681450.939 1248065.291, 2681456.347 1...>, <LINESTRING (2681456.446 1248074.926, 2681463.617 1248087.503, 2681474.007 1...>, <LINESTRING (2681474.104 1248087.886, 2681485.025 1248113.55, 2681469.544 12...>, <LINESTRING (2681468.507 1248120.881, 2681468.429 1248120.698)>, <LINESTRING (2681469.544 1248123.3, 2681445.554 1248133.433, 2681438.023 124...>, <LINESTRING (2681437.894 1248133.397, 2681432.933 1248139.509, 2681397.433 1...>]\n",
      "not len(nodes) == len(split_points) + 2 == len(edge_linestrings) + 1\n",
      "[(40, <POINT (2680814.371 1248702.315)>), (586, <POINT (2680799.913 1248683.004)>), (587, <POINT (2680797.598 1248684.296)>), (588, <POINT (2680787.567 1248658.529)>), (38, <POINT (2680904.552 1248586.982)>)]\n",
      "[<POINT (2680787.567 1248658.529)> <POINT (2680797.86 1248684.15)>]\n",
      "[<LINESTRING (2680814.371 1248702.315, 2680801.879 1248681.908)>, <LINESTRING (2680797.947 1248684.101, 2680797.772 1248684.199)>, <LINESTRING (2680801.879 1248681.908, 2680787.619 1248658.614)>, <LINESTRING (2680787.515 1248658.444, 2680787.437 1248658.316, 2680904.552 1...>]\n",
      "not len(nodes) == len(split_points) + 2 == len(edge_linestrings) + 1\n",
      "[(205, <POINT (2682053.461 1249068.258)>), (625, <POINT (2681883.993 1248979.776)>), (626, <POINT (2681883.47 1248980.701)>), (627, <POINT (2681735.812 1248814.356)>), (425, <POINT (2681727.8 1248832.375)>)]\n",
      "[<POINT (2681735.812 1248814.356)> <POINT (2681883.617 1248980.441)>]\n",
      "[<LINESTRING (2682053.461 1249068.258, 2682054.69 1249065.929, 2681884.32 124...>, <LINESTRING (2681883.666 1248980.354, 2681883.568 1248980.528)>, <LINESTRING (2681884.32 1248979.198, 2681835.373 1248949.445, 2681791.108 12...>, <LINESTRING (2681735.771 1248814.265, 2681735.709 1248814.126, 2681722.797 1...>]\n",
      "not len(nodes) == len(split_points) + 2 == len(edge_linestrings) + 1\n",
      "[(463, <POINT (2680911.362 1248740.321)>), (668, <POINT (2680849.678 1248767.196)>), (669, <POINT (2680848.231 1248767.841)>), (670, <POINT (2680829.752 1248735.619)>), (40, <POINT (2680814.371 1248702.315)>)]\n",
      "[<POINT (2680829.752 1248735.619)> <POINT (2680848.505 1248767.719)>]\n",
      "[<LINESTRING (2680911.362 1248740.321, 2680850.761 1248766.714)>, <LINESTRING (2680848.596 1248767.678, 2680848.413 1248767.76)>, <LINESTRING (2680850.761 1248766.714, 2680833.82 1248736.394, 2680829.85 124...>, <LINESTRING (2680829.654 1248735.6, 2680829.401 1248735.552, 2680831.592 124...>]\n",
      "Detect intersections (repeat to ensure that no points are outside of intersections)\n",
      "Add layers to nodes\n",
      "Add connections between components in intersections\n",
      "Consolidate intersections\n",
      "Merge consecutive edges\n",
      "Merge parallel edges\n",
      "Update precalculated attributes\n",
      "ITERATION 2\n",
      "Detect intersections\n"
     ]
    },
    {
     "name": "stderr",
     "output_type": "stream",
     "text": [
      "C:\\Users\\lballo\\AppData\\Roaming\\Python\\Python39\\site-packages\\shapely\\linear.py:208: RuntimeWarning: invalid value encountered in shortest_line\n",
      "  return lib.shortest_line(a, b, **kwargs)\n"
     ]
    },
    {
     "name": "stdout",
     "output_type": "stream",
     "text": [
      "Split through edges in intersections\n",
      "not len(nodes) == len(split_points) + 2 == len(edge_linestrings) + 1\n",
      "[(5, <POINT (2681303.653 1248570.807)>), (649, <POINT (2681277.565 1248589.425)>), (650, <POINT (2681277.054 1248584.1)>), (651, <POINT (2681242.103 1248592.432)>), (652, <POINT (2681241.317 1248589.763)>), (8, <POINT (2681196.572 1248584.591)>)]\n",
      "[<POINT (2681277.454 1248588.271)> <POINT (2681241.919 1248591.809)>]\n",
      "[<LINESTRING (2681303.653 1248570.807, 2681301.151 1248577.934, 2681277.754 1...>, <LINESTRING (2681277.464 1248588.37, 2681277.445 1248588.171)>, <LINESTRING (2681277.666 1248590.481, 2681277.578 1248590.528, 2681274.143 1...>, <LINESTRING (2681241.947 1248591.905, 2681241.891 1248591.713)>, <LINESTRING (2681242.258 1248592.96, 2681201.997 1248590.306, 2681196.572 12...>]\n",
      "not len(nodes) == len(split_points) + 2 == len(edge_linestrings) + 1\n",
      "[(5, <POINT (2681303.653 1248570.807)>), (649, <POINT (2681316.536 1248546.647)>), (650, <POINT (2681325.581 1248534.806)>), (651, <POINT (2681327.547 1248534.478)>), (275, <POINT (2681362.347 1248477.806)>)]\n",
      "[<POINT (2681327.547 1248534.478)> <POINT (2681316.536 1248546.647)>]\n",
      "[<LINESTRING (2681303.653 1248570.807, 2681305.311 1248556.575, 2681313.332 1...>, <LINESTRING (2681316.619 1248546.703, 2681316.633 1248546.712, 2681319.878 1...>, <LINESTRING (2681326.91 1248535.623, 2681327.499 1248534.566)>, <LINESTRING (2681327.596 1248534.391, 2681361.065 1248474.257, 2681362.347 1...>]\n",
      "not len(nodes) == len(split_points) + 2 == len(edge_linestrings) + 1\n",
      "[(21, <POINT (2681368.723 1248100.821)>), (658, <POINT (2681369.992 1248038.23)>), (659, <POINT (2681363.526 1248037.114)>), (163, <POINT (2681381.294 1247996.106)>)]\n",
      "[<POINT (2681363.973 1248037.191)>]\n",
      "[<LINESTRING (2681368.723 1248100.821, 2681375.913 1248039.253)>, <LINESTRING (2681364.071 1248037.208, 2681363.874 1248037.174)>, <LINESTRING (2681375.913 1248039.253, 2681381.294 1247996.106)>]\n",
      "not len(nodes) == len(split_points) + 2 == len(edge_linestrings) + 1\n",
      "[(21, <POINT (2681368.723 1248100.821)>), (658, <POINT (2681397.077 1248085.578)>), (659, <POINT (2681424.323 1248070.93)>), (660, <POINT (2681449.158 1248061.914)>), (661, <POINT (2681456.397 1248074.839)>), (662, <POINT (2681474.065 1248087.794)>), (663, <POINT (2681469.026 1248122.091)>), (664, <POINT (2681468.35 1248120.514)>), (665, <POINT (2681437.958 1248133.319)>), (171, <POINT (2681397.433 1248141.923)>)]\n",
      "[<POINT (2681449.158 1248061.914)> <POINT (2681424.323 1248070.93)>\n",
      " <POINT (2681456.397 1248074.839)> <POINT (2681397.077 1248085.578)>\n",
      " <POINT (2681474.065 1248087.794)> <POINT (2681468.468 1248120.789)>\n",
      " <POINT (2681437.957 1248133.319)>]\n",
      "[<LINESTRING (2681368.723 1248100.821, 2681396.989 1248085.625)>, <LINESTRING (2681397.165 1248085.531, 2681397.165 1248085.531, 2681424.235 1...>, <LINESTRING (2681424.411 1248070.883, 2681447.376 1248058.537, 2681449.111 1...>, <LINESTRING (2681449.204 1248062.002, 2681450.939 1248065.291, 2681456.347 1...>, <LINESTRING (2681456.446 1248074.926, 2681463.617 1248087.503, 2681474.007 1...>, <LINESTRING (2681474.104 1248087.886, 2681485.025 1248113.55, 2681469.544 12...>, <LINESTRING (2681468.507 1248120.881, 2681468.429 1248120.698)>, <LINESTRING (2681469.544 1248123.3, 2681445.554 1248133.433, 2681438.023 124...>, <LINESTRING (2681437.894 1248133.397, 2681432.933 1248139.509, 2681397.433 1...>]\n",
      "not len(nodes) == len(split_points) + 2 == len(edge_linestrings) + 1\n",
      "[(27, <POINT (2681967.484 1249617.603)>), (661, <POINT (2681940.655 1249586.068)>), (662, <POINT (2681944.046 1249584.694)>), (663, <POINT (2681930.114 1249570.961)>), (119, <POINT (2681915.338 1249575.234)>)]\n",
      "[<POINT (2681943.768 1249584.807)>]\n",
      "[<LINESTRING (2681967.484 1249617.603, 2681950.042 1249606.358, 2681937.689 1...>, <LINESTRING (2681943.676 1249584.845, 2681943.861 1249584.769)>, <LINESTRING (2681937.635 1249587.292, 2681937.58 1249587.208, 2681927.571 12...>, <LINESTRING (2681927.571 1249571.826, 2681915.338 1249575.234)>]\n",
      "not len(nodes) == len(split_points) + 2 == len(edge_linestrings) + 1\n",
      "[(40, <POINT (2680814.371 1248702.315)>), (663, <POINT (2680799.913 1248683.004)>), (664, <POINT (2680797.598 1248684.296)>), (665, <POINT (2680787.567 1248658.529)>), (38, <POINT (2680904.552 1248586.982)>)]\n",
      "[<POINT (2680787.567 1248658.529)> <POINT (2680797.86 1248684.15)>]\n",
      "[<LINESTRING (2680814.371 1248702.315, 2680801.879 1248681.908)>, <LINESTRING (2680797.947 1248684.101, 2680797.772 1248684.199)>, <LINESTRING (2680801.879 1248681.908, 2680787.619 1248658.614)>, <LINESTRING (2680787.515 1248658.444, 2680787.437 1248658.316, 2680904.552 1...>]\n",
      "not len(nodes) == len(split_points) + 2 == len(edge_linestrings) + 1\n",
      "[(205, <POINT (2682053.461 1249068.258)>), (721, <POINT (2681883.993 1248979.776)>), (722, <POINT (2681883.47 1248980.701)>), (723, <POINT (2681735.812 1248814.356)>), (423, <POINT (2681727.8 1248832.375)>)]\n",
      "[<POINT (2681735.812 1248814.356)> <POINT (2681883.617 1248980.441)>]\n",
      "[<LINESTRING (2682053.461 1249068.258, 2682054.69 1249065.929, 2681884.32 124...>, <LINESTRING (2681883.666 1248980.354, 2681883.568 1248980.528)>, <LINESTRING (2681884.32 1248979.198, 2681835.373 1248949.445, 2681791.108 12...>, <LINESTRING (2681735.771 1248814.265, 2681735.709 1248814.126, 2681722.797 1...>]\n",
      "not len(nodes) == len(split_points) + 2 == len(edge_linestrings) + 1\n",
      "[(215, <POINT (2681678.448 1248988.193)>), (723, <POINT (2681654.791 1249006.637)>), (724, <POINT (2681654.324 1249005.896)>), (725, <POINT (2681616.316 1249026.88)>), (97, <POINT (2681577.516 1249047.272)>)]\n",
      "[<POINT (2681616.316 1249026.88)> <POINT (2681654.719 1249006.524)>]\n",
      "[<LINESTRING (2681678.448 1248988.193, 2681674.088 1248994.777, 2681654.894 1...>, <LINESTRING (2681654.772 1249006.608, 2681654.666 1249006.439)>, <LINESTRING (2681654.809 1249006.666, 2681654.724 1249006.718, 2681615.093 1...>, <LINESTRING (2681616.272 1249026.79, 2681614.154 1249022.518, 2681614.069 12...>]\n",
      "not len(nodes) == len(split_points) + 2 == len(edge_linestrings) + 1\n",
      "[(217, <POINT (2681648.049 1248940.089)>), (723, <POINT (2681654.482 1248958.935)>), (724, <POINT (2681657.88 1248956.787)>), (215, <POINT (2681678.448 1248988.193)>)]\n",
      "[<POINT (2681655.429 1248958.336)>]\n",
      "[<LINESTRING (2681648.049 1248940.089, 2681653.619 1248959.48)>, <LINESTRING (2681655.344 1248958.39, 2681655.513 1248958.283)>, <LINESTRING (2681653.619 1248959.48, 2681670.315 1248988.587, 2681678.448 12...>]\n",
      "not len(nodes) == len(split_points) + 2 == len(edge_linestrings) + 1\n",
      "[(237, <POINT (2681475.093 1249121.243)>), (726, <POINT (2681414.354 1249155.306)>), (727, <POINT (2681415.62 1249159.697)>), (48, <POINT (2681330.108 1249222.746)>)]\n",
      "[<POINT (2681414.46 1249155.674)>]\n",
      "[<LINESTRING (2681475.093 1249121.243, 2681459.847 1249126.315, 2681414.36 12...>, <LINESTRING (2681414.432 1249155.578, 2681414.488 1249155.77)>, <LINESTRING (2681414.276 1249155.035, 2681414.191 1249155.088, 2681342.48 12...>]\n",
      "not len(nodes) == len(split_points) + 2 == len(edge_linestrings) + 1\n",
      "[(254, <POINT (2681627.953 1249123.342)>), (731, <POINT (2681615.686 1249085.947)>), (732, <POINT (2681613.007 1249087.798)>), (97, <POINT (2681577.516 1249047.272)>)]\n",
      "[<POINT (2681615.265 1249086.238)>]\n",
      "[<LINESTRING (2681627.953 1249123.342, 2681630.647 1249108.574, 2681616.079 1...>, <LINESTRING (2681615.348 1249086.181, 2681615.183 1249086.295)>, <LINESTRING (2681616.025 1249085.713, 2681615.971 1249085.629, 2681599.119 1...>]\n",
      "not len(nodes) == len(split_points) + 2 == len(edge_linestrings) + 1\n",
      "[(282, <POINT (2681514.101 1248932.877)>), (736, <POINT (2681535.188 1248967.104)>), (737, <POINT (2681548.705 1248995.955)>), (738, <POINT (2681555.286 1248995.454)>), (245, <POINT (2681555.319 1249023.689)>)]\n",
      "[<POINT (2681549.672 1248995.881)> <POINT (2681535.188 1248967.104)>]\n",
      "[<LINESTRING (2681514.101 1248932.877, 2681526.528 1248943.442, 2681539.401 1...>, <LINESTRING (2681535.101 1248967.154, 2681531.009 1248969.512, 2681531.062 1...>, <LINESTRING (2681549.573 1248995.889, 2681549.772 1248995.874)>, <LINESTRING (2681547.837 1248996.021, 2681547.89 1248996.106, 2681561.586 12...>]\n",
      "not len(nodes) == len(split_points) + 2 == len(edge_linestrings) + 1\n",
      "[(282, <POINT (2681514.101 1248932.877)>), (736, <POINT (2681521.009 1248975.273)>), (737, <POINT (2681519.051 1248976.406)>), (536, <POINT (2681534.592 1249003.842)>)]\n",
      "[<POINT (2681520.79 1248975.4)>]\n",
      "[<LINESTRING (2681514.101 1248932.877, 2681498.347 1248941.042, 2681498.403 1...>, <LINESTRING (2681520.877 1248975.35, 2681520.704 1248975.45)>, <LINESTRING (2681521.141 1248975.197, 2681521.196 1248975.28, 2681538.61 124...>]\n",
      "not len(nodes) == len(split_points) + 2 == len(edge_linestrings) + 1\n",
      "[(287, <POINT (2682056.167 1249400.925)>), (737, <POINT (2682067.74 1249384.766)>), (738, <POINT (2682068.051 1249386.948)>), (289, <POINT (2682095.411 1249363.768)>)]\n",
      "[<POINT (2682068.009 1249386.651)>]\n",
      "[<LINESTRING (2682056.167 1249400.925, 2682049.653 1249395.247, 2682067.403 1...>, <LINESTRING (2682067.995 1249386.553, 2682068.023 1249386.75)>, <LINESTRING (2682067.486 1249382.979, 2682067.568 1249382.923, 2682095.411 1...>]\n"
     ]
    },
    {
     "name": "stderr",
     "output_type": "stream",
     "text": [
      "C:\\Users\\lballo\\AppData\\Roaming\\Python\\Python39\\site-packages\\pandas\\core\\arraylike.py:495: RuntimeWarning: invalid value encountered in shortest_line\n",
      "  return getattr(ufunc, method)(*new_inputs, **kwargs)\n"
     ]
    },
    {
     "name": "stdout",
     "output_type": "stream",
     "text": [
      "not len(nodes) == len(split_points) + 2 == len(edge_linestrings) + 1\n",
      "[(354, <POINT (2681516.675 1248932.005)>), (753, <POINT (2681534.523 1248967.545)>), (754, <POINT (2681543.924 1248992.918)>), (755, <POINT (2681561.227 1249018.01)>), (756, <POINT (2681586.161 1249049.341)>), (757, <POINT (2681608.011 1249091.249)>), (758, <POINT (2681624.961 1249125.205)>), (759, <POINT (2681626.766 1249124.023)>), (760, <POINT (2681651.852 1249166.934)>), (761, <POINT (2681653.65 1249165.831)>), (762, <POINT (2681673.772 1249200.64)>), (763, <POINT (2681675.536 1249199.557)>), (764, <POINT (2681700.002 1249241.547)>), (765, <POINT (2681701.798 1249240.602)>), (766, <POINT (2681740.268 1249303.828)>), (767, <POINT (2681741.938 1249302.82)>), (768, <POINT (2681759.523 1249327.329)>), (769, <POINT (2681785.504 1249367.614)>), (770, <POINT (2681804.993 1249396.829)>), (507, <POINT (2681824.594 1249419.044)>)]\n",
      "[<POINT (2681561.227 1249018.01)> <POINT (2681586.161 1249049.341)>\n",
      " <POINT (2681625.081 1249125.126)> <POINT (2681651.957 1249166.87)>\n",
      " <POINT (2681804.993 1249396.829)> <POINT (2681785.504 1249367.614)>\n",
      " <POINT (2681740.458 1249303.713)> <POINT (2681700.128 1249241.481)>\n",
      " <POINT (2681759.523 1249327.329)> <POINT (2681543.924 1248992.918)>\n",
      " <POINT (2681608.011 1249091.249)> <POINT (2681534.523 1248967.545)>\n",
      " <POINT (2681674.006 1249200.496)>]\n",
      "[<LINESTRING (2681516.675 1248932.005, 2681539.635 1248947.425, 2681542.013 1...>, <LINESTRING (2681534.436 1248967.594, 2681534.428 1248967.598, 2681526.335 1...>, <LINESTRING (2681543.934 1248992.818, 2681544.146 1248990.669, 2681544.935 1...>, <LINESTRING (2681561.141 1249018.06, 2681557.292 1249020.335, 2681557.346 12...>, <LINESTRING (2681586.215 1249049.425, 2681611.391 1249088.793, 2681611.445 1...>, <LINESTRING (2681607.929 1249091.306, 2681604.55 1249093.641, 2681604.604 12...>, <LINESTRING (2681624.997 1249125.181, 2681625.164 1249125.072)>, <LINESTRING (2681624.924 1249125.229, 2681624.978 1249125.313, 2681651.778 1...>, <LINESTRING (2681651.871 1249166.922, 2681652.042 1249166.818)>, <LINESTRING (2681651.832 1249166.946, 2681651.887 1249167.03, 2681673.569 12...>, <LINESTRING (2681673.921 1249200.548, 2681674.091 1249200.444)>, <LINESTRING (2681673.624 1249200.731, 2681673.678 1249200.815, 2681699.91 12...>, <LINESTRING (2681700.04 1249241.527, 2681700.217 1249241.434)>, <LINESTRING (2681699.964 1249241.568, 2681700.018 1249241.651, 2681740.109 1...>, <LINESTRING (2681740.373 1249303.765, 2681740.544 1249303.662)>, <LINESTRING (2681740.163 1249303.892, 2681740.217 1249303.975, 2681756.212 1...>, <LINESTRING (2681759.613 1249327.286, 2681762.918 1249325.734, 2681788.583 1...>, <LINESTRING (2681785.415 1249367.66, 2681782.334 1249369.271, 2681782.388 12...>, <LINESTRING (2681805.035 1249396.738, 2681806.394 1249393.762, 2681832.385 1...>]\n",
      "not len(nodes) == len(split_points) + 2 == len(edge_linestrings) + 1\n",
      "[(365, <POINT (2681520.983 1248407.293)>), (754, <POINT (2681549.652 1248426.669)>), (755, <POINT (2681556.299 1248423.994)>), (130, <POINT (2681500.142 1248483.357)>)]\n",
      "[<POINT (2681556.02 1248424.106)>]\n",
      "[<LINESTRING (2681520.983 1248407.293, 2681543.376 1248429.195)>, <LINESTRING (2681555.928 1248424.143, 2681556.113 1248424.069)>, <LINESTRING (2681543.376 1248429.195, 2681494.175 1248480.712, 2681500.142 1...>]\n",
      "not len(nodes) == len(split_points) + 2 == len(edge_linestrings) + 1\n",
      "[(374, <POINT (2681980.795 1249438.424)>), (756, <POINT (2681922.367 1249439.167)>), (757, <POINT (2681923.055 1249441.948)>), (508, <POINT (2681894.482 1249448.536)>)]\n",
      "[<POINT (2681922.489 1249439.661)>]\n",
      "[<LINESTRING (2681980.795 1249438.424, 2681980.167 1249435.076, 2681979.317 1...>, <LINESTRING (2681922.465 1249439.564, 2681922.513 1249439.758)>, <LINESTRING (2681922.269 1249438.769, 2681922.169 1249438.78, 2681892.617 12...>]\n",
      "not len(nodes) == len(split_points) + 2 == len(edge_linestrings) + 1\n",
      "[(398, <POINT (2681898.453 1249380.057)>), (757, <POINT (2681884.206 1249401.23)>), (758, <POINT (2681884.401 1249402.915)>), (188, <POINT (2681871.457 1249417.982)>)]\n",
      "[<POINT (2681884.206 1249401.23)>]\n",
      "[<LINESTRING (2681898.453 1249380.057, 2681901.977 1249382.63, 2681901.908 12...>, <LINESTRING (2681884.137 1249401.302, 2681883.513 1249401.955)>, <LINESTRING (2681883.513 1249401.955, 2681874.019 1249411.464, 2681871.457 1...>]\n",
      "not len(nodes) == len(split_points) + 2 == len(edge_linestrings) + 1\n",
      "[(461, <POINT (2680906.385 1248726.088)>), (761, <POINT (2680849.678 1248767.196)>), (762, <POINT (2680848.231 1248767.841)>), (763, <POINT (2680829.752 1248735.619)>), (40, <POINT (2680814.371 1248702.315)>)]\n",
      "[<POINT (2680829.752 1248735.619)> <POINT (2680848.505 1248767.719)>]\n",
      "[<LINESTRING (2680906.385 1248726.088, 2680911.362 1248740.321, 2680850.761 1...>, <LINESTRING (2680848.596 1248767.678, 2680848.413 1248767.76)>, <LINESTRING (2680850.761 1248766.714, 2680833.82 1248736.394, 2680829.85 124...>, <LINESTRING (2680829.654 1248735.6, 2680829.401 1248735.552, 2680831.592 124...>]\n",
      "Detect intersections (repeat to ensure that no points are outside of intersections)\n",
      "Add layers to nodes\n",
      "Add connections between components in intersections\n",
      "Consolidate intersections\n",
      "Merge consecutive edges\n",
      "Merge parallel edges\n",
      "Update precalculated attributes\n"
     ]
    }
   ],
   "source": [
    "# =====================================================================================\n",
    "# CONSOLIDATE PARALLEL AND CONSECUTIVE EDGES\n",
    "# =====================================================================================\n",
    "if 1:\n",
    "    print('Simplify edge geometries')\n",
    "    snman.simplification.simplify_edge_geometries(G, 5)\n",
    "\n",
    "for i in range(3):\n",
    "\n",
    "    print('ITERATION', i)\n",
    "\n",
    "    print('Detect intersections')\n",
    "    intersections_gdf = snman.simplification.merge_nodes_geometric(\n",
    "        G, INTERSECTION_TOLERANCE,\n",
    "        given_intersections_gdf=given_intersections_gdf\n",
    "    )\n",
    "\n",
    "    print('Split through edges in intersections')\n",
    "    snman.simplification.split_through_edges_in_intersections(G, intersections_gdf)\n",
    "\n",
    "    print('Detect intersections (repeat to ensure that no points are outside of intersections)')\n",
    "    intersections_gdf = snman.simplification.merge_nodes_geometric(\n",
    "        G, INTERSECTION_TOLERANCE,\n",
    "        given_intersections_gdf=given_intersections_gdf\n",
    "    )\n",
    "\n",
    "    print('Add layers to nodes')\n",
    "    snman.simplification.add_layers_to_nodes(G)\n",
    "\n",
    "    print('Add connections between components in intersections')\n",
    "    snman.simplification.connect_components_in_intersections(G, intersections_gdf, separate_layers=True)\n",
    "\n",
    "    print('Consolidate intersections')\n",
    "    G = snman.simplification.consolidate_intersections(\n",
    "        G, intersections_gdf,\n",
    "        reconnect_edges=True\n",
    "    )\n",
    "\n",
    "    print('Merge consecutive edges')\n",
    "    snman.merge_edges.merge_consecutive_edges(G)\n",
    "\n",
    "    print('Merge parallel edges')\n",
    "    snman.merge_edges.merge_parallel_edges(G)\n",
    "\n",
    "    print('Update precalculated attributes')\n",
    "    snman.street_graph.update_precalculated_attributes(G)\n",
    "\n",
    "snman.simplification.simplify_edge_geometries(G, 35)\n",
    "G = snman.graph_utils.keep_only_the_largest_connected_component(G, weak=True)\n"
   ],
   "metadata": {
    "collapsed": false,
    "ExecuteTime": {
     "end_time": "2023-05-08T19:54:57.108714200Z",
     "start_time": "2023-05-08T19:54:23.065609300Z"
    }
   }
  },
  {
   "cell_type": "code",
   "execution_count": 6,
   "outputs": [
    {
     "name": "stdout",
     "output_type": "stream",
     "text": [
      "Add lane stats to edges\n",
      "Update OSM tags\n"
     ]
    }
   ],
   "source": [
    "# =====================================================================================\n",
    "# UPDATE PRE-CALCULATED ATTRIBUTES\n",
    "# =====================================================================================\n",
    "\n",
    "print('Add lane stats to edges')\n",
    "# how many lanes, how wide, etc.\n",
    "snman.space_allocation.generate_lane_stats(G)\n",
    "\n",
    "print('Update OSM tags')\n",
    "# to match the simplified and merged edges\n",
    "snman.space_allocation.update_osm_tags(G)\n",
    "\n",
    "if 0:\n",
    "    print('Update street counts per node')\n",
    "    # TODO: include in a function for updating pre-calculated attributes, adjust for directed graph\n",
    "    spn = oxc.stats.count_streets_per_node(G, nodes=G.nodes)\n",
    "    nx.set_node_attributes(G, values=spn, name=\"street_count\")"
   ],
   "metadata": {
    "collapsed": false,
    "ExecuteTime": {
     "end_time": "2023-05-08T19:54:57.153962400Z",
     "start_time": "2023-05-08T19:54:57.111412400Z"
    }
   }
  },
  {
   "cell_type": "code",
   "execution_count": 7,
   "outputs": [
    {
     "name": "stdout",
     "output_type": "stream",
     "text": [
      "Add elevation\n"
     ]
    }
   ],
   "source": [
    "# =====================================================================================\n",
    "# ENRICH\n",
    "# =====================================================================================\n",
    "\n",
    "if 0:\n",
    "    #TODO: use mapmatching for better performance and accuracy\n",
    "    #TODO: add route direction for one-way sections\n",
    "    print('Add public transport')\n",
    "    pt_network = snman.io.import_geofile_to_gdf(inputs_path + \"public_transit/ZVV_LINIEN_GEN_L.shp\")\n",
    "    snman.enrichment.match_pt(G, pt_network)\n",
    "\n",
    "if 1:\n",
    "    print('Add elevation')\n",
    "    G = oxc.elevation.add_node_elevations_raster(G, inputs_path + 'ch_dhm_25/2056/ch_dhm_2056.tif', cpus=1)\n",
    "    G = oxc.elevation.add_edge_grades(G, add_absolute=False)\n",
    "\n",
    "if 0:\n",
    "    print('Add traffic counts')\n",
    "    source = gpd.read_file(inputs_path + 'traffic_volumes/npvm_2017_filtered.gpkg').to_crs(2056)\n",
    "    source['fid'] = source.index\n",
    "    # Remove links with zero traffic (otherwise they will distort the averages on the matched links)\n",
    "    source = source[source['DTV_ALLE'] > 0]\n",
    "    snman.enrichment.match_linestrings(G, source, [\n",
    "        {'source_column': 'DTV_ALLE',   'target_column': 'adt_avg',         'agg': 'avg' },\n",
    "        {'source_column': 'DTV_ALLE',   'target_column': 'adt_max',         'agg': 'max' },\n",
    "        {'source_column': 'FROMNODENO', 'target_column': 'npvm_fromnodeno', 'agg': 'list'},\n",
    "        {'source_column': 'TONODENO',   'target_column': 'npvm_tonodeno',   'agg': 'list'}\n",
    "    ])"
   ],
   "metadata": {
    "collapsed": false,
    "ExecuteTime": {
     "end_time": "2023-05-08T19:54:57.237125300Z",
     "start_time": "2023-05-08T19:54:57.127090100Z"
    }
   }
  },
  {
   "cell_type": "code",
   "execution_count": 8,
   "outputs": [
    {
     "name": "stdout",
     "output_type": "stream",
     "text": [
      "Export street graph graph\n",
      "Export lane geometries\n",
      "Save intersection geometries into a file\n",
      "Export as OSM\n"
     ]
    }
   ],
   "source": [
    "# =====================================================================================\n",
    "# EXPORT\n",
    "# =====================================================================================\n",
    "\n",
    "if 1:\n",
    "    print('Export street graph graph')\n",
    "    # each street is one edge, the lanes are saved as an attribute\n",
    "    snman.io.export_street_graph(G, process_path + 'street_graph_edges.gpkg', process_path + 'street_graph_nodes.gpkg')\n",
    "\n",
    "if 1:\n",
    "    print('Export lane geometries')\n",
    "    # each lane has an own geometry and with as an attribute, for visualization purposes\n",
    "    snman.io.export_street_graph_with_lanes(G, KEY_LANES_DESCRIPTION, process_path + 'lane_geometries.shp', scaling=2)\n",
    "\n",
    "if 1:\n",
    "    print('Save intersection geometries into a file')\n",
    "    snman.io.export_gdf(intersections_gdf, process_path + 'intersections_polygons.gpkg', columns=['geometry'])\n",
    "\n",
    "if 1:\n",
    "    print('Export as OSM')\n",
    "    export_osm_tags = {\n",
    "            'highway', 'maxspeed',\n",
    "            'lanes', 'lanes:forward', 'lanes:backward', 'lanes:both_ways', 'oneway',\n",
    "            'cycleway', 'cycleway:lane', 'cycleway:left', 'cycleway:left:lane', 'cycleway:right', 'cycleway:right:lane',\n",
    "            'bus:lanes:backward', 'bus:lanes:forward', 'vehicle:lanes:backward', 'vehicle:lanes:forward',\n",
    "            '_connected_component'\n",
    "        }\n",
    "\n",
    "    snman.io.export_osm_xml(G, process_path + 'osm.osm', export_osm_tags, uv_tags=True, tag_all_nodes=False)"
   ],
   "metadata": {
    "collapsed": false,
    "ExecuteTime": {
     "end_time": "2023-05-08T19:54:58.081087200Z",
     "start_time": "2023-05-08T19:54:57.238122200Z"
    }
   }
  }
 ],
 "metadata": {
  "kernelspec": {
   "display_name": "Python 3",
   "language": "python",
   "name": "python3"
  },
  "language_info": {
   "codemirror_mode": {
    "name": "ipython",
    "version": 2
   },
   "file_extension": ".py",
   "mimetype": "text/x-python",
   "name": "python",
   "nbconvert_exporter": "python",
   "pygments_lexer": "ipython2",
   "version": "2.7.6"
  }
 },
 "nbformat": 4,
 "nbformat_minor": 0
}
