{
 "cells": [
  {
   "cell_type": "markdown",
   "source": [
    "OSM export\n",
    "==========\n",
    "Loads a street graph and exports it in OSM format, e.g., for MATSim"
   ],
   "metadata": {
    "collapsed": false
   }
  },
  {
   "cell_type": "code",
   "execution_count": null,
   "outputs": [],
   "source": [
    "import snman\n",
    "import networkx as nx\n",
    "\n",
    "PERIMETER = 'zollikerberg'\n",
    "\n",
    "# Set these paths according to your own setup\n",
    "data_directory = 'C:/Users/lballo/polybox/Research/SNMan/SNMan Shared/data/'\n",
    "inputs_path = data_directory + 'inputs/'\n",
    "export_path = data_directory + 'outputs/' + PERIMETER + '/'\n",
    "process_path = data_directory + 'process/' + PERIMETER + '/'"
   ],
   "metadata": {
    "collapsed": false
   }
  },
  {
   "cell_type": "code",
   "execution_count": null,
   "outputs": [],
   "source": [
    "# =====================================================================================\n",
    "# LOAD DATA\n",
    "# =====================================================================================\n",
    "\n",
    "print('Load street graph')\n",
    "G = snman.io.load_street_graph(process_path + 'edges_all_attributes.gpkg', process_path + 'nodes_all_attributes.gpkg')\n",
    "\n",
    "print('Load rebuilding regions')\n",
    "# Polygons that define which streets will be reorganized\n",
    "rebuilding_regions_gdf = snman.io.load_rebuilding_regions(\n",
    "    inputs_path + 'rebuilding_regions/rebuilding_regions.gpkg'\n",
    ")"
   ],
   "metadata": {
    "collapsed": false
   }
  },
  {
   "cell_type": "code",
   "execution_count": null,
   "outputs": [],
   "source": [
    "print('Convert into a directed graph')\n",
    "# but unlike the built-in .to_directed() method, every undirected edge corresponds to one directed edge\n",
    "H = nx.MultiDiGraph()\n",
    "H.nodes = G.nodes\n",
    "H.graph = G.graph\n",
    "\n",
    "for id, data in dict(G.edges).items():\n",
    "    u,v,k = id\n",
    "    H.add_edge(u, v, key=k, **data)\n",
    "\n",
    "print('Organize edge directions')\n",
    "# so that every one-way street is digitized in the forward direction, otherwise MATSim can not import it properly\n",
    "snman.graph_tools.organize_edge_directions(H, method='by_osm_convention')\n",
    "\n",
    "print('Update OSM tags')\n",
    "# ensure that the osm tags of each edge match its lane configuration\n",
    "snman.update_osm_tags(H)"
   ],
   "metadata": {
    "collapsed": false
   }
  },
  {
   "cell_type": "code",
   "execution_count": null,
   "outputs": [],
   "source": [
    "print('Export OSM file')\n",
    "export_osm_tags = {\n",
    "        'highway', 'maxspeed',\n",
    "        'lanes', 'lanes:forward', 'lanes:backward', 'lanes:both_ways', 'oneway',\n",
    "        'cycleway', 'cycleway:lane', 'cycleway:left', 'cycleway:left:lane', 'cycleway:right', 'cycleway:right:lane',\n",
    "        'bus:lanes:backward', 'bus:lanes:forward', 'vehicle:lanes:backward', 'vehicle:lanes:forward',\n",
    "        '_connected_component'\n",
    "    }\n",
    "\n",
    "snman.io.export_osm_xml(H, export_path + 'osm.osm', export_osm_tags, uv_tags=True, tag_all_nodes=False)"
   ],
   "metadata": {
    "collapsed": false
   }
  }
 ],
 "metadata": {
  "kernelspec": {
   "display_name": "Python 3",
   "language": "python",
   "name": "python3"
  },
  "language_info": {
   "codemirror_mode": {
    "name": "ipython",
    "version": 2
   },
   "file_extension": ".py",
   "mimetype": "text/x-python",
   "name": "python",
   "nbconvert_exporter": "python",
   "pygments_lexer": "ipython2",
   "version": "2.7.6"
  }
 },
 "nbformat": 4,
 "nbformat_minor": 0
}
