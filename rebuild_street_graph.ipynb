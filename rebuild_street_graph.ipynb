{
 "cells": [
  {
   "cell_type": "code",
   "execution_count": 7,
   "outputs": [],
   "source": [
    "import geopandas as gpd\n",
    "import copy\n",
    "\n",
    "import networkx as nx\n",
    "import snman\n",
    "from snman import osmnx_customized as oxc\n",
    "\n",
    "# Set these paths according to your own setup\n",
    "data_directory = 'C:/Users/lballo/polybox/Research/SNMan/SNMan Shared/data/'\n",
    "inputs_path = data_directory + 'inputs/'\n",
    "export_path = data_directory + 'outputs/'\n",
    "process_path = data_directory + 'process/'"
   ],
   "metadata": {
    "collapsed": false
   }
  },
  {
   "cell_type": "code",
   "execution_count": 8,
   "outputs": [
    {
     "name": "stdout",
     "output_type": "stream",
     "text": [
      "Load street graph\n",
      "Load rebuilding regions\n"
     ]
    }
   ],
   "source": [
    "# =====================================================================================\n",
    "# LOAD DATA\n",
    "# =====================================================================================\n",
    "\n",
    "print('Load street graph')\n",
    "G = snman.io.load_street_graph(process_path + 'edges_all_attributes.gpkg', process_path + 'nodes_all_attributes.gpkg')\n",
    "\n",
    "print('Load rebuilding regions')\n",
    "# Polygons that define which streets will be reorganized\n",
    "rebuilding_regions_gdf = snman.io.load_rebuilding_regions(\n",
    "    inputs_path + 'rebuilding_regions/rebuilding_regions.gpkg'\n",
    ")"
   ],
   "metadata": {
    "collapsed": false
   }
  },
  {
   "cell_type": "code",
   "execution_count": 9,
   "outputs": [
    {
     "name": "stdout",
     "output_type": "stream",
     "text": [
      "Set given lanes\n",
      "Create directed graph of given lanes\n"
     ]
    }
   ],
   "source": [
    "# =====================================================================================\n",
    "# GIVEN LANES\n",
    "# =====================================================================================\n",
    "\n",
    "if 1:\n",
    "    print('Set given lanes')\n",
    "    snman.set_given_lanes(G, bidirectional_for_dead_ends=False)\n",
    "\n",
    "if 1:\n",
    "    print('Create directed graph of given lanes')\n",
    "    G_minimal_graph_input = snman.create_given_lanes_graph(G, hierarchies_to_remove={snman.hierarchy.HIGHWAY})"
   ],
   "metadata": {
    "collapsed": false
   }
  },
  {
   "cell_type": "code",
   "execution_count": 10,
   "outputs": [
    {
     "name": "stdout",
     "output_type": "stream",
     "text": [
      "Rebuild regions\n",
      "1 {'2_local_road'}\n",
      "Initialized graph has  36  nodes and  88  edges\n",
      "Iteration  1\n",
      "Iteration  2\n",
      "Iteration  3\n",
      "Iteration  4\n",
      "Iteration  5\n",
      "Iteration  6\n",
      "Iteration  7\n",
      "Iteration  8\n",
      "Iteration  9\n",
      "Iteration  10\n",
      "Iteration  11\n",
      "Iteration  12\n",
      "Iteration  13\n",
      "Iteration  14\n",
      "Iteration  15\n",
      "Iteration  16\n",
      "Iteration  17\n",
      "Iteration  18\n",
      "Iteration  19\n",
      "Iteration  20\n",
      "Iteration  21\n",
      "Iteration  22\n",
      "Iteration  23\n",
      "Iteration  24\n",
      "Iteration  25\n",
      "Iteration  26\n",
      "Iteration  27\n",
      "Iteration  28\n",
      "Iteration  29\n",
      "Iteration  30\n",
      "Iteration  31\n",
      "Iteration  32\n",
      "Iteration  33\n",
      "Iteration  34\n",
      "Iteration  35\n",
      "Iteration  36\n",
      "Iteration  37\n",
      "Iteration  38\n",
      "Iteration  39\n",
      "Iteration  40\n",
      "Iteration  41\n",
      "Iteration  42\n",
      "Iteration  43\n",
      "Iteration  44\n",
      "Iteration  45\n",
      "Iteration  46\n",
      "Iteration  47\n",
      "Iteration  48\n",
      "Iteration  49\n",
      "Iteration  50\n",
      "Iteration  51\n",
      "Iteration  52\n",
      "Iteration  53\n",
      "Iteration  54\n",
      "Iteration  55\n",
      "Iteration  56\n",
      "Iteration  57\n",
      "Iteration  58\n",
      "Iteration  59\n",
      "Iteration  60\n",
      "Iteration  61\n",
      "Iteration  62\n",
      "Iteration  63\n",
      "Iteration  64\n",
      "Iteration  65\n",
      "Iteration  66\n",
      "Iteration  67\n",
      "Iteration  68\n",
      "Iteration  69\n",
      "Iteration  70\n",
      "Iteration  71\n",
      "Iteration  72\n",
      "Iteration  73\n",
      "Iteration  74\n",
      "Iteration  75\n",
      "Iteration  76\n",
      "Iteration  77\n"
     ]
    }
   ],
   "source": [
    "# =====================================================================================\n",
    "# REBUILD\n",
    "# =====================================================================================\n",
    "\n",
    "if 1:\n",
    "    print('Rebuild regions')\n",
    "    snman.owtop.rebuild_regions(G, rebuilding_regions_gdf, verbose=True)"
   ],
   "metadata": {
    "collapsed": false
   }
  },
  {
   "cell_type": "code",
   "execution_count": 11,
   "outputs": [
    {
     "name": "stdout",
     "output_type": "stream",
     "text": [
      "Export network without lanes\n",
      "Export network with lanes\n"
     ]
    }
   ],
   "source": [
    "# =====================================================================================\n",
    "# EXPORT\n",
    "# =====================================================================================\n",
    "\n",
    "if 1:\n",
    "    print('Export network without lanes')\n",
    "    snman.export_streetgraph(G, export_path + 'edges_all_attributes.gpkg', export_path + 'nodes_all_attributes.gpkg')\n",
    "    snman.export_streetgraph(G, export_path + 'edges.gpkg', export_path + 'nodes.gpkg',\n",
    "        edge_columns=snman.constants.EXPORT_EDGE_COLUMNS\n",
    "    )\n",
    "\n",
    "if 0:\n",
    "    print('Export OSM XML')\n",
    "    snman.export_osm_xml(G, export_path + 'new_network.osm',{\n",
    "        'highway', 'lanes', 'lanes:forward', 'lanes:backward', 'lanes:both_ways',\n",
    "        'cycleway', 'cycleway:lane', 'cycleway:left', 'cycleway:left:lane', 'cycleway:right', 'cycleway:right:lane',\n",
    "        'bus:lanes:backward', 'bus:lanes:forward', 'vehicle:lanes:backward', 'vehicle:lanes:forward',\n",
    "        'maxspeed', 'oneway',\n",
    "        '_connected_component'\n",
    "    }, uv_tags=True, tag_all_nodes=True)\n",
    "\n",
    "if 1:\n",
    "    print('Export network with lanes')\n",
    "    snman.export_streetgraph_with_lanes(G, 'ln_desc', export_path + 'edges_lanes.shp', scaling=2)\n",
    "    snman.export_streetgraph_with_lanes(G, 'ln_desc_after', export_path + 'edges_lanes_after.shp', scaling=2)"
   ],
   "metadata": {
    "collapsed": false
   }
  }
 ],
 "metadata": {
  "kernelspec": {
   "display_name": "Python 3",
   "language": "python",
   "name": "python3"
  },
  "language_info": {
   "codemirror_mode": {
    "name": "ipython",
    "version": 2
   },
   "file_extension": ".py",
   "mimetype": "text/x-python",
   "name": "python",
   "nbconvert_exporter": "python",
   "pygments_lexer": "ipython2",
   "version": "2.7.6"
  }
 },
 "nbformat": 4,
 "nbformat_minor": 0
}
