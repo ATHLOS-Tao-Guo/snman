{
 "cells": [
  {
   "cell_type": "code",
   "execution_count": 1,
   "outputs": [
    {
     "name": "stderr",
     "output_type": "stream",
     "text": [
      "C:\\Users\\lballo\\AppData\\Roaming\\Python\\Python39\\site-packages\\osmnx\\utils.py:192: UserWarning: The `utils.config` function is deprecated and will be removed in a future release. Instead, use the `settings` module directly to configure a global setting's value. For example, `ox.settings.log_console=True`.\n",
      "  warnings.warn(\n"
     ]
    }
   ],
   "source": [
    "import geopandas as gpd\n",
    "import copy\n",
    "\n",
    "import networkx as nx\n",
    "import snman\n",
    "from snman import osmnx_customized as oxc\n",
    "\n",
    "# Set these paths according to your own setup\n",
    "data_directory = 'C:/Users/lballo/polybox/Research/SNMan/SNMan Shared/data/'\n",
    "inputs_path = data_directory + 'inputs/'\n",
    "export_path = data_directory + 'outputs/'\n",
    "process_path = data_directory + 'process/'"
   ],
   "metadata": {
    "collapsed": false
   }
  },
  {
   "cell_type": "code",
   "execution_count": 2,
   "outputs": [
    {
     "name": "stdout",
     "output_type": "stream",
     "text": [
      "Load street graph\n",
      "Load rebuilding regions\n"
     ]
    }
   ],
   "source": [
    "# =====================================================================================\n",
    "# LOAD DATA\n",
    "# =====================================================================================\n",
    "\n",
    "print('Load street graph')\n",
    "G = snman.io.load_street_graph(process_path + 'edges_all_attributes.gpkg', process_path + 'nodes_all_attributes.gpkg')\n",
    "\n",
    "print('Load rebuilding regions')\n",
    "# Polygons that define which streets will be reorganized\n",
    "rebuilding_regions_gdf = snman.io.load_rebuilding_regions(\n",
    "    inputs_path + 'rebuilding_regions/rebuilding_regions.gpkg'\n",
    ")"
   ],
   "metadata": {
    "collapsed": false
   }
  },
  {
   "cell_type": "code",
   "execution_count": 3,
   "outputs": [
    {
     "name": "stdout",
     "output_type": "stream",
     "text": [
      "Set given lanes\n",
      "Create directed graph of given lanes\n"
     ]
    }
   ],
   "source": [
    "# =====================================================================================\n",
    "# GIVEN LANES\n",
    "# =====================================================================================\n",
    "\n",
    "if 1:\n",
    "    print('Set given lanes')\n",
    "    snman.set_given_lanes(G, bidirectional_for_dead_ends=False)\n",
    "\n",
    "if 1:\n",
    "    print('Create directed graph of given lanes')\n",
    "    G_minimal_graph_input = snman.create_given_lanes_graph(G, hierarchies_to_remove={snman.hierarchy.HIGHWAY})"
   ],
   "metadata": {
    "collapsed": false
   }
  },
  {
   "cell_type": "code",
   "execution_count": null,
   "outputs": [
    {
     "name": "stdout",
     "output_type": "stream",
     "text": [
      "Rebuild regions\n",
      "Initialized graph has  2303  and  5020  edges\n"
     ]
    }
   ],
   "source": [
    "# =====================================================================================\n",
    "# REBUILD\n",
    "# =====================================================================================\n",
    "\n",
    "if 1:\n",
    "    print('Rebuild regions')\n",
    "    snman.owtop.rebuild_regions(G, rebuilding_regions_gdf)"
   ],
   "metadata": {
    "collapsed": false,
    "pycharm": {
     "is_executing": true
    }
   }
  },
  {
   "cell_type": "code",
   "execution_count": null,
   "outputs": [],
   "source": [
    "# =====================================================================================\n",
    "# EXPORT\n",
    "# =====================================================================================\n",
    "\n",
    "if 1:\n",
    "    print('Export network without lanes')\n",
    "    snman.export_streetgraph(G, export_path + 'edges_all_attributes.gpkg', export_path + 'nodes_all_attributes.gpkg')\n",
    "    snman.export_streetgraph(G, export_path + 'edges.gpkg', export_path + 'nodes.gpkg',\n",
    "        edge_columns=snman.constants.EXPORT_EDGE_COLUMNS\n",
    "    )\n",
    "\n",
    "if 0:\n",
    "    print('Export OSM XML')\n",
    "    snman.export_osm_xml(G, export_path + 'new_network.osm',{\n",
    "        'highway', 'lanes', 'lanes:forward', 'lanes:backward', 'lanes:both_ways',\n",
    "        'cycleway', 'cycleway:lane', 'cycleway:left', 'cycleway:left:lane', 'cycleway:right', 'cycleway:right:lane',\n",
    "        'bus:lanes:backward', 'bus:lanes:forward', 'vehicle:lanes:backward', 'vehicle:lanes:forward',\n",
    "        'maxspeed', 'oneway',\n",
    "        '_connected_component'\n",
    "    }, uv_tags=True, tag_all_nodes=True)\n",
    "\n",
    "if 1:\n",
    "    print('Export network with lanes')\n",
    "    snman.export_streetgraph_with_lanes(G, 'ln_desc', export_path + 'edges_lanes.shp', scaling=2)\n",
    "    snman.export_streetgraph_with_lanes(G, 'ln_desc_after', export_path + 'edges_lanes_after.shp', scaling=2)"
   ],
   "metadata": {
    "collapsed": false,
    "pycharm": {
     "is_executing": true
    }
   }
  }
 ],
 "metadata": {
  "kernelspec": {
   "display_name": "Python 3",
   "language": "python",
   "name": "python3"
  },
  "language_info": {
   "codemirror_mode": {
    "name": "ipython",
    "version": 2
   },
   "file_extension": ".py",
   "mimetype": "text/x-python",
   "name": "python",
   "nbconvert_exporter": "python",
   "pygments_lexer": "ipython2",
   "version": "2.7.6"
  }
 },
 "nbformat": 4,
 "nbformat_minor": 0
}
