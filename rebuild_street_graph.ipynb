{
 "cells": [
  {
   "cell_type": "markdown",
   "source": [
    "Rebuild street graph\n",
    "====================\n",
    "Loads a street graph and reallocates roads space, e.g., into a network of one-way streets"
   ],
   "metadata": {
    "collapsed": false
   }
  },
  {
   "cell_type": "code",
   "execution_count": null,
   "outputs": [],
   "source": [
    "import snman\n",
    "from snman import osmnx_customized as oxc\n",
    "from snman.constants import *\n",
    "import geopandas as gpd\n",
    "\n",
    "PERIMETER = '_debug'\n",
    "# Set SAVE_TO_DEBUG = True for saving the results into the _debug folder\n",
    "# which is automatically used in the QGIS files\n",
    "SAVE_TO_DEBUG = True\n",
    "\n",
    "# Set these paths according to your own setup\n",
    "data_directory = 'C:/Users/lballo/polybox/Research/SNMan/SNMan Shared/data/'\n",
    "inputs_path = data_directory + 'inputs/'\n",
    "process_path = data_directory + 'process/' + PERIMETER + '/'\n",
    "\n",
    "if SAVE_TO_DEBUG:\n",
    "    export_path = data_directory + 'outputs/' + '_debug' + '/'\n",
    "else:\n",
    "    export_path = data_directory + 'outputs/' + PERIMETER + '/'"
   ],
   "metadata": {
    "collapsed": false
   }
  },
  {
   "cell_type": "code",
   "execution_count": null,
   "outputs": [],
   "source": [
    "# =====================================================================================\n",
    "# LOAD DATA\n",
    "# =====================================================================================\n",
    "\n",
    "print('Load street graph')\n",
    "G = snman.io.load_street_graph(process_path + 'edges_all_attributes.gpkg', process_path + 'nodes_all_attributes.gpkg')\n",
    "\n",
    "print('Load rebuilding regions')\n",
    "# Polygons that define which streets will be reorganized\n",
    "rebuilding_regions_gdf = snman.io.load_rebuilding_regions(\n",
    "    inputs_path + 'rebuilding_regions/rebuilding_regions.gpkg'\n",
    ")\n",
    "\n",
    "print('Load measurement regions')\n",
    "# Polygons that define areas where network measures will be calculated\n",
    "measurement_regions_gdf = snman.io.load_measurement_regions(\n",
    "    inputs_path + 'measurement_regions/measurement_regions.gpkg'\n",
    ")\n",
    "\n",
    "print('Load perimeters')\n",
    "perimeters_gdf = snman.load_perimeters(inputs_path + 'perimeters/perimeters.shp')"
   ],
   "metadata": {
    "collapsed": false
   }
  },
  {
   "cell_type": "code",
   "execution_count": null,
   "outputs": [],
   "source": [
    "print('Load POIs')\n",
    "poi_gpd = snman.io.load_poi(inputs_path + 'poi/poi.gpkg').clip(perimeters_gdf.loc['zrh_north-west'].geometry)"
   ],
   "metadata": {
    "collapsed": false
   }
  },
  {
   "cell_type": "code",
   "execution_count": null,
   "outputs": [],
   "source": [
    "# =====================================================================================\n",
    "# GIVEN LANES\n",
    "# =====================================================================================\n",
    "\n",
    "if 1:\n",
    "    print('Set given lanes')\n",
    "    snman.set_given_lanes(G, bidirectional_for_dead_ends=False)\n",
    "\n",
    "if 1:\n",
    "    print('Create directed graph of given lanes')\n",
    "    G_minimal_graph_input = snman.create_given_lanes_graph(G, hierarchies_to_remove={snman.hierarchy.HIGHWAY})"
   ],
   "metadata": {
    "collapsed": false
   }
  },
  {
   "cell_type": "code",
   "execution_count": null,
   "outputs": [],
   "source": [
    "# =====================================================================================\n",
    "# REBUILD\n",
    "# =====================================================================================\n",
    "\n",
    "if 1:\n",
    "    print('Rebuild regions')\n",
    "    snman.owtop.rebuild_regions(G, rebuilding_regions_gdf, verbose=True)\n",
    "    snman.generate_lane_stats(G, lanes_attribute=snman.constants.KEY_LANES_DESCRIPTION_AFTER)"
   ],
   "metadata": {
    "collapsed": false
   }
  },
  {
   "cell_type": "code",
   "execution_count": null,
   "outputs": [],
   "source": [
    "import networkx as nx\n",
    "\n",
    "H = oxc.truncate.truncate_graph_polygon(\n",
    "    G,\n",
    "    measurement_regions_gdf.loc[0].geometry,\n",
    "    quadrat_width=100,\n",
    "    retain_all=True\n",
    ")\n"
   ],
   "metadata": {
    "collapsed": false
   }
  },
  {
   "cell_type": "code",
   "execution_count": null,
   "outputs": [],
   "source": [
    "L = snman.graph_tools.street_graph_to_lane_graph(H, MODE_PRIVATE_CARS, KEY_LANES_DESCRIPTION_AFTER)\n",
    "oxc.plot_graph(L)"
   ],
   "metadata": {
    "collapsed": false
   }
  },
  {
   "cell_type": "code",
   "execution_count": null,
   "outputs": [],
   "source": [
    "import pandas as pd\n",
    "\n",
    "# calculate lane graph stats for different modes before and after the rebuild\n",
    "\n",
    "res = pd.DataFrame([\n",
    "    snman.graph_tools.calculate_lane_graph_stats(\n",
    "        snman.graph_tools.street_graph_to_lane_graph(H, MODE_PRIVATE_CARS, KEY_LANES_DESCRIPTION)\n",
    "    ),\n",
    "    snman.graph_tools.calculate_lane_graph_stats(\n",
    "        snman.graph_tools.street_graph_to_lane_graph(H, MODE_PRIVATE_CARS, KEY_LANES_DESCRIPTION_AFTER)\n",
    "    ),\n",
    "    snman.graph_tools.calculate_lane_graph_stats(\n",
    "        snman.graph_tools.street_graph_to_lane_graph(H, MODE_CYCLING, KEY_LANES_DESCRIPTION)\n",
    "    ),\n",
    "    snman.graph_tools.calculate_lane_graph_stats(\n",
    "        snman.graph_tools.street_graph_to_lane_graph(H, MODE_CYCLING, KEY_LANES_DESCRIPTION_AFTER)\n",
    "    ),\n",
    "    snman.graph_tools.calculate_lane_graph_stats(\n",
    "        snman.graph_tools.street_graph_to_lane_graph(H, MODE_TRANSIT, KEY_LANES_DESCRIPTION)\n",
    "    ),\n",
    "    snman.graph_tools.calculate_lane_graph_stats(\n",
    "        snman.graph_tools.street_graph_to_lane_graph(H, MODE_TRANSIT, KEY_LANES_DESCRIPTION_AFTER)\n",
    "    )\n",
    "])\n",
    "\n",
    "res['mode'] = [MODE_PRIVATE_CARS, MODE_PRIVATE_CARS, MODE_CYCLING, MODE_CYCLING, MODE_TRANSIT, MODE_TRANSIT]\n",
    "res['situation'] = ['before', 'after', 'before', 'after', 'before', 'after']\n",
    "\n",
    "res = res.set_index(['mode', 'situation']).transpose()\n",
    "\n",
    "res"
   ],
   "metadata": {
    "collapsed": false
   }
  },
  {
   "cell_type": "code",
   "execution_count": null,
   "outputs": [],
   "source": [
    "# =====================================================================================\n",
    "# EXPORT\n",
    "# =====================================================================================\n",
    "\n",
    "if 1:\n",
    "    print('Export network without lanes')\n",
    "    snman.export_street_graph(G, export_path + 'edges_all_attributes.gpkg', export_path + 'nodes_all_attributes.gpkg')\n",
    "    snman.export_street_graph(G, export_path + 'edges.gpkg', export_path + 'nodes.gpkg',\n",
    "        edge_columns=snman.constants.EXPORT_EDGE_COLUMNS\n",
    "    )\n",
    "\n",
    "if 0:\n",
    "    print('Export OSM XML')\n",
    "    snman.export_osm_xml(G, export_path + 'new_network.osm',{\n",
    "        'highway', 'lanes', 'lanes:forward', 'lanes:backward', 'lanes:both_ways',\n",
    "        'cycleway', 'cycleway:lane', 'cycleway:left', 'cycleway:left:lane', 'cycleway:right', 'cycleway:right:lane',\n",
    "        'bus:lanes:backward', 'bus:lanes:forward', 'vehicle:lanes:backward', 'vehicle:lanes:forward',\n",
    "        'maxspeed', 'oneway',\n",
    "        '_connected_component'\n",
    "    }, uv_tags=True, tag_all_nodes=True)\n",
    "\n",
    "if 1:\n",
    "    print('Export network with lanes')\n",
    "    snman.export_street_graph_with_lanes(G, 'ln_desc', export_path + 'edges_lanes.shp', scaling=4)\n",
    "    snman.export_street_graph_with_lanes(G, 'ln_desc_after', export_path + 'edges_lanes_after.shp', scaling=4)"
   ],
   "metadata": {
    "collapsed": false
   }
  },
  {
   "cell_type": "code",
   "execution_count": null,
   "outputs": [],
   "source": [
    "L = snman.graph_tools.street_graph_to_lane_graph(G, MODE_CYCLING, KEY_LANES_DESCRIPTION_AFTER)\n",
    "\n",
    "# Snap POIs\n",
    "nodes = oxc.graph_to_gdfs(L, edges=False)\n",
    "nodes['node_geom'] = nodes.geometry\n",
    "snapped_poi_gpd = gpd.sjoin_nearest(poi_gpd, nodes, how='inner', max_distance=1000)[['index_right','node_geom']]\\\n",
    "    .rename(columns={'node_geom':'geometry'}).set_geometry('geometry').set_index('index_right')\n",
    "\n",
    "\n",
    "# Cost List\n",
    "\n",
    "import itertools as it\n",
    "import shapely as shp\n",
    "import pandas as pd\n",
    "\n",
    "ods = it.permutations(snapped_poi_gpd.index, 2)\n",
    "a = gpd.GeoDataFrame(ods, columns=['origin', 'destination'])\n",
    "\n",
    "a['origin_geom'] = snapped_poi_gpd.merge(a, left_index=True, right_on='origin')['geometry']\n",
    "a['destination_geom'] = snapped_poi_gpd.merge(a, left_index=True, right_on='destination')['geometry']\n",
    "a['od_line_geom'] = a.apply(\n",
    "    lambda row: shp.LineString([row['origin_geom'], row['destination_geom']]),\n",
    "    axis=1).set_crs(2056)\n",
    "a['cost'] = a.apply(\n",
    "    lambda row: nx.shortest_path_length(L, source=row['origin'], target=row['destination'], weight='cost'),\n",
    "    axis=1)\n",
    "a['od_path_geom'] = a.apply(\n",
    "    lambda row: shp.LineString(\n",
    "        nodes.loc[nx.shortest_path(L, source=row['origin'], target=row['destination'], weight='cost')]['geometry'])\n",
    "    ,axis=1).set_crs(2056)\n",
    "\n",
    "a_complete = a\n",
    "a = a[['origin', 'destination', 'cost', 'od_path_geom']]\n",
    "a = a.set_geometry('od_path_geom')\n",
    "a.to_file(export_path + 'od.gpkg')\n",
    "\n",
    "# List of Points\n",
    "snapped_poi_gpd.to_file(export_path + 'cartogram_points.gpkg')\n",
    "\n",
    "# OD Matrix\n",
    "M = pd.DataFrame(index=snapped_poi_gpd.index, columns=snapped_poi_gpd.index)\n",
    "M.index.name = None\n",
    "\n",
    "for idx, row in a.iterrows():\n",
    "    M.loc[row['origin'], row['destination']] = row['cost']\n",
    "    M.loc[row['origin'], row['origin']] = 0\n",
    "    M.loc[row['destination'], row['destination']] = 0\n",
    "\n",
    "M.to_csv(export_path + 'od.csv')"
   ],
   "metadata": {
    "collapsed": false
   }
  }
 ],
 "metadata": {
  "kernelspec": {
   "display_name": "Python 3",
   "language": "python",
   "name": "python3"
  },
  "language_info": {
   "codemirror_mode": {
    "name": "ipython",
    "version": 2
   },
   "file_extension": ".py",
   "mimetype": "text/x-python",
   "name": "python",
   "nbconvert_exporter": "python",
   "pygments_lexer": "ipython2",
   "version": "2.7.6"
  }
 },
 "nbformat": 4,
 "nbformat_minor": 0
}
