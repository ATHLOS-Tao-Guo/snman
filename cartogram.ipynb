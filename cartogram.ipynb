{
 "cells": [
  {
   "cell_type": "markdown",
   "source": [
    "Cartogram\n",
    "=========\n",
    "Preparing a network of OD-pairs for time cartograms, as an input for the QGIS cartogram plugin.\n",
    "(Under development, not ready yet)"
   ],
   "metadata": {
    "collapsed": false
   }
  },
  {
   "cell_type": "code",
   "execution_count": 38,
   "outputs": [],
   "source": [
    "import snman\n",
    "import networkx as nx\n",
    "from snman import osmnx_customized as oxc\n",
    "import geopandas as gpd\n",
    "\n",
    "PERIMETER = 'zollikerberg'\n",
    "\n",
    "# Set these paths according to your own setup\n",
    "data_directory = 'C:/Users/lballo/polybox/Research/SNMan/SNMan Shared/data/'\n",
    "inputs_path = data_directory + 'inputs/'\n",
    "export_path = data_directory + 'outputs/_active/'\n",
    "process_path = data_directory + 'process/' + PERIMETER + '/'"
   ],
   "metadata": {
    "collapsed": false
   }
  },
  {
   "cell_type": "code",
   "execution_count": 39,
   "outputs": [
    {
     "name": "stdout",
     "output_type": "stream",
     "text": [
      "Load perimeters\n",
      "Load street graph\n",
      "Load POIs\n"
     ]
    }
   ],
   "source": [
    "# =====================================================================================\n",
    "# LOAD DATA\n",
    "# =====================================================================================\n",
    "\n",
    "print('Load perimeters')\n",
    "perimeters = snman.load_perimeters(inputs_path + 'perimeters/perimeters.shp', filter=[PERIMETER])\n",
    "\n",
    "print('Load street graph')\n",
    "G = snman.io.load_street_graph(process_path + 'edges_all_attributes.gpkg', process_path + 'nodes_all_attributes.gpkg')\n",
    "\n",
    "print('Load POIs')\n",
    "poi = snman.io.load_poi(inputs_path + 'poi/poi.gpkg', perimeter=perimeters)"
   ],
   "metadata": {
    "collapsed": false
   }
  },
  {
   "cell_type": "code",
   "execution_count": 40,
   "outputs": [],
   "source": [
    "def calculate_link_cost(mode, length, grade, speed_limit, cost_factor):\n",
    "    if mode == 'cycling':\n",
    "        return length * cost_factor\n",
    "    else:\n",
    "        raise 'Mode not implemented: ' + mode\n",
    "\n",
    "\n",
    "def build_mode_specific_graph(G, mode, forward_key, backward_key):\n",
    "\n",
    "    H = nx.MultiDiGraph()\n",
    "    H.graph = G.graph\n",
    "    H.nodes = G.nodes\n",
    "\n",
    "    for uvk, data in G.edges.items():\n",
    "        u,v,k = uvk\n",
    "\n",
    "        length = data.get('length')\n",
    "        grade = data.get('grade')\n",
    "        cost_factor = 1\n",
    "\n",
    "        forward_offer = data.get(forward_key)\n",
    "        forward_properties = snman.lanes._lane_properties(forward_offer)\n",
    "        if mode == 'cycling':\n",
    "            cost_factor = forward_properties.cycling_cost_factor\n",
    "        if forward_properties.valid:\n",
    "            H.add_edge(u, v, offer=forward_offer, cost_factor=cost_factor, cost=calculate_link_cost(mode, length, grade, None, cost_factor) * 0.5)\n",
    "\n",
    "        backward_offer = data.get(backward_key)\n",
    "        backward_properties = snman.lanes._lane_properties(backward_offer)\n",
    "        if mode == 'cycling':\n",
    "            cost_factor = backward_properties.cycling_cost_factor\n",
    "        if backward_properties.valid:\n",
    "            H.add_edge(v, u, offer=backward_offer, cost=calculate_link_cost(mode, length, grade, None, cost_factor))\n",
    "\n",
    "    return H\n",
    "\n",
    "G_cycling = build_mode_specific_graph(G, 'cycling', 'cycling_forward', 'cycling_backward')"
   ],
   "metadata": {
    "collapsed": false
   }
  },
  {
   "cell_type": "code",
   "execution_count": 41,
   "outputs": [],
   "source": [
    "# snap poi's to the network\n",
    "nodes = oxc.graph_to_gdfs(G_cycling, edges=False)\n",
    "nodes['node_geom'] = nodes.geometry\n",
    "\n",
    "poi_snapped = gpd.sjoin_nearest(poi, nodes, how='inner', max_distance=100)[['index_right','node_geom']].rename(columns={'node_geom':'geometry'}).set_geometry('geometry').set_index('index_right')"
   ],
   "metadata": {
    "collapsed": false
   }
  },
  {
   "cell_type": "code",
   "execution_count": 42,
   "outputs": [],
   "source": [],
   "metadata": {
    "collapsed": false
   }
  },
  {
   "cell_type": "code",
   "execution_count": 43,
   "outputs": [],
   "source": [
    "# Cost List\n",
    "\n",
    "import itertools as it\n",
    "import shapely as shp\n",
    "\n",
    "ods = it.permutations(poi_snapped.index, 2)\n",
    "a = gpd.GeoDataFrame(ods, columns=['origin', 'destination'])\n",
    "\n",
    "a['origin_geom'] = poi_snapped.merge(a, left_index=True, right_on='origin')['geometry']\n",
    "a['destination_geom'] = poi_snapped.merge(a, left_index=True, right_on='destination')['geometry']\n",
    "a['od_line_geom'] = a.apply(lambda row: shp.LineString([row['origin_geom'], row['destination_geom']]), axis=1).set_crs(2056)\n",
    "a['cycling_cost'] = a.apply(lambda row: nx.shortest_path_length(G_cycling, source=row['origin'], target=row['destination'], weight='cost'), axis=1)\n",
    "\n",
    "a['od_path_geom'] = a.apply(lambda row: shp.LineString(nodes.loc[\n",
    "    nx.shortest_path(G_cycling, source=row['origin'], target=row['destination'], weight='cost')\n",
    "]['geometry']), axis=1).set_crs(2056)\n",
    "\n",
    "a_complete = a\n",
    "a = a[['origin', 'destination', 'cycling_cost', 'od_path_geom']]\n",
    "a = a.set_geometry('od_path_geom')\n",
    "a.to_file(export_path + 'od.gpkg')\n",
    "\n",
    "a[['origin', 'destination', 'cycling_cost']].to_csv(export_path + 'od.csv')\n",
    "\n",
    "#snman.export_gdf(a, export_path + 'od.gpkg')\n"
   ],
   "metadata": {
    "collapsed": false
   }
  },
  {
   "cell_type": "code",
   "execution_count": 44,
   "outputs": [],
   "source": [
    "# List of Points\n",
    "\n",
    "poi_snapped.to_file(export_path + 'cartogram_points.gpkg')\n",
    "\n"
   ],
   "metadata": {
    "collapsed": false
   }
  },
  {
   "cell_type": "code",
   "execution_count": 45,
   "outputs": [],
   "source": [
    "# OD Matrix\n",
    "\n",
    "import numpy as np\n",
    "import pandas as pd\n",
    "\n",
    "M = pd.DataFrame(index=poi_snapped.index, columns=poi_snapped.index)\n",
    "M.index.name = None\n",
    "\n",
    "for idx, row in a.iterrows():\n",
    "    M.loc[row['origin'], row['destination']] = row['cycling_cost']\n",
    "    M.loc[row['origin'], row['origin']] = 0\n",
    "    M.loc[row['destination'], row['destination']] = 0\n",
    "\n",
    "M.to_csv(export_path + 'od.csv')"
   ],
   "metadata": {
    "collapsed": false
   }
  }
 ],
 "metadata": {
  "kernelspec": {
   "display_name": "Python 3",
   "language": "python",
   "name": "python3"
  },
  "language_info": {
   "codemirror_mode": {
    "name": "ipython",
    "version": 2
   },
   "file_extension": ".py",
   "mimetype": "text/x-python",
   "name": "python",
   "nbconvert_exporter": "python",
   "pygments_lexer": "ipython2",
   "version": "2.7.6"
  }
 },
 "nbformat": 4,
 "nbformat_minor": 0
}
